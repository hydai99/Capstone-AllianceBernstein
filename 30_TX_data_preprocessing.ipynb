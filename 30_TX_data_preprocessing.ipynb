{
 "cells": [
  {
   "attachments": {},
   "cell_type": "markdown",
   "metadata": {},
   "source": [
    "# Import libraries and data"
   ]
  },
  {
   "cell_type": "code",
   "execution_count": 55,
   "metadata": {},
   "outputs": [],
   "source": [
    "import pandas as pd\n",
    "import os\n",
    "import numpy as np\n",
    "import plotly.graph_objs as go\n",
    "import plotly.express as px\n",
    "import warnings\n",
    "warnings.filterwarnings(\"ignore\")\n",
    "\n",
    "import pickle\n",
    "with open(\"TX_data/variables.pickle\", \"rb\") as f:\n",
    "    me_2017,me_2018,me_2019,me_2021,me_2022,df_metric_2017,df_metric_2018,df_metric_2019,df_metric_2021,df_metric_2022,df_me_2017,df_me_2018,df_me_2019,df_me_2021,df_me_2022,metric_year,df3= pickle.load(f)\n",
    "\n",
    "with open(\"TX_data/variables2.pickle\", \"rb\") as f:\n",
    "    df_me = pickle.load(f)"
   ]
  },
  {
   "cell_type": "markdown",
   "metadata": {},
   "source": [
    "# Data Preprocess"
   ]
  },
  {
   "attachments": {},
   "cell_type": "markdown",
   "metadata": {},
   "source": [
    "## 1. abbreviations_explanation"
   ]
  },
  {
   "cell_type": "code",
   "execution_count": null,
   "metadata": {},
   "outputs": [],
   "source": [
    "abb=pd.read_csv('TX_data/abbreviations_explanation.csv')\n",
    "df_split = abb['meaning'].str.split('(', expand=True)\n",
    "abb['meaning']=df_split[0]\n",
    "abb['abbr'] = abb['abbr'].combine_first(df_split[1].str.replace(')', '') )\n",
    "abb.to_csv('/Users/dai/Desktop/abbreviations.csv')"
   ]
  },
  {
   "cell_type": "code",
   "execution_count": 56,
   "metadata": {},
   "outputs": [],
   "source": [
    "abb=pd.read_csv('TX_data/abbreviations.csv')"
   ]
  },
  {
   "attachments": {},
   "cell_type": "markdown",
   "metadata": {},
   "source": [
    "## 2. Aggregating TAPR_District Reports by Year"
   ]
  },
  {
   "cell_type": "code",
   "execution_count": null,
   "metadata": {},
   "outputs": [],
   "source": [
    "folder_path = 'TX_data/TAPR_District/'\n",
    "\n",
    "for year in [2017, 2018,2019,2021,2022]: \n",
    "    i=0\n",
    "    merged_df = pd.DataFrame()\n",
    "    \n",
    "    subfolder_path = os.path.join(folder_path, str(year))\n",
    "    \n",
    "    for filename in os.listdir(subfolder_path):\n",
    "         \n",
    "        if filename.endswith('.csv')  or filename.endswith('.xls'):\n",
    "            file_path = os.path.join(subfolder_path, filename)\n",
    "\n",
    "            if filename.endswith('.csv'):\n",
    "                df = pd.read_csv(file_path, index_col=0)\n",
    "            elif filename.endswith('.xls'):\n",
    "                df = pd.read_html(file_path)[0]\n",
    "            if i==0:\n",
    "                merged_df = pd.concat([merged_df, df])\n",
    "            else:\n",
    "                merged_df = pd.merge(merged_df, df,how='left',on='DISTRICT')\n",
    "        i+=1\n",
    "            \n",
    "    merged_df.to_csv(folder_path+'TAPR_'+str(year)+'.csv')"
   ]
  },
  {
   "attachments": {},
   "cell_type": "markdown",
   "metadata": {},
   "source": [
    "## 3. Pre-process house price data"
   ]
  },
  {
   "cell_type": "code",
   "execution_count": 58,
   "metadata": {},
   "outputs": [
    {
     "data": {
      "text/html": [
       "<div>\n",
       "<style scoped>\n",
       "    .dataframe tbody tr th:only-of-type {\n",
       "        vertical-align: middle;\n",
       "    }\n",
       "\n",
       "    .dataframe tbody tr th {\n",
       "        vertical-align: top;\n",
       "    }\n",
       "\n",
       "    .dataframe thead th {\n",
       "        text-align: right;\n",
       "    }\n",
       "</style>\n",
       "<table border=\"1\" class=\"dataframe\">\n",
       "  <thead>\n",
       "    <tr style=\"text-align: right;\">\n",
       "      <th></th>\n",
       "      <th>period_begin</th>\n",
       "      <th>period_end</th>\n",
       "      <th>period_duration</th>\n",
       "      <th>region_type</th>\n",
       "      <th>region_type_id</th>\n",
       "      <th>table_id</th>\n",
       "      <th>is_seasonally_adjusted</th>\n",
       "      <th>zipcode</th>\n",
       "      <th>city</th>\n",
       "      <th>state</th>\n",
       "      <th>...</th>\n",
       "      <th>price_drops</th>\n",
       "      <th>price_drops_mom</th>\n",
       "      <th>price_drops_yoy</th>\n",
       "      <th>off_market_in_two_weeks</th>\n",
       "      <th>off_market_in_two_weeks_mom</th>\n",
       "      <th>off_market_in_two_weeks_yoy</th>\n",
       "      <th>parent_metro_region</th>\n",
       "      <th>parent_metro_region_metro_code</th>\n",
       "      <th>last_updated</th>\n",
       "      <th>area</th>\n",
       "    </tr>\n",
       "  </thead>\n",
       "  <tbody>\n",
       "    <tr>\n",
       "      <th>2460</th>\n",
       "      <td>2015-01-01</td>\n",
       "      <td>2015-03-31</td>\n",
       "      <td>90</td>\n",
       "      <td>zip code</td>\n",
       "      <td>2</td>\n",
       "      <td>32085</td>\n",
       "      <td>f</td>\n",
       "      <td>75001</td>\n",
       "      <td>NaN</td>\n",
       "      <td>Texas</td>\n",
       "      <td>...</td>\n",
       "      <td>NaN</td>\n",
       "      <td>NaN</td>\n",
       "      <td>NaN</td>\n",
       "      <td>0.266667</td>\n",
       "      <td>-0.233333</td>\n",
       "      <td>-0.019048</td>\n",
       "      <td>Dallas, TX</td>\n",
       "      <td>19124</td>\n",
       "      <td>2023-03-12 14:49:18</td>\n",
       "      <td>1907.636540</td>\n",
       "    </tr>\n",
       "    <tr>\n",
       "      <th>574</th>\n",
       "      <td>2015-01-01</td>\n",
       "      <td>2015-03-31</td>\n",
       "      <td>90</td>\n",
       "      <td>zip code</td>\n",
       "      <td>2</td>\n",
       "      <td>32085</td>\n",
       "      <td>f</td>\n",
       "      <td>75001</td>\n",
       "      <td>NaN</td>\n",
       "      <td>Texas</td>\n",
       "      <td>...</td>\n",
       "      <td>NaN</td>\n",
       "      <td>NaN</td>\n",
       "      <td>NaN</td>\n",
       "      <td>0.666667</td>\n",
       "      <td>0.166667</td>\n",
       "      <td>0.541667</td>\n",
       "      <td>Dallas, TX</td>\n",
       "      <td>19124</td>\n",
       "      <td>2023-03-12 14:49:18</td>\n",
       "      <td>1840.941176</td>\n",
       "    </tr>\n",
       "    <tr>\n",
       "      <th>1089</th>\n",
       "      <td>2015-01-01</td>\n",
       "      <td>2015-03-31</td>\n",
       "      <td>90</td>\n",
       "      <td>zip code</td>\n",
       "      <td>2</td>\n",
       "      <td>32085</td>\n",
       "      <td>f</td>\n",
       "      <td>75001</td>\n",
       "      <td>NaN</td>\n",
       "      <td>Texas</td>\n",
       "      <td>...</td>\n",
       "      <td>NaN</td>\n",
       "      <td>NaN</td>\n",
       "      <td>NaN</td>\n",
       "      <td>NaN</td>\n",
       "      <td>NaN</td>\n",
       "      <td>NaN</td>\n",
       "      <td>Dallas, TX</td>\n",
       "      <td>19124</td>\n",
       "      <td>2023-03-12 14:49:18</td>\n",
       "      <td>1794.108260</td>\n",
       "    </tr>\n",
       "  </tbody>\n",
       "</table>\n",
       "<p>3 rows × 59 columns</p>\n",
       "</div>"
      ],
      "text/plain": [
       "     period_begin period_end  period_duration region_type  region_type_id  \\\n",
       "2460   2015-01-01 2015-03-31               90    zip code               2   \n",
       "574    2015-01-01 2015-03-31               90    zip code               2   \n",
       "1089   2015-01-01 2015-03-31               90    zip code               2   \n",
       "\n",
       "      table_id is_seasonally_adjusted zipcode  city  state  ... price_drops  \\\n",
       "2460     32085                      f   75001   NaN  Texas  ...         NaN   \n",
       "574      32085                      f   75001   NaN  Texas  ...         NaN   \n",
       "1089     32085                      f   75001   NaN  Texas  ...         NaN   \n",
       "\n",
       "     price_drops_mom  price_drops_yoy  off_market_in_two_weeks  \\\n",
       "2460             NaN              NaN                 0.266667   \n",
       "574              NaN              NaN                 0.666667   \n",
       "1089             NaN              NaN                      NaN   \n",
       "\n",
       "      off_market_in_two_weeks_mom  off_market_in_two_weeks_yoy  \\\n",
       "2460                    -0.233333                    -0.019048   \n",
       "574                      0.166667                     0.541667   \n",
       "1089                          NaN                          NaN   \n",
       "\n",
       "      parent_metro_region  parent_metro_region_metro_code  \\\n",
       "2460           Dallas, TX                           19124   \n",
       "574            Dallas, TX                           19124   \n",
       "1089           Dallas, TX                           19124   \n",
       "\n",
       "             last_updated         area  \n",
       "2460  2023-03-12 14:49:18  1907.636540  \n",
       "574   2023-03-12 14:49:18  1840.941176  \n",
       "1089  2023-03-12 14:49:18  1794.108260  \n",
       "\n",
       "[3 rows x 59 columns]"
      ]
     },
     "execution_count": 58,
     "metadata": {},
     "output_type": "execute_result"
    }
   ],
   "source": [
    "dh = pd.read_csv('TX_data/zip_code_market_tracker.tsv000', sep='\\t')\n",
    "\n",
    "# Select the desired area\n",
    "dh=dh[dh['state']=='Texas']\n",
    "dh['period_begin'] = pd.to_datetime(dh['period_begin'])\n",
    "dh['period_end'] = pd.to_datetime(dh['period_end'])\n",
    "dh=dh[dh['period_begin'].dt.year >= 2015]\n",
    "\n",
    "dh['area']=dh['median_sale_price']/dh['median_ppsf']\n",
    "dh['region']=dh['region'].str.replace('Zip Code: ','')\n",
    "dh.rename(columns={'region':'zipcode'},inplace=True)\n",
    "dh['zipcode'] = dh['zipcode'].astype(str)\n",
    "\n",
    "dh=dh.sort_values('period_begin').reset_index(drop=True)\n",
    "dh=dh.sort_values(['zipcode','period_begin','period_end','property_type_id'])\n",
    "\n",
    "dh.head(3)"
   ]
  },
  {
   "cell_type": "code",
   "execution_count": 59,
   "metadata": {},
   "outputs": [
    {
     "data": {
      "text/html": [
       "<div>\n",
       "<style scoped>\n",
       "    .dataframe tbody tr th:only-of-type {\n",
       "        vertical-align: middle;\n",
       "    }\n",
       "\n",
       "    .dataframe tbody tr th {\n",
       "        vertical-align: top;\n",
       "    }\n",
       "\n",
       "    .dataframe thead th {\n",
       "        text-align: right;\n",
       "    }\n",
       "</style>\n",
       "<table border=\"1\" class=\"dataframe\">\n",
       "  <thead>\n",
       "    <tr style=\"text-align: right;\">\n",
       "      <th></th>\n",
       "      <th>zipcode</th>\n",
       "      <th>period_end</th>\n",
       "      <th>median_ppsf</th>\n",
       "      <th>area</th>\n",
       "      <th>year</th>\n",
       "      <th>median_ppsf_prev</th>\n",
       "      <th>median_ppsf_change_percent</th>\n",
       "    </tr>\n",
       "  </thead>\n",
       "  <tbody>\n",
       "    <tr>\n",
       "      <th>57670</th>\n",
       "      <td>75001</td>\n",
       "      <td>2016-12-31</td>\n",
       "      <td>163.327769</td>\n",
       "      <td>1910.269165</td>\n",
       "      <td>2017</td>\n",
       "      <td>147.026432</td>\n",
       "      <td>11.087351</td>\n",
       "    </tr>\n",
       "    <tr>\n",
       "      <th>90049</th>\n",
       "      <td>75001</td>\n",
       "      <td>2017-12-31</td>\n",
       "      <td>179.076343</td>\n",
       "      <td>2091.750332</td>\n",
       "      <td>2018</td>\n",
       "      <td>163.327769</td>\n",
       "      <td>9.642313</td>\n",
       "    </tr>\n",
       "    <tr>\n",
       "      <th>121915</th>\n",
       "      <td>75001</td>\n",
       "      <td>2018-12-31</td>\n",
       "      <td>169.685669</td>\n",
       "      <td>2121.569859</td>\n",
       "      <td>2019</td>\n",
       "      <td>179.076343</td>\n",
       "      <td>-5.243950</td>\n",
       "    </tr>\n",
       "  </tbody>\n",
       "</table>\n",
       "</div>"
      ],
      "text/plain": [
       "       zipcode period_end  median_ppsf         area  year  median_ppsf_prev  \\\n",
       "57670    75001 2016-12-31   163.327769  1910.269165  2017        147.026432   \n",
       "90049    75001 2017-12-31   179.076343  2091.750332  2018        163.327769   \n",
       "121915   75001 2018-12-31   169.685669  2121.569859  2019        179.076343   \n",
       "\n",
       "        median_ppsf_change_percent  \n",
       "57670                    11.087351  \n",
       "90049                     9.642313  \n",
       "121915                   -5.243950  "
      ]
     },
     "execution_count": 59,
     "metadata": {},
     "output_type": "execute_result"
    }
   ],
   "source": [
    "# Choose related field\n",
    "dh1=dh.loc[dh['property_type']=='All Residential',['zipcode', 'period_end','median_ppsf','area']]\n",
    "\n",
    "# take last year's dec data as the next year data\n",
    "## eg. 2022-12-01~2023-02-28 is considered as 2023\n",
    "dh1=dh1[dh1['period_end'].isin(['2015-12-31','2016-12-31','2017-12-31','2018-12-31','2019-12-31','2020-12-31','2021-12-31','2022-12-31'])]\n",
    "dh1['year'] = dh1['period_end'].dt.year\n",
    "dh1['year']=dh1['year']+1\n",
    "\n",
    "# calculate change percent\n",
    "group = dh1.groupby('zipcode')\n",
    "dh1['median_ppsf_prev'] = group['median_ppsf'].shift(1)\n",
    "dh1['median_ppsf_change_percent'] = (dh1['median_ppsf'] - dh1['median_ppsf_prev']) / dh1['median_ppsf_prev'] *100\n",
    "dh1=dh1.dropna(axis=0,how='any') #drop all rows that have any NaN values\n",
    "\n",
    "\n",
    "\n",
    "dh1.head(3)"
   ]
  },
  {
   "attachments": {},
   "cell_type": "markdown",
   "metadata": {},
   "source": [
    "## 4. Integration of District ID and Zipcode with House Data\n",
    "\n",
    "Source: \n",
    "- https://schoolsdata2-tea-texas.opendata.arcgis.com/ > Archived Schools Data\n",
    "- https://schoolsdata2-db440-tea-texas.opendata.arcgis.com/\n"
   ]
  },
  {
   "cell_type": "code",
   "execution_count": 180,
   "metadata": {},
   "outputs": [
    {
     "data": {
      "text/html": [
       "<div>\n",
       "<style scoped>\n",
       "    .dataframe tbody tr th:only-of-type {\n",
       "        vertical-align: middle;\n",
       "    }\n",
       "\n",
       "    .dataframe tbody tr th {\n",
       "        vertical-align: top;\n",
       "    }\n",
       "\n",
       "    .dataframe thead th {\n",
       "        text-align: right;\n",
       "    }\n",
       "</style>\n",
       "<table border=\"1\" class=\"dataframe\">\n",
       "  <thead>\n",
       "    <tr style=\"text-align: right;\">\n",
       "      <th></th>\n",
       "      <th>DISTRICT</th>\n",
       "      <th>DISTNAME</th>\n",
       "      <th>zipcode</th>\n",
       "    </tr>\n",
       "  </thead>\n",
       "  <tbody>\n",
       "    <tr>\n",
       "      <th>1351</th>\n",
       "      <td>1902</td>\n",
       "      <td>CAYUGA ISD</td>\n",
       "      <td>75832</td>\n",
       "    </tr>\n",
       "    <tr>\n",
       "      <th>2566</th>\n",
       "      <td>1903</td>\n",
       "      <td>ELKHART ISD</td>\n",
       "      <td>75839</td>\n",
       "    </tr>\n",
       "    <tr>\n",
       "      <th>2949</th>\n",
       "      <td>1904</td>\n",
       "      <td>FRANKSTON ISD</td>\n",
       "      <td>75763</td>\n",
       "    </tr>\n",
       "  </tbody>\n",
       "</table>\n",
       "</div>"
      ],
      "text/plain": [
       "      DISTRICT       DISTNAME zipcode\n",
       "1351      1902     CAYUGA ISD   75832\n",
       "2566      1903    ELKHART ISD   75839\n",
       "2949      1904  FRANKSTON ISD   75763"
      ]
     },
     "metadata": {},
     "output_type": "display_data"
    },
    {
     "data": {
      "text/html": [
       "<div>\n",
       "<style scoped>\n",
       "    .dataframe tbody tr th:only-of-type {\n",
       "        vertical-align: middle;\n",
       "    }\n",
       "\n",
       "    .dataframe tbody tr th {\n",
       "        vertical-align: top;\n",
       "    }\n",
       "\n",
       "    .dataframe thead th {\n",
       "        text-align: right;\n",
       "    }\n",
       "</style>\n",
       "<table border=\"1\" class=\"dataframe\">\n",
       "  <thead>\n",
       "    <tr style=\"text-align: right;\">\n",
       "      <th></th>\n",
       "      <th>zipcode</th>\n",
       "      <th>period_end</th>\n",
       "      <th>median_ppsf</th>\n",
       "      <th>area</th>\n",
       "      <th>year</th>\n",
       "      <th>median_ppsf_prev</th>\n",
       "      <th>median_ppsf_change_percent</th>\n",
       "      <th>DISTRICT</th>\n",
       "      <th>DISTNAME</th>\n",
       "    </tr>\n",
       "  </thead>\n",
       "  <tbody>\n",
       "    <tr>\n",
       "      <th>0</th>\n",
       "      <td>75001</td>\n",
       "      <td>2016-12-31</td>\n",
       "      <td>163.327769</td>\n",
       "      <td>1910.269165</td>\n",
       "      <td>2017</td>\n",
       "      <td>147.026432</td>\n",
       "      <td>11.087351</td>\n",
       "      <td>57905.0</td>\n",
       "      <td>DALLAS ISD</td>\n",
       "    </tr>\n",
       "    <tr>\n",
       "      <th>1</th>\n",
       "      <td>75001</td>\n",
       "      <td>2017-12-31</td>\n",
       "      <td>179.076343</td>\n",
       "      <td>2091.750332</td>\n",
       "      <td>2018</td>\n",
       "      <td>163.327769</td>\n",
       "      <td>9.642313</td>\n",
       "      <td>57905.0</td>\n",
       "      <td>DALLAS ISD</td>\n",
       "    </tr>\n",
       "    <tr>\n",
       "      <th>2</th>\n",
       "      <td>75001</td>\n",
       "      <td>2018-12-31</td>\n",
       "      <td>169.685669</td>\n",
       "      <td>2121.569859</td>\n",
       "      <td>2019</td>\n",
       "      <td>179.076343</td>\n",
       "      <td>-5.243950</td>\n",
       "      <td>57905.0</td>\n",
       "      <td>DALLAS ISD</td>\n",
       "    </tr>\n",
       "  </tbody>\n",
       "</table>\n",
       "</div>"
      ],
      "text/plain": [
       "  zipcode period_end  median_ppsf         area  year  median_ppsf_prev  \\\n",
       "0   75001 2016-12-31   163.327769  1910.269165  2017        147.026432   \n",
       "1   75001 2017-12-31   179.076343  2091.750332  2018        163.327769   \n",
       "2   75001 2018-12-31   169.685669  2121.569859  2019        179.076343   \n",
       "\n",
       "   median_ppsf_change_percent  DISTRICT    DISTNAME  \n",
       "0                   11.087351   57905.0  DALLAS ISD  \n",
       "1                    9.642313   57905.0  DALLAS ISD  \n",
       "2                   -5.243950   57905.0  DALLAS ISD  "
      ]
     },
     "metadata": {},
     "output_type": "display_data"
    }
   ],
   "source": [
    "\n",
    "# zipcode dataset\n",
    "z=pd.read_csv('TX_data/School2020to2021.csv').sort_values('District_1')[[ 'District_1', 'District_N', 'Zip5']].drop_duplicates()\n",
    "#z=z.applymap(lambda s: s.lower() if type(s) == str else s)\n",
    "z.rename(columns={'Zip5':'zipcode','District_1':'DISTRICT','District_N':'DISTNAME'},inplace=True)\n",
    "z['zipcode'] = z['zipcode'].astype(str)\n",
    "\n",
    "display(z.head(3))\n",
    "\n",
    "# merge with house price data\n",
    "dt=pd.merge(dh1, z, on='zipcode', how='left')  #shape change: Because one zipcode may correspond to more distname\n",
    "dt=dt[dt['DISTRICT'].notna()]\n",
    "#dt['DISTRICT']=dt['DISTRICT'].astype('int')\n",
    "\n",
    "display(dt.head(3))\n",
    "\n",
    "# save data\n",
    "dt.to_csv('TX_data/HousePrice/TX_houseprice.csv',index=False)"
   ]
  },
  {
   "attachments": {},
   "cell_type": "markdown",
   "metadata": {},
   "source": [
    "## 5. Merge above data by year"
   ]
  },
  {
   "cell_type": "code",
   "execution_count": 181,
   "metadata": {},
   "outputs": [
    {
     "data": {
      "text/html": [
       "<div>\n",
       "<style scoped>\n",
       "    .dataframe tbody tr th:only-of-type {\n",
       "        vertical-align: middle;\n",
       "    }\n",
       "\n",
       "    .dataframe tbody tr th {\n",
       "        vertical-align: top;\n",
       "    }\n",
       "\n",
       "    .dataframe thead th {\n",
       "        text-align: right;\n",
       "    }\n",
       "</style>\n",
       "<table border=\"1\" class=\"dataframe\">\n",
       "  <thead>\n",
       "    <tr style=\"text-align: right;\">\n",
       "      <th></th>\n",
       "      <th>zipcode</th>\n",
       "      <th>period_end</th>\n",
       "      <th>median_ppsf</th>\n",
       "      <th>area</th>\n",
       "      <th>year</th>\n",
       "      <th>median_ppsf_prev</th>\n",
       "      <th>median_ppsf_change_percent</th>\n",
       "      <th>DISTRICT</th>\n",
       "      <th>DISTNAME</th>\n",
       "    </tr>\n",
       "  </thead>\n",
       "  <tbody>\n",
       "    <tr>\n",
       "      <th>3</th>\n",
       "      <td>75001</td>\n",
       "      <td>2019-12-31</td>\n",
       "      <td>170.782974</td>\n",
       "      <td>1949.843077</td>\n",
       "      <td>2020</td>\n",
       "      <td>169.685669</td>\n",
       "      <td>0.646670</td>\n",
       "      <td>57905.0</td>\n",
       "      <td>DALLAS ISD</td>\n",
       "    </tr>\n",
       "    <tr>\n",
       "      <th>13</th>\n",
       "      <td>75002</td>\n",
       "      <td>2019-12-31</td>\n",
       "      <td>140.135794</td>\n",
       "      <td>2229.979877</td>\n",
       "      <td>2020</td>\n",
       "      <td>138.221154</td>\n",
       "      <td>1.385200</td>\n",
       "      <td>43901.0</td>\n",
       "      <td>ALLEN ISD</td>\n",
       "    </tr>\n",
       "    <tr>\n",
       "      <th>14</th>\n",
       "      <td>75002</td>\n",
       "      <td>2019-12-31</td>\n",
       "      <td>140.135794</td>\n",
       "      <td>2229.979877</td>\n",
       "      <td>2020</td>\n",
       "      <td>138.221154</td>\n",
       "      <td>1.385200</td>\n",
       "      <td>43919.0</td>\n",
       "      <td>LOVEJOY ISD</td>\n",
       "    </tr>\n",
       "    <tr>\n",
       "      <th>30</th>\n",
       "      <td>75006</td>\n",
       "      <td>2019-12-31</td>\n",
       "      <td>144.217788</td>\n",
       "      <td>1768.159146</td>\n",
       "      <td>2020</td>\n",
       "      <td>136.363636</td>\n",
       "      <td>5.759711</td>\n",
       "      <td>57828.0</td>\n",
       "      <td>WINFREE ACADEMY CHARTER SCHOOLS</td>\n",
       "    </tr>\n",
       "    <tr>\n",
       "      <th>31</th>\n",
       "      <td>75006</td>\n",
       "      <td>2019-12-31</td>\n",
       "      <td>144.217788</td>\n",
       "      <td>1768.159146</td>\n",
       "      <td>2020</td>\n",
       "      <td>136.363636</td>\n",
       "      <td>5.759711</td>\n",
       "      <td>57851.0</td>\n",
       "      <td>BRIDGEWAY PREPARATORY ACADEMY</td>\n",
       "    </tr>\n",
       "    <tr>\n",
       "      <th>...</th>\n",
       "      <td>...</td>\n",
       "      <td>...</td>\n",
       "      <td>...</td>\n",
       "      <td>...</td>\n",
       "      <td>...</td>\n",
       "      <td>...</td>\n",
       "      <td>...</td>\n",
       "      <td>...</td>\n",
       "      <td>...</td>\n",
       "    </tr>\n",
       "    <tr>\n",
       "      <th>11829</th>\n",
       "      <td>79935</td>\n",
       "      <td>2019-12-31</td>\n",
       "      <td>84.813084</td>\n",
       "      <td>1708.462810</td>\n",
       "      <td>2020</td>\n",
       "      <td>90.762404</td>\n",
       "      <td>-6.554829</td>\n",
       "      <td>71804.0</td>\n",
       "      <td>EL PASO ACADEMY</td>\n",
       "    </tr>\n",
       "    <tr>\n",
       "      <th>11830</th>\n",
       "      <td>79935</td>\n",
       "      <td>2019-12-31</td>\n",
       "      <td>84.813084</td>\n",
       "      <td>1708.462810</td>\n",
       "      <td>2020</td>\n",
       "      <td>90.762404</td>\n",
       "      <td>-6.554829</td>\n",
       "      <td>71905.0</td>\n",
       "      <td>YSLETA ISD</td>\n",
       "    </tr>\n",
       "    <tr>\n",
       "      <th>11846</th>\n",
       "      <td>79936</td>\n",
       "      <td>2019-12-31</td>\n",
       "      <td>94.482237</td>\n",
       "      <td>1450.008000</td>\n",
       "      <td>2020</td>\n",
       "      <td>87.094499</td>\n",
       "      <td>8.482439</td>\n",
       "      <td>71803.0</td>\n",
       "      <td>TRIUMPH PUBLIC HIGH SCHOOLS-EL PASO</td>\n",
       "    </tr>\n",
       "    <tr>\n",
       "      <th>11847</th>\n",
       "      <td>79936</td>\n",
       "      <td>2019-12-31</td>\n",
       "      <td>94.482237</td>\n",
       "      <td>1450.008000</td>\n",
       "      <td>2020</td>\n",
       "      <td>87.094499</td>\n",
       "      <td>8.482439</td>\n",
       "      <td>71905.0</td>\n",
       "      <td>YSLETA ISD</td>\n",
       "    </tr>\n",
       "    <tr>\n",
       "      <th>11848</th>\n",
       "      <td>79936</td>\n",
       "      <td>2019-12-31</td>\n",
       "      <td>94.482237</td>\n",
       "      <td>1450.008000</td>\n",
       "      <td>2020</td>\n",
       "      <td>87.094499</td>\n",
       "      <td>8.482439</td>\n",
       "      <td>71909.0</td>\n",
       "      <td>SOCORRO ISD</td>\n",
       "    </tr>\n",
       "  </tbody>\n",
       "</table>\n",
       "<p>1547 rows × 9 columns</p>\n",
       "</div>"
      ],
      "text/plain": [
       "      zipcode period_end  median_ppsf         area  year  median_ppsf_prev  \\\n",
       "3       75001 2019-12-31   170.782974  1949.843077  2020        169.685669   \n",
       "13      75002 2019-12-31   140.135794  2229.979877  2020        138.221154   \n",
       "14      75002 2019-12-31   140.135794  2229.979877  2020        138.221154   \n",
       "30      75006 2019-12-31   144.217788  1768.159146  2020        136.363636   \n",
       "31      75006 2019-12-31   144.217788  1768.159146  2020        136.363636   \n",
       "...       ...        ...          ...          ...   ...               ...   \n",
       "11829   79935 2019-12-31    84.813084  1708.462810  2020         90.762404   \n",
       "11830   79935 2019-12-31    84.813084  1708.462810  2020         90.762404   \n",
       "11846   79936 2019-12-31    94.482237  1450.008000  2020         87.094499   \n",
       "11847   79936 2019-12-31    94.482237  1450.008000  2020         87.094499   \n",
       "11848   79936 2019-12-31    94.482237  1450.008000  2020         87.094499   \n",
       "\n",
       "       median_ppsf_change_percent  DISTRICT  \\\n",
       "3                        0.646670   57905.0   \n",
       "13                       1.385200   43901.0   \n",
       "14                       1.385200   43919.0   \n",
       "30                       5.759711   57828.0   \n",
       "31                       5.759711   57851.0   \n",
       "...                           ...       ...   \n",
       "11829                   -6.554829   71804.0   \n",
       "11830                   -6.554829   71905.0   \n",
       "11846                    8.482439   71803.0   \n",
       "11847                    8.482439   71905.0   \n",
       "11848                    8.482439   71909.0   \n",
       "\n",
       "                                  DISTNAME  \n",
       "3                               DALLAS ISD  \n",
       "13                               ALLEN ISD  \n",
       "14                             LOVEJOY ISD  \n",
       "30         WINFREE ACADEMY CHARTER SCHOOLS  \n",
       "31           BRIDGEWAY PREPARATORY ACADEMY  \n",
       "...                                    ...  \n",
       "11829                      EL PASO ACADEMY  \n",
       "11830                           YSLETA ISD  \n",
       "11846  TRIUMPH PUBLIC HIGH SCHOOLS-EL PASO  \n",
       "11847                           YSLETA ISD  \n",
       "11848                          SOCORRO ISD  \n",
       "\n",
       "[1547 rows x 9 columns]"
      ]
     },
     "execution_count": 181,
     "metadata": {},
     "output_type": "execute_result"
    }
   ],
   "source": [
    "dt_2020"
   ]
  },
  {
   "cell_type": "code",
   "execution_count": 157,
   "metadata": {},
   "outputs": [],
   "source": [
    "# creat new df by year\n",
    "for year, group in dt.groupby('year'):\n",
    "    globals()[f\"dt_{year}\"] = group.copy()\n",
    "    globals()[f\"dt_{year}\"].to_csv('TX_data/HousePrice/house'+str(year)+'.csv')\n",
    "    \n",
    "# merge\n",
    "for year in [2017, 2018,2019,2021,2022]: \n",
    "    globals()[f\"TAPR_{year}\"] = pd.read_csv('TX_data/TAPR_District/TAPR_'+str(year)+'.csv',na_values=['.'])\n",
    "    globals()[f\"TAPR_{year}\"]['DISTRICT']=globals()[f\"TAPR_{year}\"]['DISTRICT'].str.replace(\"'\",'').astype('float64')\n",
    "    if 'Unnamed: 0' in globals()[f\"TAPR_{year}\"].columns:\n",
    "        globals()[f\"TAPR_{year}\"]= globals()[f\"TAPR_{year}\"].drop(columns=['Unnamed: 0'])\n",
    "    globals()[f\"merged_{year}\"] = pd.merge(globals()[f\"dt_{year}\"], globals()[f\"TAPR_{year}\"], on='DISTRICT', how='inner')\n",
    "\n",
    "    # rename first DISTNAME_x\n",
    "    col_names = list(globals()[f\"merged_{year}\"].columns)\n",
    "    idx = col_names.index('DISTNAME_x')\n",
    "    col_names[idx] = 'distname'\n",
    "    globals()[f\"merged_{year}\"].columns = col_names\n",
    "    \n",
    "    # drop duplicate column 'DISTNAME_'\n",
    "    drop_list=globals()[f\"merged_{year}\"].columns[globals()[f\"merged_{year}\"] .columns.str.startswith('DISTNAME')]\n",
    "    globals()[f\"merged_{year}\"] = globals()[f\"merged_{year}\"].drop(columns=drop_list)\n",
    "    \n",
    "    # save data\n",
    "    globals()[f\"merged_{year}\"].to_csv('TX_data/merged_'+str(year)+'.csv')"
   ]
  },
  {
   "attachments": {},
   "cell_type": "markdown",
   "metadata": {},
   "source": [
    "# Functions"
   ]
  },
  {
   "attachments": {},
   "cell_type": "markdown",
   "metadata": {},
   "source": [
    "## 1. Map District Names to their Corresponding IDs"
   ]
  },
  {
   "cell_type": "code",
   "execution_count": 4,
   "metadata": {},
   "outputs": [],
   "source": [
    "# Input: a list of district name (default: all exist district name)\n",
    "# Output: a dictionary, district_name: districtid.\n",
    "def find_districtid(district_list=None):\n",
    "    #did=pd.read_csv('TX_data/Districts2022to2023.csv')[['NAME','DISTRICT']].drop_duplicate()\n",
    "    if district_list:\n",
    "        did=pd.read_csv('TX_data/Districts2020to2021.csv')[['NAME','DISTRICT']]\n",
    "        districtid = {}\n",
    "        for d in district_list:\n",
    "            id=did.loc[did['NAME']==d,'DISTRICT'].values[0]\n",
    "            districtid[d] = id.replace('-','')\n",
    "        #{'Dallas ISD': '057905', 'Fort Worth ISD': '220905'}\n",
    "    else:\n",
    "        did=pd.read_csv('TX_data/Districts2020to2021.csv')[['NAME','DISTRICT']]\n",
    "        did['DISTRICT']=did['DISTRICT'].str.replace('-','')\n",
    "        districtid=dict(zip(did['NAME'], did['DISTRICT']))\n",
    "    return districtid"
   ]
  },
  {
   "attachments": {},
   "cell_type": "markdown",
   "metadata": {},
   "source": [
    "## 2. Retrieving Relevant IDs for a Given Field"
   ]
  },
  {
   "cell_type": "code",
   "execution_count": 111,
   "metadata": {},
   "outputs": [],
   "source": [
    "\n",
    "def find_element(Data_field, Data_Level,Subcategory=None, year=None,detail='Y'):\n",
    "    file_path = 'TX_data/datadict/district_processed/'\n",
    "    if year is not None:\n",
    "        csv_files = [os.path.join(file_path,'datadict_district_'+str(year)+'.csv' ),\n",
    "                     os.path.join(file_path,'datadict_district_'+str(year-1)+'.csv' )]\n",
    "    else:\n",
    "        csv_files = [os.path.join(file_path, f) for f in os.listdir(file_path) if f.endswith(\".csv\") and f.startswith('datadict')]\n",
    "\n",
    "    elements=[]\n",
    "    for csv_file in csv_files:\n",
    "        output = pd.read_csv(csv_file)\n",
    "        \n",
    "        # output = output.loc[output.iloc[:, 0] == Data_field, :]\n",
    "        output = output.loc[(output.iloc[:, 0].str.startswith(Data_field)) & (~output.iloc[:, 0].isna()), :]\n",
    "        \n",
    "        if Subcategory is not None:\n",
    "            #output=output.loc[ output.iloc[:,1]==Subcategory ,:]\n",
    "            output=output.loc[ output.iloc[:,1].str.startswith(Subcategory) ,:]\n",
    "\n",
    "        if year is not None:\n",
    "            output=output.loc[ output.iloc[:,2]==str(year),: ]\n",
    "\n",
    "        element = output.loc[:, Data_Level]\n",
    "        if not element.empty:\n",
    "            elements.append(element.values[0])\n",
    "    \n",
    "    print('The relevant element ids are: ',elements,'\\n')\n",
    "    \n",
    "    if detail=='Y':\n",
    "        if type(elements)=='str':\n",
    "            elements=[elements]\n",
    "        for enum in elements:\n",
    "            try:\n",
    "                position = df_me[df_me['elements'].apply(lambda x: enum in x)].index.tolist()[0]\n",
    "            except:\n",
    "                print('please make sure ', enum,' not belong to State and Region ## column')\n",
    "                \n",
    "            e_years=df_me.loc[position,'occurrence_year']\n",
    "            e_metric=df_me.loc[position,'metric']\n",
    "            meaning=df_me.loc[position,'meaning']\n",
    "            print(enum,' belongs to metric: ',e_metric) \n",
    "            print('Occurrence year: ', e_years)\n",
    "            print(\"Meaning: \",meaning)  \n",
    "            print('\\n')      \n",
    "                \n",
    "    return elements"
   ]
  },
  {
   "attachments": {},
   "cell_type": "markdown",
   "metadata": {},
   "source": [
    "## 3. District Dataframe Retrieval Function: Explaining its Elements and Usage"
   ]
  },
  {
   "cell_type": "code",
   "execution_count": 36,
   "metadata": {},
   "outputs": [],
   "source": [
    "def select_columns(df, columns):\n",
    "    existing_columns = set(df.columns)\n",
    "    selected_columns = [col for col in columns if col in existing_columns]\n",
    "    return df[selected_columns]\n",
    "\n",
    "def mapping5_list(enum_list):\n",
    "    path_list=[]\n",
    "    ae=[] \n",
    "    if type(enum_list)=='str':\n",
    "        enum_list=[enum_list]\n",
    "    for enum in enum_list:\n",
    "        try:\n",
    "            position = df_me[df_me['elements'].apply(lambda x: enum in x)].index.tolist()[0]\n",
    "        except:\n",
    "            print('please make sure ', enum,' not belong to State and Region ## column')\n",
    "            continue\n",
    "            \n",
    "        e_years=df_me.loc[position,'occurrence_year']\n",
    "        e_metric=df_me.loc[position,'metric']\n",
    "        \n",
    "        # column name\n",
    "        for ind,i in enumerate(e_years):\n",
    "            ae.append(enum[:-3] + str(i)[2:4] + enum[-1])\n",
    "            ae.append(enum[:-3] + str(i-1)[2:4] + enum[-1])\n",
    "            ae.append(enum[:-3] + str(i-2)[2:4] + enum[-1])\n",
    "            path_list.append(os.path.join('TX_data','TAPR_District',str(i), e_metric))\n",
    "            \n",
    "    ae=list(set(ae))\n",
    "    ae.sort()\n",
    "    ae.insert(0,'DISTRICT')\n",
    "    path_list=list(set(path_list))\n",
    "    path_list.sort()\n",
    "        \n",
    "    for ind,path in enumerate(path_list):\n",
    "        if int(path.split('/')[2])<=2019:\n",
    "            df = pd.read_html(path+'.xls')[0]\n",
    "        else:\n",
    "            df = pd.read_csv(path+'.csv')\n",
    "        dc= select_columns(df, ae)\n",
    "        \n",
    "        if ind==0:\n",
    "            output=dc\n",
    "        else:\n",
    "            output=pd.merge(output,dc,on='DISTRICT',how='outer')\n",
    "    \n",
    "    # Deal with duplicate columns. Save the one occur in later year.\n",
    "    output = output[output.columns[~output.columns.str.endswith('_x')]]\n",
    "    output=output.rename(columns={col: col.rstrip('_y') for col in output.columns if col.endswith('_y')})\n",
    "    output.sort_index(axis=1, ascending=False, inplace=True)\n",
    "    \n",
    "    # Sort columns by its name\n",
    "    cols = output.columns.tolist()\n",
    "    cols.sort()\n",
    "    cols.remove('DISTRICT')\n",
    "    cols.insert(0, 'DISTRICT')\n",
    "    output = output[cols]\n",
    "    output.iloc[:,0]=output.iloc[:,0].str.strip(\"'\")\n",
    "    output = output.set_index(output.columns[0])\n",
    "    return output"
   ]
  },
  {
   "attachments": {},
   "cell_type": "markdown",
   "metadata": {},
   "source": [
    "## Running Example"
   ]
  },
  {
   "cell_type": "code",
   "execution_count": 39,
   "metadata": {},
   "outputs": [
    {
     "name": "stdout",
     "output_type": "stream",
     "text": [
      "{'Memphis ISD': '096904', 'Patton Springs ISD': '063906', 'Spur ISD': '063903', 'Sherman ISD': '091906', 'S and S Cons ISD': '091914', 'Pottsboro ISD': '091913', 'Waxahachie ISD': '070912', 'Palmer ISD': '070910', 'Ennis ISD': '070903', 'Denison ISD': '091903', 'Bells ISD': '091901', 'Whitesboro ISD': '091909', 'Collinsville ISD': '091902', 'Evadale ISD': '121906', 'Buna ISD': '121903', 'Santa Gertrudis ISD': '137904', 'Riviera ISD': '137903', 'Ricardo ISD': '137902', 'Kingsville ISD': '137901', 'Apple Springs ISD': '228905', 'Trinity ISD': '228903', 'Kennard ISD': '113906', 'Jefferson ISD': '155901', 'Avinger ISD': '034902', 'Pecos-Barstow-Toyah ISD': '195901', 'Balmorhea ISD': '195902', 'Terrell County ISD': '222901', 'Dilley ISD': '082902', 'Springlake-Earth ISD': '140907', 'Tahoka ISD': '153904', \"O'Donnell ISD\": '153903', 'Dawson ISD (Dawson)': '058902', 'Silverton ISD': '023902', 'Nazareth ISD': '035903', 'Hart ISD': '035902', 'Dimmitt ISD': '035901', 'Stamford ISD': '127906', 'Paint Creek ISD': '104907', 'Merkel ISD': '221904', 'Anson ISD': '127901', 'Trent ISD': '221905', 'Roby Cons ISD': '076903', 'Hamlin ISD': '127903', 'Bellevue ISD': '039904', 'Gold-Burg ISD': '169906', 'Nursery ISD': '235904', 'Victoria ISD': '235902', 'Industrial ISD': '120905', 'Bloomington ISD': '235901', 'Tidehaven ISD': '158902', 'Matagorda ISD': '158904', 'Bay City ISD': '158901', 'Palacios ISD': '158905', 'Olfen ISD': '200906', 'Winters ISD': '200904', 'Miles ISD': '200902', 'Ballinger ISD': '200901', 'Bronte ISD': '041901', 'Panhandle ISD': '033902', 'Sanford-Fritch ISD': '117903', 'Tarkington ISD': '146907', 'Floresville ISD': '247901', 'Lamesa ISD': '058906', 'Klondike ISD': '058905', 'Prairie Valley ISD': '169909', 'Nocona ISD': '169902', 'Montague ISD': '169908', 'Saint Jo ISD': '169911', 'McCamey ISD': '231901', 'Cranfills Gap ISD': '018908', 'Hamilton ISD': '097902', 'Sweetwater ISD': '177902', 'Rotan ISD': '076904', 'Roscoe Collegiate ISD': '177901', 'Hermleigh ISD': '208901', 'Pringle-Morse Cons ISD': '098903', 'Plemons-Stinnett-Phillips Cons ISD': '117904', 'Spring Creek ISD': '117907', 'Borger ISD': '117901', 'Spearman ISD': '098904', 'Wharton ISD': '241904', 'Louise ISD': '241906', 'El Campo ISD': '241903', 'Presidio ISD': '189902', 'Huckabay ISD': '072908', 'Ranger ISD': '067907', 'Eastland ISD': '067903', 'Cross Plains ISD': '030901', 'Cisco ISD': '067902', 'Rising Star ISD': '067908', 'Lingleville ISD': '072909', 'Gorman ISD': '067904', 'De Leon ISD': '047902', 'Shelbyville ISD': '210903', 'Leveretts Chapel ISD': '201904', 'Overton ISD': '201908', 'Mount Enterprise ISD': '201907', 'Laneville ISD': '201903', 'Henderson ISD': '201902', 'Garrison ISD': '174903', 'Cushing ISD': '174902', 'Tatum ISD': '201910', 'Rusk ISD': '037907', 'Sweet Home ISD': '143905', 'Ezzell ISD': '143906', 'Shiner ISD': '143903', 'Moulton ISD': '143902', 'Wellington ISD': '044902', 'Haskell Cons ISD': '104901', 'Rule ISD': '104903', 'Sunray ISD': '171902', 'Dumas ISD': '171901', 'Crockett County Cons CSD': '053001', 'Scurry-Rosser ISD': '129910', 'Kemp ISD': '129904', 'Meadow ISD': '223902', 'Wellman-Union Cons ISD': '223904', 'Loop ISD': '083902', 'Lovelady ISD': '113903', 'Latexo ISD': '113905', 'Grapeland ISD': '113902', 'Crockett ISD': '113901', 'Monahans-Wickett-Pyote ISD': '238902', 'Grandfalls-Royalty ISD': '238904', 'Grady ISD': '156905', 'Newcastle ISD': '252902', 'Graham ISD': '252901', 'Hartley ISD': '103902', 'Channing ISD': '103901', 'Dalhart ISD': '056901', 'Santo ISD': '182904', 'Morgan Mill ISD': '072910', 'Gordon ISD': '182901', 'Dublin ISD': '072902', 'Nixon-Smiley Cons ISD': '089903', 'Waco ISD': '161914', 'Hallsburg ISD': '161924', 'Bosqueville ISD': '161923', 'North Zulch ISD': '154903', 'Normangee ISD': '145906', 'Silsbee ISD': '100904', 'Crane ISD': '052901', 'Rice ISD': '175911', 'Mildred ISD': '175910', 'Kerens ISD': '175907', 'Hedley ISD': '065902', 'Jayton-Girard ISD': '132902', 'Sonora ISD': '218901', 'Sierra Blanca ISD': '115902', 'Fort Hancock ISD': '115901', 'Dell City ISD': '115903', 'Culberson County-Allamore ISD': '055901', 'La Pryor ISD': '254902', 'Zephyr ISD': '025906', 'Sidney ISD': '047905', 'Priddy ISD': '167904', 'Mullin ISD': '167902', 'May ISD': '025905', 'Gustine ISD': '047903', 'Comanche ISD': '047901', 'Blanket ISD': '025904', 'Waskom ISD': '102903', 'New Diana ISD': '230906', 'Marshall ISD': '102902', 'Karnack ISD': '102901', 'Harleton ISD': '102905', 'Hallsville ISD': '102904', 'Elysian Fields ISD': '102906', 'Westbrook ISD': '168903', 'Loraine ISD': '168902', 'Ira ISD': '208903', 'Colorado ISD': '168901', 'Paradise ISD': '249906', 'Chico ISD': '249904', 'Bridgeport ISD': '249903', 'Poolville ISD': '184901', 'Valentine ISD': '122902', 'Fort Davis ISD': '122901', 'Tornillo ISD': '071908', 'Lancaster ISD': '057913', 'Highland Park ISD (Dallas)': '057911', 'Duncanville ISD': '057907', 'DeSoto ISD': '057906', 'Ferris ISD': '070905', 'Coahoma ISD': '114902', 'Big Spring ISD': '114901', 'Forsan ISD': '114904', 'Sands Consolidated ISD': '058909', 'Turkey-Quitaque ISD': '096905', 'Plainview ISD': '095905', 'Motley County ISD': '173901', 'Lockney ISD': '077902', 'Floydada ISD': '077901', 'Terlingua CSD': '022004', 'San Vicente ISD': '022903', 'Deweyville ISD': '176903', 'Brackett ISD': '136901', 'Bangs ISD': '025901', 'Wildorado ISD': '180904', 'Canyon ISD': '191901', 'Centerville ISD (Leon)': '145902', 'Wall ISD': '226906', 'Veribest ISD': '226908', 'San Angelo ISD': '226903', 'Grape Creek ISD': '226907', 'Christoval ISD': '226901', 'Roma ISD': '214903', 'Littlefield ISD': '140904', 'Amherst ISD': '140901', 'Texline ISD': '056902', 'Kelton ISD': '242905', 'Shamrock ISD': '242902', 'Ganado ISD': '120902', 'Edna ISD': '120901', 'Seminole ISD': '083903', 'Woden ISD': '174906', 'Nacogdoches ISD': '174904', 'Martinsville ISD': '174909', 'Douglass ISD': '174911', 'Central Heights ISD': '174908', 'Gause ISD': '166902', 'Chapel Hill ISD (Smith)': '212909', 'Boys Ranch ISD': '180901', 'Vega ISD': '180902', 'Adrian ISD': '180903', 'Breckenridge ISD': '215901', 'Walcott ISD': '059902', 'Early ISD': '025909', 'Brownwood ISD': '025902', 'San Felipe-Del Rio Cons ISD': '233901', 'Comstock ISD': '233903', 'Peaster ISD': '184908', 'Garner ISD': '184911', 'New Waverly ISD': '236901', 'Huntsville ISD': '236902', 'Runge ISD': '128903', 'Kenedy ISD': '128902', 'Strawn ISD': '182905', 'Palo Pinto ISD': '182906', 'Mineral Wells ISD': '182903', 'Millsap ISD': '184904', 'Timpson ISD': '210905', 'Excelsior ISD': '210906', 'Center ISD': '210901', 'Ralls ISD': '054903', 'Crosbyton Cons ISD': '054901', 'Driscoll ISD': '178905', 'Banquete ISD': '178913', 'Agua Dulce ISD': '178901', 'Woodsboro ISD': '196902', 'Austwell-Tivoli ISD': '196901', 'Sterling City ISD': '216901', 'Willis ISD': '170904', 'Splendora ISD': '170907', 'Iraan-Sheffield ISD': '186903', 'Buena Vista ISD': '186901', 'Perrin-Whitt Cons ISD': '119903', 'Midway ISD (Clay)': '039905', 'Graford ISD': '182902', 'Bryson ISD': '119901', 'Bowie ISD': '169901', 'Tulia ISD': '219903', 'Kress ISD': '219905', 'West Orange-Cove Cons ISD': '181906', 'Orangefield ISD': '181905', 'Little Cypress-Mauriceville Cons ISD': '181908', 'Bridge City ISD': '181901', 'Vidor ISD': '181907', 'Weimar ISD': '045905', 'Hallettsville ISD': '143901', 'Whiteface Cons ISD': '040902', 'Morton ISD': '040901', 'Lazbuddie ISD': '185904', 'Hereford ISD': '059901', 'Friona ISD': '185903', 'Bovina ISD': '185901', 'Dew ISD': '081906', 'Wortham ISD': '081905', 'Teague ISD': '081904', 'Oakwood ISD': '145907', 'Mexia ISD': '147903', 'Fairfield ISD': '081902', 'Corsicana ISD': '175903', 'Buffalo ISD': '145901', 'Kermit ISD': '248901', 'Wink-Loving ISD': '248902', 'White Deer ISD': '033904', 'Wheeler ISD': '242903', 'Pampa ISD': '090904', 'Schleicher ISD': '207901', 'Lefors ISD': '090902', 'Grandview-Hopkins ISD': '090905', 'McLean ISD': '090903', 'Chillicothe ISD': '099902', 'Quanah ISD': '099903', 'Childress ISD': '038901', 'Plains ISD': '251902', 'Denver City ISD': '251901', 'Brownfield ISD': '223901', 'Seagraves ISD': '083901', 'Knippa ISD': '232901', 'Nueces Canyon Cons ISD': '069902', 'Iola ISD': '093903', 'Anderson-Shiro Cons ISD': '093901', 'Madisonville Cons ISD': '154901', 'Schulenburg ISD': '075903', 'La Grange ISD': '075902', 'Flatonia ISD': '075901', 'Fayetteville ISD': '075906', 'Woodson ISD': '224902', 'Martins Mill ISD': '234905', 'Eustace ISD': '107905', 'Canton ISD': '234902', 'Mabank ISD': '129905', 'Robinson ISD': '161922', 'Riesel ISD': '161912', 'Mart ISD': '161908', 'Groesbeck ISD': '147902', 'Spring Hill ISD': '092907', 'Longview ISD': '092903', 'Gladewater ISD': '092901', 'Darrouzett ISD': '148905', 'Texhoma ISD': '211901', 'Gruver ISD': '098901', 'Trinidad ISD': '107907', 'Murchison ISD': '107908', 'Malakoff ISD': '107906', 'Cross Roads ISD': '107904', 'Orange Grove ISD': '125903', 'La Gloria ISD': '125906', 'Ben Bolt-Palito Blanco ISD': '125902', 'Alice ISD': '125901', 'Aspermont ISD': '217901', 'Bushland ISD': '188904', 'River Road ISD': '188902', 'Highland Park ISD (Potter)': '188903', 'Amarillo ISD': '188901', 'La Vernia ISD': '247903', 'Gary ISD': '183904', 'Carthage ISD': '183902', 'Beckville ISD': '183901', 'Tenaha ISD': '210904', 'Joaquin ISD': '210902', 'Huntington ISD': '003904', 'Central ISD': '003907', 'Wells ISD': '037909', 'Westwood ISD': '001908', 'Slocum ISD': '001909', 'LaPoynor ISD': '107910', 'Elkhart ISD': '001903', 'Cayuga ISD': '001902', 'Athens ISD': '107901', 'Meyersville ISD': '062906', 'Yorktown ISD': '062904', 'Yoakum ISD': '062903', 'Westhoff ISD': '062905', 'Nordheim ISD': '062902', 'Cuero ISD': '062901', 'Claude ISD': '006902', 'Groom ISD': '033901', 'Clarendon ISD': '065901', 'Happy ISD': '219901', 'Port Aransas ISD': '178908', 'Windthorst ISD': '005904', 'Jacksboro ISD': '119902', 'Pleasanton ISD': '007905', 'Karnes City ISD': '128901', 'Jourdanton ISD': '007902', 'Columbus ISD': '045902', 'Pawnee ISD': '013902', 'Three Rivers ISD': '149902', 'Skidmore-Tynan ISD': '013905', 'Refugio ISD': '196903', 'Pettus ISD': '013903', 'Mathis ISD': '205904', 'Beeville ISD': '013901', 'Muleshoe ISD': '009901', 'Sudan ISD': '140908', 'Farwell ISD': '185902', 'Alto ISD': '037901', 'Savoy ISD': '074911', 'Sabine Pass ISD': '123913', 'Port Neches-Groves ISD': '123908', 'Port Arthur ISD': '123907', 'Nederland ISD': '123905', 'Walnut Bend ISD': '049908', 'Goliad ISD': '088902', 'McLeod ISD': '034906', 'Linden-Kildare Cons ISD': '034905', 'Hughes Springs ISD': '034903', 'Bloomburg ISD': '034909', 'Cherokee ISD': '206903', 'Whitharral ISD': '110908', 'Sundown ISD': '110907', 'Levelland ISD': '110902', 'Sivells Bend ISD': '049909', 'Northside ISD (Wilbarger)': '244905', 'Union Grove ISD': '230908', 'Harmony ISD': '230905', 'Big Sandy ISD (Upshur)': '230901', 'Muenster ISD': '049902', 'Lindsay ISD': '049907', 'Gainesville ISD': '049901', 'Highland ISD': '177905', 'Mumford ISD': '198906', 'Hearne ISD': '198905', 'Franklin ISD': '198903', 'Leon ISD': '145911', 'Stockdale ISD': '247906', 'Poth ISD': '247904', 'Falls City ISD': '128904', 'Paducah ISD': '051901', 'Calhoun County ISD': '029901', 'George West ISD': '149901', 'Stratford ISD': '211902', 'Perryton ISD': '179901', 'Vysehrad ISD': '143904', 'Tom Bean ISD': '091918', 'Howe ISD': '091905', 'Richardson ISD': '057916', 'Mesquite ISD': '057914', 'Crandall ISD': '129901', 'Sunnyvale ISD': '057919', 'Newton ISD': '176902', 'Hemphill ISD': '202903', 'Burkeville ISD': '176901', 'Broaddus ISD': '203902', 'West Sabine ISD': '202905', 'Brookeland ISD': '121902', 'Etoile ISD': '174910', 'Chireno ISD': '174901', 'San Augustine ISD': '203901', 'Brock ISD': '184909', 'Randolph Field ISD': '015906', 'Southside ISD': '015917', 'Harlandale ISD': '015904', 'East Central ISD': '015911', 'Fort Sam Houston ISD': '015914', 'Alamo Heights ISD': '015901', 'South San Antonio ISD': '015908', 'Waelder ISD': '089905', 'Gonzales ISD': '089901', 'Prairie Lea ISD': '028906', 'Luling ISD': '028903', 'Detroit ISD': '194905', 'Garland ISD': '057909', 'Lovejoy ISD': '043919', 'Carrizo Springs Cons ISD': '064903', 'Eagle Pass ISD': '159901', 'Zapata County ISD': '253901', 'Laredo ISD': '240901', 'Ramirez CSD': '066005', 'San Diego ISD': '066902', 'Premont ISD': '125905', 'Sam Rayburn ISD': '074917', 'Ector ISD': '074905', 'Dodd City ISD': '074904', 'Jim Hogg County ISD': '124901', 'Freer ISD': '066903', 'Cotulla ISD': '142901', 'McMullen County ISD': '162904', 'Webb Cons ISD': '240904', 'Benavides ISD': '066901', 'Clyde Cons ISD': '030902', 'Hawley ISD': '127904', 'Abilene ISD': '221901', 'Coleman ISD': '042901', 'Jim Ned Cons ISD': '221911', 'Baird ISD': '030903', 'Eula ISD': '030906', 'Lueders-Avoca ISD': '127905', 'Moran ISD': '209902', 'Albany ISD': '209901', 'Wylie ISD (Taylor)': '221912', 'Kountze ISD': '100903', 'Lumberton ISD': '100907', 'East Chambers ISD': '036903', 'Hamshire-Fannett ISD': '123914', 'Beaumont ISD': '123910', 'Dime Box ISD': '144903', 'Burton ISD': '239903', 'Round Top-Carmine ISD': '075908', 'Giddings ISD': '144901', 'Bellville ISD': '008901', 'Snook ISD': '026903', 'Bryan ISD': '021902', 'College Station ISD': '021901', 'Brenham ISD': '239901', 'Van Alstyne ISD': '091908', 'Pasadena ISD': '101917', 'Spring ISD': '101919', 'Huffman ISD': '101925', 'Cleveland ISD': '146901', 'New Caney ISD': '170908', 'Damon ISD': '020910', 'Columbia-Brazoria ISD': '020907', 'Pearland ISD': '020908', 'Danbury ISD': '020904', 'Santa Fe ISD': '084909', 'Friendswood ISD': '084911', 'Warren ISD': '229904', 'Goodrich ISD': '187903', 'Big Sandy ISD (Polk)': '187901', 'Shepherd ISD': '204904', 'Coldspring-Oakhurst Cons ISD': '204901', 'Centerville ISD (Trinity)': '228904', 'Groveton ISD': '228901', 'Livingston ISD': '187907', 'Chester ISD': '229906', 'Diboll ISD': '003905', 'Leggett ISD': '187906', 'Corrigan-Camden ISD': '187904', 'Woodville ISD': '229903', 'Zavalla ISD': '003906', 'Llano ISD': '150901', 'Thrall ISD': '246912', 'McDade ISD': '011905', 'Bastrop ISD': '011901', 'Del Valle ISD': '227910', 'Manor ISD': '227907', 'Coupland ISD': '246914', 'Taylor ISD': '246911', 'Elgin ISD': '011902', 'Lake Travis ISD': '227913', 'Eanes ISD': '227909', 'Austin ISD': '227901', 'Dripping Springs ISD': '105904', 'Marble Falls ISD': '027904', 'Leander ISD': '246913', 'Lago Vista ISD': '227912', 'Johnson City ISD': '016901', 'West Rusk County Cons ISD': '201914', 'Carlisle ISD': '201913', 'Arp ISD': '212901', 'New Summerfield ISD': '037908', 'Bullard ISD': '212902', 'Whitehouse ISD': '212906', 'Brownsboro ISD': '107902', 'Frankston ISD': '001904', 'Troup ISD': '212904', 'Jacksonville ISD': '037904', 'Hull-Daisetta ISD': '146905', 'Liberty ISD': '146906', 'Hardin ISD': '146904', 'Devers ISD': '146903', 'West Hardin County Cons ISD': '100908', 'Hardin-Jefferson ISD': '100905', 'China Spring ISD': '161920', 'Rio Vista ISD': '126907', 'Italy ISD': '070907', 'Avalon ISD': '070901', 'Blooming Grove ISD': '175902', 'Frost ISD': '175905', 'Itasca ISD': '109907', 'Milford ISD': '070909', 'Maypearl ISD': '070915', 'Covington ISD': '109903', 'Whitney ISD': '109911', 'Blum ISD': '109913', 'Morgan ISD': '018903', 'Meridian ISD': '018902', 'Dawson ISD (Navarro)': '175904', 'Malone ISD': '109908', 'Coolidge ISD': '147901', 'Hubbard ISD (Hill)': '109905', 'Bynum ISD': '109902', 'Hillsboro ISD': '109904', 'Rocksprings ISD': '069901', 'Leakey ISD': '193902', 'Doss Cons CSD': '086024', 'Junction ISD': '134901', 'Divide ISD': '133905', 'Kerrville ISD': '133903', 'Harper ISD': '086902', 'Fredericksburg ISD': '086901', 'Ingram ISD': '133904', 'Hunt ISD': '133902', 'Comfort ISD': '130902', 'Center Point ISD': '133901', 'Olton ISD': '140905', 'Hale Center ISD': '095903', 'Cotton Center ISD': '095902', 'Anton ISD': '110901', 'Ropes ISD': '110905', 'Abernathy ISD': '095901', 'Petersburg ISD': '095904', 'New Home ISD': '153905', 'Shallowater ISD': '152909', 'New Deal ISD': '152902', 'Frenship ISD': '152907', 'Lubbock ISD': '152901', 'Idalou ISD': '152910', 'Southland ISD': '085903', 'Roosevelt ISD': '152908', 'Lorenzo ISD': '054902', 'Lubbock-Cooper ISD': '152906', 'Brooks County ISD': '024901', 'San Isidro ISD': '214902', 'Mission Cons ISD': '108908', 'McAllen ISD': '108906', 'Valley View ISD (Hidalgo)': '108916', 'Sharyland ISD': '108911', 'Pharr-San Juan-Alamo ISD': '108909', 'Hidalgo ISD': '108905', 'Edinburg Cons ISD': '108904', 'Edcouch-Elsa ISD': '108903', 'Progreso ISD': '108910', 'Weslaco ISD': '108913', 'Donna ISD': '108902', 'Sinton ISD': '205906', 'Mount Calm ISD': '109910', 'Axtell ISD': '161918', 'La Vega ISD': '161906', 'Connally ISD': '161921', 'Penelope ISD': '109914', 'Abbott ISD': '109901', 'Gholson ISD': '161925', 'Harts Bluff ISD': '225907', 'Rivercrest ISD': '194903', 'Clarksville ISD': '194904', 'Irving ISD': '057912', 'Dallas ISD': '057905', 'Tioga ISD': '091907', 'Callisburg ISD': '049905', 'Gunter ISD': '091917', 'Celina ISD': '043903', 'Allen ISD': '043901', 'Forestburg ISD': '169910', 'Alvord ISD': '249901', 'Coppell ISD': '057922', 'Carrollton-Farmers Branch ISD': '057903', 'Plano ISD': '043910', 'Carroll ISD': '220919', 'Grapevine-Colleyville ISD': '220906', 'Lake Dallas ISD': '061912', 'Argyle ISD': '061910', 'Aubrey ISD': '061907', 'Little Elm ISD': '061914', 'Lewisville ISD': '061902', 'Prosper ISD': '043912', 'Frisco ISD': '043905', 'Sanger ISD': '061908', 'Slidell ISD': '249908', 'Valley View ISD (Cooke)': '049903', 'Era ISD': '049906', 'Pilot Point ISD': '061903', 'Ponder ISD': '061906', 'Decatur ISD': '249905', 'Krum ISD': '061905', 'Denton ISD': '061901', 'Brookesmith ISD': '025908', 'Santa Anna ISD': '042903', 'Brady ISD': '160901', 'Panther Creek Cons ISD': '042905', 'Menard ISD': '164901', 'Mason ISD': '157901', 'Eden Cons ISD': '048901', 'Rochelle ISD': '160904', 'Lohn ISD': '160905', 'Richland Springs ISD': '206902', 'Paint Rock ISD': '048903', 'Navarro ISD': '094903', 'Blanco ISD': '016902', 'New Braunfels ISD': '046901', 'Seguin ISD': '094901', 'Marion ISD': '094904', 'San Elizario ISD': '071904', 'Clint ISD': '071901', 'Paris ISD': '139909', 'North Lamar ISD': '139911', 'Sulphur Bluff ISD': '112910', 'Prairiland ISD': '139912', 'Chisum ISD': '139905', 'Honey Grove ISD': '074907', 'Grand Saline ISD': '234904', 'Fruitvale ISD': '234909', 'Edgewood ISD (Van Zandt)': '234903', 'Wylie ISD (Collin)': '043914', 'Anthony ISD': '071906', 'El Paso ISD': '071902', 'Canutillo ISD': '071907', 'Ysleta ISD': '071905', 'Socorro ISD': '071909', 'Sabinal ISD': '232902', 'Uvalde Cons ISD': '232903', 'Utopia ISD': '232904', 'Medina ISD': '010901', 'Boyd ISD': '249902', 'Springtown ISD': '184902', 'Weatherford ISD': '184903', 'Keller ISD': '220907', 'Northwest ISD': '061911', 'Somerset ISD': '015909', \"D'Hanis ISD\": '163902', 'Charlotte ISD': '007901', 'Hondo ISD': '163904', 'Northside ISD (Bexar)': '015915', 'Southwest ISD': '015912', 'Bandera ISD': '010902', 'Boerne ISD': '130901', 'North East ISD': '015910', 'Edgewood ISD (Bexar)': '015905', 'San Antonio ISD': '015907', 'Lackland ISD': '015913', 'Natalia ISD': '163903', 'Poteet ISD': '007906', 'Lytle ISD': '007904', 'Devine ISD': '163901', 'Medina Valley ISD': '163908', 'White Settlement ISD': '220920', 'Lake Worth ISD': '220910', 'Hurst-Euless-Bedford ISD': '220916', 'Eagle Mountain-Saginaw ISD': '220918', 'Castleberry ISD': '220917', 'Birdville ISD': '220902', 'Azle ISD': '220915', 'Aledo ISD': '184907', 'Crowley ISD': '220912', 'Fort Worth ISD': '220905', 'Godley ISD': '126911', 'Keene ISD': '126906', 'Joshua ISD': '126905', 'Grandview ISD': '126904', 'Mansfield ISD': '220908', 'Midlothian ISD': '070908', 'Kennedale ISD': '220914', 'Everman ISD': '220904', 'Arlington ISD': '220901', 'Grand Prairie ISD': '057910', 'Venus ISD': '126908', 'Burleson ISD': '126902', 'Alvarado ISD': '126901', 'Cumby ISD': '112905', 'North Hopkins ISD': '112906', 'Campbell ISD': '116910', 'Cooper ISD': '060902', 'Miller Grove ISD': '112907', 'Boles ISD': '116916', 'Lone Oak ISD': '116906', 'Terrell ISD': '129906', 'Kaufman ISD': '129903', 'Quinlan ISD': '116908', 'Wills Point ISD': '234907', 'Forney ISD': '129902', 'Royse City ISD': '199902', 'Rockwall ISD': '199901', 'Fannindel ISD': '060914', 'Commerce ISD': '116903', 'Caddo Mills ISD': '116901', 'Community ISD': '043918', 'Greenville ISD': '116905', 'Barbers Hill ISD': '036902', 'Dayton ISD': '146902', 'Clear Creek ISD': '084910', 'Monte Alto ISD': '108915', 'Lasara ISD': '245901', 'La Villa ISD': '108914', 'Mercedes ISD': '108907', 'Santa Rosa ISD': '031914', 'La Feria ISD': '031905', 'Santa Maria ISD': '031913', 'Rio Hondo ISD': '031911', 'Lyford Cons ISD': '245902', 'Harlingen Cons ISD': '031903', 'Brownsville ISD': '031901', 'San Benito Cons ISD': '031912', 'Point Isabel ISD': '031909', 'Los Fresnos Cons ISD': '031906', 'Wolfe City ISD': '116909', 'Rankin ISD': '231902', 'Reagan County ISD': '192901', 'Andrews ISD': '002901', 'Stanton ISD': '156902', 'Bonham ISD': '074903', 'Conroe ISD': '170902', 'Saltillo ISD': '112909', 'Mineola ISD': '250903', 'Hawkins ISD': '250902', 'Blue Ridge ISD': '043917', 'Trenton ISD': '074912', 'Leonard ISD': '074909', 'Whitewright ISD': '091910', 'Celeste ISD': '116902', 'Bland ISD': '116915', 'Farmersville ISD': '043904', 'Melissa ISD': '043908', 'McKinney ISD': '043907', 'Anna ISD': '043902', 'Princeton ISD': '043911', 'Boling ISD': '241901', 'Needville ISD': '079906', 'Brazos ISD': '008903', 'East Bernard ISD': '241902', 'Rice Cons ISD': '045903', 'Sealy ISD': '008902', 'Deer Park ISD': '101908', 'Montgomery ISD': '170903', 'La Porte ISD': '101916', 'Texas City ISD': '084906', 'High Island ISD': '084903', 'Dickinson ISD': '084901', 'Anahuac ISD': '036901', 'Brazosport ISD': '020905', 'Hitchcock ISD': '084908', 'Galveston ISD': '084902', 'Royal ISD': '237905', 'Hempstead ISD': '237902', 'Magnolia ISD': '170906', 'Navasota ISD': '093904', 'Cypress-Fairbanks ISD': '101907', 'Waller ISD': '237904', 'Spring Branch ISD': '101920', 'Klein ISD': '101915', 'Aldine ISD': '101902', 'Tomball ISD': '101921', 'Sheldon ISD': '101924', 'Galena Park ISD': '101910', 'Crosby ISD': '101906', 'Channelview ISD': '101905', 'Humble ISD': '101913', 'Goose Creek Consolidated ISD': '101911', 'Fort Bend ISD': '079907', 'Katy ISD': '101914', 'Alief ISD': '101903', 'Stafford MSD': '079910', 'Angleton ISD': '020902', 'Alvin ISD': '020901', 'Houston ISD': '101912', 'Lamar Cons ISD': '079901', 'Pittsburg ISD': '032902', 'Ore City ISD': '230903', 'Daingerfield-Lone Star ISD': '172902', 'Chapel Hill ISD (Titus)': '225906', 'Winnsboro ISD': '250907', 'Gilmer ISD': '230902', 'Union Hill ISD': '230904', 'Mount Pleasant ISD': '225902', 'Mount Vernon ISD': '080901', 'Yantis ISD': '250905', 'Sulphur Springs ISD': '112901', 'Como-Pickton Cons ISD': '112908', 'Quitman ISD': '250904', 'Rains ISD': '190903', 'Alba-Golden ISD': '250906', 'Fabens ISD': '071903', 'Wilson ISD': '153907', 'Slaton ISD': '152903', 'Smyer ISD': '110906', 'Post ISD': '085902', 'Snyder ISD': '208902', 'Borden County ISD': '017901', 'Midland ISD': '165901', 'Greenwood ISD': '165902', 'Glasscock County ISD': '087901', 'Fort Stockton ISD': '186902', 'Ector County ISD': '068901', 'Water Valley ISD': '226905', 'Robert Lee ISD': '041902', 'Blackwell Cons ISD': '177903', 'Irion County ISD': '118902', 'Red Oak ISD': '070911', 'Cedar Hill ISD': '057904', 'Lipan ISD': '111902', 'West ISD': '161916', 'Aquilla ISD': '109912', 'Winona ISD': '212910', 'Van ISD': '234906', 'Lindale ISD': '212903', 'White Oak ISD': '092908', 'Pine Tree ISD': '092904', 'Tyler ISD': '212905', 'Palestine ISD': '001907', 'Neches ISD': '001906', 'Kilgore ISD': '092902', 'Sabine ISD': '092906', 'Lufkin ISD': '003903', 'Hudson ISD': '003902', 'Colmesneil ISD': '229901', 'Jasper ISD': '121904', 'Marfa ISD': '189901', 'Marathon ISD': '022902', 'Alpine ISD': '022901', 'Crystal City ISD': '254901', 'United ISD': '240903', 'Hutto ISD': '246906', 'Comal ISD': '046902', 'Hays Cons ISD': '105906', 'Wimberley ISD': '105905', 'San Marcos Cons ISD': '105902', 'Lockhart ISD': '028902', 'Round Rock ISD': '246909', 'Pflugerville ISD': '227904', 'Smithville ISD': '011904', 'Pearsall ISD': '082903', 'Schertz-Cibolo-Universal City ISD': '094902', 'Judson ISD': '015916', 'Richards ISD': '093905', 'Onalaska ISD': '187910', 'Somerville ISD': '026902', 'Spurger ISD': '229905', 'Kirbyville Cons ISD': '121905', 'Van Vleck ISD': '158906', 'Sweeny ISD': '020906', 'Odem-Edroy ISD': '205905', 'Kenedy County-Wide CSD': '131001', 'Calallen ISD': '178903', 'Aransas County ISD': '004901', 'La Joya ISD': '108912', 'Rio Grande City Cons ISD': '214901', 'San Perlita ISD': '245904', 'Raymondville ISD': '245903', 'Robstown ISD': '178909', 'Bishop Cons ISD': '178902', 'Corpus Christi ISD': '178904', 'Taft ISD': '205907', 'Ingleside ISD': '205903', 'Gregory-Portland ISD': '205902', 'West Oso ISD': '178915', 'Tuloso-Midway ISD': '178912', 'Flour Bluff ISD': '178914', 'Aransas Pass ISD': '205901', 'London ISD': '178906', 'Hico ISD': '097903', 'Stephenville ISD': '072903', 'Bluff Dale ISD': '072904', 'Glen Rose ISD': '213901', 'Three Way ISD': '072901', 'Iredell ISD': '018906', 'Walnut Springs ISD': '018905', 'Tolar ISD': '111903', 'Cleburne ISD': '126903', 'Granbury ISD': '111901', 'Kopperl ISD': '018907', 'Avery ISD': '194902', 'Pewitt Cons ISD': '172905', 'Hubbard ISD (Bowie)': '019913', 'Simms ISD': '019909', 'Malta ISD': '019910', 'De Kalb ISD': '019901', 'New Boston ISD': '019905', 'Maud ISD': '019903', 'Atlanta ISD': '034901', 'Hooks ISD': '019902', 'Leary ISD': '019914', 'Red Lick ISD': '019911', 'Pleasant Grove ISD': '019912', 'Liberty-Eylau ISD': '019908', 'Texarkana ISD': '019907', 'Redwater ISD': '019906', 'Queen City ISD': '034907', \"Knox City-O'Brien Cons ISD\": '138902', 'Guthrie CSD': '135001', 'Vernon ISD': '244903', 'Crowell ISD': '078901', 'Throckmorton Collegiate ISD': '224901', 'Munday Cons ISD': '138903', 'Benjamin ISD': '138904', 'Olney ISD': '252903', 'Jonesboro ISD': '050909', 'Valley Mills ISD': '018904', 'Crawford ISD': '161901', 'Clifton ISD': '018901', 'Midway ISD (McLennan)': '161903', 'McGregor ISD': '161909', 'Oglesby ISD': '050904', 'Lorena ISD': '161907', 'Granger ISD': '246905', 'Caldwell ISD': '026901', 'Milano ISD': '166903', 'Thorndale ISD': '166905', 'Lexington ISD': '144902', 'Rockdale ISD': '166904', 'Buckholts ISD': '166907', 'Liberty Hill ISD': '246908', 'Georgetown ISD': '246904', 'Moody ISD': '161910', 'Evant ISD': '050901', 'Lometa ISD': '141902', 'San Saba ISD': '206901', 'Goldthwaite Cons ISD': '167901', 'Temple ISD': '014909', 'Academy ISD': '014901', 'Jarrell ISD': '246907', 'Holland ISD': '014905', 'Bartlett ISD': '014902', 'Rosebud-Lott ISD': '073905', 'Chilton ISD': '073901', 'Bremond ISD': '198901', 'Cameron ISD': '166901', 'Westphalia ISD': '073904', 'Marlin ISD': '073903', 'Rogers ISD': '014907', 'Troy ISD': '014910', 'Bruceville-Eddy ISD': '161919', 'Calvert ISD': '198902', 'Killeen ISD': '014906', 'Salado ISD': '014908', 'Belton ISD': '014903', 'Florence ISD': '246902', 'Lampasas ISD': '141901', 'Gatesville ISD': '050902', 'Copperas Cove ISD': '050910', 'Burnet Cons ISD': '027903', 'Canadian ISD': '106901', 'Booker ISD': '148901', 'Miami ISD': '197902', 'Fort Elliott Cons ISD': '242906', 'Follett ISD': '148902', 'Electra ISD': '243902', 'Seymour ISD': '012901', 'Harrold ISD': '244901', 'Henrietta ISD': '039902', 'Petrolia Cons ISD': '039903', 'Holliday ISD': '005902', 'Archer City ISD': '005901', 'City View ISD': '243906', 'Wichita Falls ISD': '243905', 'Burkburnett ISD': '243901', 'Iowa Park Cons ISD': '243903'}\n",
      "{'Dallas ISD': '057905', 'Fort Worth ISD': '220905'}\n"
     ]
    }
   ],
   "source": [
    "# 1. give spefic district name, return its id\n",
    "districtid0=find_districtid(district_list=None)\n",
    "print(districtid0)\n",
    "\n",
    "district_list=['Dallas ISD','Fort Worth ISD']\n",
    "districtid=find_districtid(district_list)\n",
    "print(districtid)"
   ]
  },
  {
   "cell_type": "code",
   "execution_count": 112,
   "metadata": {},
   "outputs": [
    {
     "name": "stdout",
     "output_type": "stream",
     "text": [
      "The field we want is: All Grades ELA/Reading; At Meets Grade Level or Above; District\n",
      "The relevant element ids are:  ['DDA00AR01218R', 'DDA00AR01219R', 'DDA00AR01221R', 'DDA00AR01222R'] \n",
      "\n",
      "DDA00AR01218R  belongs to metric:  DBIL1\n",
      "Occurrence year:  [2017, 2018, 2019, 2021, 2022]\n",
      "Meaning:  BE/ESL: Approaches Grade Level, Meets Grade Level, and Masters Grade Level\n",
      "\n",
      "\n",
      "DDA00AR01219R  belongs to metric:  DBIL1\n",
      "Occurrence year:  [2017, 2018, 2019, 2021, 2022]\n",
      "Meaning:  BE/ESL: Approaches Grade Level, Meets Grade Level, and Masters Grade Level\n",
      "\n",
      "\n",
      "DDA00AR01221R  belongs to metric:  DBIL1\n",
      "Occurrence year:  [2017, 2018, 2019, 2021, 2022]\n",
      "Meaning:  BE/ESL: Approaches Grade Level, Meets Grade Level, and Masters Grade Level\n",
      "\n",
      "\n",
      "DDA00AR01222R  belongs to metric:  DBIL1\n",
      "Occurrence year:  [2017, 2018, 2019, 2021, 2022]\n",
      "Meaning:  BE/ESL: Approaches Grade Level, Meets Grade Level, and Masters Grade Level\n",
      "\n",
      "\n"
     ]
    }
   ],
   "source": [
    "# 2.1 give wanted field\n",
    "test=pd.read_csv('TX_data/5years_trends_try.csv')\n",
    "Data_field=test['Data field'][0]\n",
    "Subcategory\t= test['Subcategory'][0]\n",
    "Data_Level=test['Data Level'][0]\n",
    "print('The field we want is: '+Data_field,Subcategory,Data_Level,sep='; ')\n",
    "\n",
    "# 2.2 return element id\n",
    "enum_list=find_element(Data_field,Data_Level, Subcategory, year=None,detail='Y')  "
   ]
  },
  {
   "cell_type": "code",
   "execution_count": 37,
   "metadata": {},
   "outputs": [
    {
     "data": {
      "text/html": [
       "<div>\n",
       "<style scoped>\n",
       "    .dataframe tbody tr th:only-of-type {\n",
       "        vertical-align: middle;\n",
       "    }\n",
       "\n",
       "    .dataframe tbody tr th {\n",
       "        vertical-align: top;\n",
       "    }\n",
       "\n",
       "    .dataframe thead th {\n",
       "        text-align: right;\n",
       "    }\n",
       "</style>\n",
       "<table border=\"1\" class=\"dataframe\">\n",
       "  <thead>\n",
       "    <tr style=\"text-align: right;\">\n",
       "      <th></th>\n",
       "      <th>DDA00AR01218R</th>\n",
       "      <th>DDA00AR01219R</th>\n",
       "      <th>DDA00AR01221R</th>\n",
       "      <th>DDA00AR01222R</th>\n",
       "    </tr>\n",
       "    <tr>\n",
       "      <th>DISTRICT</th>\n",
       "      <th></th>\n",
       "      <th></th>\n",
       "      <th></th>\n",
       "      <th></th>\n",
       "    </tr>\n",
       "  </thead>\n",
       "  <tbody>\n",
       "    <tr>\n",
       "      <th>Dallas ISD</th>\n",
       "      <td>38.0</td>\n",
       "      <td>41.0</td>\n",
       "      <td>37.0</td>\n",
       "      <td>43.0</td>\n",
       "    </tr>\n",
       "    <tr>\n",
       "      <th>Fort Worth ISD</th>\n",
       "      <td>35.0</td>\n",
       "      <td>35.0</td>\n",
       "      <td>30.0</td>\n",
       "      <td>38.0</td>\n",
       "    </tr>\n",
       "  </tbody>\n",
       "</table>\n",
       "</div>"
      ],
      "text/plain": [
       "                DDA00AR01218R  DDA00AR01219R  DDA00AR01221R  DDA00AR01222R\n",
       "DISTRICT                                                                  \n",
       "Dallas ISD               38.0           41.0           37.0           43.0\n",
       "Fort Worth ISD           35.0           35.0           30.0           38.0"
      ]
     },
     "metadata": {},
     "output_type": "display_data"
    }
   ],
   "source": [
    "# 3. return the result dataframe. \n",
    "if enum_list != None:\n",
    "    dt=mapping5_list(enum_list)\n",
    "\n",
    "dt=dt.loc[list(districtid.values()), :]  #bc: the number of `districtid`` less than actual `district``\n",
    "dt = dt.replace('.', np.nan).astype(float)\n",
    "new_rows = {v: k for k, v in districtid.items()}  \n",
    "dt = dt.rename(index=new_rows)\n",
    "display(dt)"
   ]
  },
  {
   "attachments": {},
   "cell_type": "markdown",
   "metadata": {},
   "source": [
    "# General EDA"
   ]
  },
  {
   "cell_type": "code",
   "execution_count": 43,
   "metadata": {},
   "outputs": [],
   "source": [
    "def factor_name(element):\n",
    "    year=element[-3:-1]\n",
    "    file_path = 'TX_data/datadict/district_processed/'\n",
    "    csv_files = [os.path.join(file_path, f) for f in os.listdir(file_path) if f.endswith('.csv') and str(year) in f][0]\n",
    "    df2=pd.read_csv(csv_files)\n",
    "    mask = df2.where(df2 == element)\n",
    "    stacked = mask.stack()\n",
    "    info=', '.join([df2.iloc[stacked.index.get_level_values(0), 0].values[0],df2.iloc[stacked.index.get_level_values(0), 1].values[0], stacked.index.get_level_values(1).values[0], str(year)])\n",
    "    info_dict={element:info}\n",
    "    return info_dict\n",
    "## eg. element = 'DDA00AR01218R'\n",
    "\n",
    "def analysis(df,top=None):\n",
    "    \n",
    "    df_mean = df.mean(axis=1) \n",
    "    if top!=None:\n",
    "        df_sorted = df.mean().sort_values(ascending=False)\n",
    "        cols_top = df_sorted.index[:top]\n",
    "        df = df[cols_top]\n",
    "    \n",
    "    df_mean_select = df.mean(axis=1)\n",
    "    \n",
    "    fig = go.Figure()\n",
    "    \n",
    "    # Add scatter plot for each column\n",
    "    fig = px.scatter(df, x=df.index, y=df.columns, title='Scatter Plot')\n",
    "    fig.add_trace(go.Scatter(x=df.index, y=df_mean_select, name='Select average', mode='markers', line=dict(color='black', width=4)))\n",
    "    fig.add_trace(go.Scatter(x=df.index, y=df_mean, name='Overall average', mode='markers', line=dict(color='grey', width=4)))\n",
    "    fig.show()\n",
    "    \n",
    "    for col in df.columns:\n",
    "        fig.add_trace(go.Scatter(x=df.index, y=df[col], name=col))\n",
    "    fig.add_trace(go.Scatter(x=df.index, y=df_mean_select, name='Select average', line=dict(color='black', width=3)))\n",
    "    fig.add_trace(go.Scatter(x=df.index, y=df_mean, name='Overall average', line=dict(color='grey', width=3)))\n",
    "    fig.update_layout(title='Line Plot', xaxis_title='X Axis', yaxis_title='Y Axis')\n",
    "    fig.show()\n",
    "\n",
    "    # Add box plot for each column\n",
    "    fig = px.box(df, y=df.columns, title='Box Plot')\n",
    "    fig.add_trace(go.Box(y=df_mean_select, name='Select average', line=dict(color='black', width=3)))\n",
    "    fig.add_trace(go.Box(y=df_mean, name='Overall average', line=dict(color='grey', width=3)))\n",
    "    fig.show()\n",
    "\n",
    "    # Add pct change plot for each column\n",
    "    df_pct_change = df.pct_change()\n",
    "    df_pct_change_long = df_pct_change.melt(value_name='pct_change', var_name='column')\n",
    "    fig = px.line(df_pct_change_long, x='column', y='pct_change', title='Pct Change Trend Analysis')\n",
    "    fig.show()"
   ]
  },
  {
   "cell_type": "code",
   "execution_count": 45,
   "metadata": {},
   "outputs": [
    {
     "name": "stdout",
     "output_type": "stream",
     "text": [
      "DDA00AR01218R: All Grades ELA/Reading, At Meets Grade Level or Above, District, 18\n",
      "DDA00AR01219R: All Grades ELA/Reading, At Meets Grade Level or Above, District, 19\n",
      "DDA00AR01221R: All Grades ELA/Reading, At Meets Grade Level or Above, District, 21\n",
      "DDA00AR01222R: All Grades ELA/Reading, At Meets Grade Level or Above, District, 22\n"
     ]
    },
    {
     "data": {
      "application/vnd.plotly.v1+json": {
       "config": {
        "plotlyServerURL": "https://plot.ly"
       },
       "data": [
        {
         "hovertemplate": "DISTRICT=Dallas ISD<br>index=%{x}<br>value=%{y}<extra></extra>",
         "legendgroup": "Dallas ISD",
         "marker": {
          "color": "#636efa",
          "symbol": "circle"
         },
         "mode": "markers",
         "name": "Dallas ISD",
         "orientation": "v",
         "showlegend": true,
         "type": "scatter",
         "x": [
          "DDA00AR01218R",
          "DDA00AR01219R",
          "DDA00AR01221R",
          "DDA00AR01222R"
         ],
         "xaxis": "x",
         "y": [
          38,
          41,
          37,
          43
         ],
         "yaxis": "y"
        },
        {
         "hovertemplate": "DISTRICT=Fort Worth ISD<br>index=%{x}<br>value=%{y}<extra></extra>",
         "legendgroup": "Fort Worth ISD",
         "marker": {
          "color": "#EF553B",
          "symbol": "circle"
         },
         "mode": "markers",
         "name": "Fort Worth ISD",
         "orientation": "v",
         "showlegend": true,
         "type": "scatter",
         "x": [
          "DDA00AR01218R",
          "DDA00AR01219R",
          "DDA00AR01221R",
          "DDA00AR01222R"
         ],
         "xaxis": "x",
         "y": [
          35,
          35,
          30,
          38
         ],
         "yaxis": "y"
        },
        {
         "line": {
          "color": "black",
          "width": 4
         },
         "mode": "markers",
         "name": "Select average",
         "type": "scatter",
         "x": [
          "DDA00AR01218R",
          "DDA00AR01219R",
          "DDA00AR01221R",
          "DDA00AR01222R"
         ],
         "y": [
          36.5,
          38,
          33.5,
          40.5
         ]
        },
        {
         "line": {
          "color": "grey",
          "width": 4
         },
         "mode": "markers",
         "name": "Overall average",
         "type": "scatter",
         "x": [
          "DDA00AR01218R",
          "DDA00AR01219R",
          "DDA00AR01221R",
          "DDA00AR01222R"
         ],
         "y": [
          36.5,
          38,
          33.5,
          40.5
         ]
        }
       ],
       "layout": {
        "legend": {
         "title": {
          "text": "DISTRICT"
         },
         "tracegroupgap": 0
        },
        "template": {
         "data": {
          "bar": [
           {
            "error_x": {
             "color": "#2a3f5f"
            },
            "error_y": {
             "color": "#2a3f5f"
            },
            "marker": {
             "line": {
              "color": "#E5ECF6",
              "width": 0.5
             },
             "pattern": {
              "fillmode": "overlay",
              "size": 10,
              "solidity": 0.2
             }
            },
            "type": "bar"
           }
          ],
          "barpolar": [
           {
            "marker": {
             "line": {
              "color": "#E5ECF6",
              "width": 0.5
             },
             "pattern": {
              "fillmode": "overlay",
              "size": 10,
              "solidity": 0.2
             }
            },
            "type": "barpolar"
           }
          ],
          "carpet": [
           {
            "aaxis": {
             "endlinecolor": "#2a3f5f",
             "gridcolor": "white",
             "linecolor": "white",
             "minorgridcolor": "white",
             "startlinecolor": "#2a3f5f"
            },
            "baxis": {
             "endlinecolor": "#2a3f5f",
             "gridcolor": "white",
             "linecolor": "white",
             "minorgridcolor": "white",
             "startlinecolor": "#2a3f5f"
            },
            "type": "carpet"
           }
          ],
          "choropleth": [
           {
            "colorbar": {
             "outlinewidth": 0,
             "ticks": ""
            },
            "type": "choropleth"
           }
          ],
          "contour": [
           {
            "colorbar": {
             "outlinewidth": 0,
             "ticks": ""
            },
            "colorscale": [
             [
              0,
              "#0d0887"
             ],
             [
              0.1111111111111111,
              "#46039f"
             ],
             [
              0.2222222222222222,
              "#7201a8"
             ],
             [
              0.3333333333333333,
              "#9c179e"
             ],
             [
              0.4444444444444444,
              "#bd3786"
             ],
             [
              0.5555555555555556,
              "#d8576b"
             ],
             [
              0.6666666666666666,
              "#ed7953"
             ],
             [
              0.7777777777777778,
              "#fb9f3a"
             ],
             [
              0.8888888888888888,
              "#fdca26"
             ],
             [
              1,
              "#f0f921"
             ]
            ],
            "type": "contour"
           }
          ],
          "contourcarpet": [
           {
            "colorbar": {
             "outlinewidth": 0,
             "ticks": ""
            },
            "type": "contourcarpet"
           }
          ],
          "heatmap": [
           {
            "colorbar": {
             "outlinewidth": 0,
             "ticks": ""
            },
            "colorscale": [
             [
              0,
              "#0d0887"
             ],
             [
              0.1111111111111111,
              "#46039f"
             ],
             [
              0.2222222222222222,
              "#7201a8"
             ],
             [
              0.3333333333333333,
              "#9c179e"
             ],
             [
              0.4444444444444444,
              "#bd3786"
             ],
             [
              0.5555555555555556,
              "#d8576b"
             ],
             [
              0.6666666666666666,
              "#ed7953"
             ],
             [
              0.7777777777777778,
              "#fb9f3a"
             ],
             [
              0.8888888888888888,
              "#fdca26"
             ],
             [
              1,
              "#f0f921"
             ]
            ],
            "type": "heatmap"
           }
          ],
          "heatmapgl": [
           {
            "colorbar": {
             "outlinewidth": 0,
             "ticks": ""
            },
            "colorscale": [
             [
              0,
              "#0d0887"
             ],
             [
              0.1111111111111111,
              "#46039f"
             ],
             [
              0.2222222222222222,
              "#7201a8"
             ],
             [
              0.3333333333333333,
              "#9c179e"
             ],
             [
              0.4444444444444444,
              "#bd3786"
             ],
             [
              0.5555555555555556,
              "#d8576b"
             ],
             [
              0.6666666666666666,
              "#ed7953"
             ],
             [
              0.7777777777777778,
              "#fb9f3a"
             ],
             [
              0.8888888888888888,
              "#fdca26"
             ],
             [
              1,
              "#f0f921"
             ]
            ],
            "type": "heatmapgl"
           }
          ],
          "histogram": [
           {
            "marker": {
             "pattern": {
              "fillmode": "overlay",
              "size": 10,
              "solidity": 0.2
             }
            },
            "type": "histogram"
           }
          ],
          "histogram2d": [
           {
            "colorbar": {
             "outlinewidth": 0,
             "ticks": ""
            },
            "colorscale": [
             [
              0,
              "#0d0887"
             ],
             [
              0.1111111111111111,
              "#46039f"
             ],
             [
              0.2222222222222222,
              "#7201a8"
             ],
             [
              0.3333333333333333,
              "#9c179e"
             ],
             [
              0.4444444444444444,
              "#bd3786"
             ],
             [
              0.5555555555555556,
              "#d8576b"
             ],
             [
              0.6666666666666666,
              "#ed7953"
             ],
             [
              0.7777777777777778,
              "#fb9f3a"
             ],
             [
              0.8888888888888888,
              "#fdca26"
             ],
             [
              1,
              "#f0f921"
             ]
            ],
            "type": "histogram2d"
           }
          ],
          "histogram2dcontour": [
           {
            "colorbar": {
             "outlinewidth": 0,
             "ticks": ""
            },
            "colorscale": [
             [
              0,
              "#0d0887"
             ],
             [
              0.1111111111111111,
              "#46039f"
             ],
             [
              0.2222222222222222,
              "#7201a8"
             ],
             [
              0.3333333333333333,
              "#9c179e"
             ],
             [
              0.4444444444444444,
              "#bd3786"
             ],
             [
              0.5555555555555556,
              "#d8576b"
             ],
             [
              0.6666666666666666,
              "#ed7953"
             ],
             [
              0.7777777777777778,
              "#fb9f3a"
             ],
             [
              0.8888888888888888,
              "#fdca26"
             ],
             [
              1,
              "#f0f921"
             ]
            ],
            "type": "histogram2dcontour"
           }
          ],
          "mesh3d": [
           {
            "colorbar": {
             "outlinewidth": 0,
             "ticks": ""
            },
            "type": "mesh3d"
           }
          ],
          "parcoords": [
           {
            "line": {
             "colorbar": {
              "outlinewidth": 0,
              "ticks": ""
             }
            },
            "type": "parcoords"
           }
          ],
          "pie": [
           {
            "automargin": true,
            "type": "pie"
           }
          ],
          "scatter": [
           {
            "marker": {
             "colorbar": {
              "outlinewidth": 0,
              "ticks": ""
             }
            },
            "type": "scatter"
           }
          ],
          "scatter3d": [
           {
            "line": {
             "colorbar": {
              "outlinewidth": 0,
              "ticks": ""
             }
            },
            "marker": {
             "colorbar": {
              "outlinewidth": 0,
              "ticks": ""
             }
            },
            "type": "scatter3d"
           }
          ],
          "scattercarpet": [
           {
            "marker": {
             "colorbar": {
              "outlinewidth": 0,
              "ticks": ""
             }
            },
            "type": "scattercarpet"
           }
          ],
          "scattergeo": [
           {
            "marker": {
             "colorbar": {
              "outlinewidth": 0,
              "ticks": ""
             }
            },
            "type": "scattergeo"
           }
          ],
          "scattergl": [
           {
            "marker": {
             "colorbar": {
              "outlinewidth": 0,
              "ticks": ""
             }
            },
            "type": "scattergl"
           }
          ],
          "scattermapbox": [
           {
            "marker": {
             "colorbar": {
              "outlinewidth": 0,
              "ticks": ""
             }
            },
            "type": "scattermapbox"
           }
          ],
          "scatterpolar": [
           {
            "marker": {
             "colorbar": {
              "outlinewidth": 0,
              "ticks": ""
             }
            },
            "type": "scatterpolar"
           }
          ],
          "scatterpolargl": [
           {
            "marker": {
             "colorbar": {
              "outlinewidth": 0,
              "ticks": ""
             }
            },
            "type": "scatterpolargl"
           }
          ],
          "scatterternary": [
           {
            "marker": {
             "colorbar": {
              "outlinewidth": 0,
              "ticks": ""
             }
            },
            "type": "scatterternary"
           }
          ],
          "surface": [
           {
            "colorbar": {
             "outlinewidth": 0,
             "ticks": ""
            },
            "colorscale": [
             [
              0,
              "#0d0887"
             ],
             [
              0.1111111111111111,
              "#46039f"
             ],
             [
              0.2222222222222222,
              "#7201a8"
             ],
             [
              0.3333333333333333,
              "#9c179e"
             ],
             [
              0.4444444444444444,
              "#bd3786"
             ],
             [
              0.5555555555555556,
              "#d8576b"
             ],
             [
              0.6666666666666666,
              "#ed7953"
             ],
             [
              0.7777777777777778,
              "#fb9f3a"
             ],
             [
              0.8888888888888888,
              "#fdca26"
             ],
             [
              1,
              "#f0f921"
             ]
            ],
            "type": "surface"
           }
          ],
          "table": [
           {
            "cells": {
             "fill": {
              "color": "#EBF0F8"
             },
             "line": {
              "color": "white"
             }
            },
            "header": {
             "fill": {
              "color": "#C8D4E3"
             },
             "line": {
              "color": "white"
             }
            },
            "type": "table"
           }
          ]
         },
         "layout": {
          "annotationdefaults": {
           "arrowcolor": "#2a3f5f",
           "arrowhead": 0,
           "arrowwidth": 1
          },
          "autotypenumbers": "strict",
          "coloraxis": {
           "colorbar": {
            "outlinewidth": 0,
            "ticks": ""
           }
          },
          "colorscale": {
           "diverging": [
            [
             0,
             "#8e0152"
            ],
            [
             0.1,
             "#c51b7d"
            ],
            [
             0.2,
             "#de77ae"
            ],
            [
             0.3,
             "#f1b6da"
            ],
            [
             0.4,
             "#fde0ef"
            ],
            [
             0.5,
             "#f7f7f7"
            ],
            [
             0.6,
             "#e6f5d0"
            ],
            [
             0.7,
             "#b8e186"
            ],
            [
             0.8,
             "#7fbc41"
            ],
            [
             0.9,
             "#4d9221"
            ],
            [
             1,
             "#276419"
            ]
           ],
           "sequential": [
            [
             0,
             "#0d0887"
            ],
            [
             0.1111111111111111,
             "#46039f"
            ],
            [
             0.2222222222222222,
             "#7201a8"
            ],
            [
             0.3333333333333333,
             "#9c179e"
            ],
            [
             0.4444444444444444,
             "#bd3786"
            ],
            [
             0.5555555555555556,
             "#d8576b"
            ],
            [
             0.6666666666666666,
             "#ed7953"
            ],
            [
             0.7777777777777778,
             "#fb9f3a"
            ],
            [
             0.8888888888888888,
             "#fdca26"
            ],
            [
             1,
             "#f0f921"
            ]
           ],
           "sequentialminus": [
            [
             0,
             "#0d0887"
            ],
            [
             0.1111111111111111,
             "#46039f"
            ],
            [
             0.2222222222222222,
             "#7201a8"
            ],
            [
             0.3333333333333333,
             "#9c179e"
            ],
            [
             0.4444444444444444,
             "#bd3786"
            ],
            [
             0.5555555555555556,
             "#d8576b"
            ],
            [
             0.6666666666666666,
             "#ed7953"
            ],
            [
             0.7777777777777778,
             "#fb9f3a"
            ],
            [
             0.8888888888888888,
             "#fdca26"
            ],
            [
             1,
             "#f0f921"
            ]
           ]
          },
          "colorway": [
           "#636efa",
           "#EF553B",
           "#00cc96",
           "#ab63fa",
           "#FFA15A",
           "#19d3f3",
           "#FF6692",
           "#B6E880",
           "#FF97FF",
           "#FECB52"
          ],
          "font": {
           "color": "#2a3f5f"
          },
          "geo": {
           "bgcolor": "white",
           "lakecolor": "white",
           "landcolor": "#E5ECF6",
           "showlakes": true,
           "showland": true,
           "subunitcolor": "white"
          },
          "hoverlabel": {
           "align": "left"
          },
          "hovermode": "closest",
          "mapbox": {
           "style": "light"
          },
          "paper_bgcolor": "white",
          "plot_bgcolor": "#E5ECF6",
          "polar": {
           "angularaxis": {
            "gridcolor": "white",
            "linecolor": "white",
            "ticks": ""
           },
           "bgcolor": "#E5ECF6",
           "radialaxis": {
            "gridcolor": "white",
            "linecolor": "white",
            "ticks": ""
           }
          },
          "scene": {
           "xaxis": {
            "backgroundcolor": "#E5ECF6",
            "gridcolor": "white",
            "gridwidth": 2,
            "linecolor": "white",
            "showbackground": true,
            "ticks": "",
            "zerolinecolor": "white"
           },
           "yaxis": {
            "backgroundcolor": "#E5ECF6",
            "gridcolor": "white",
            "gridwidth": 2,
            "linecolor": "white",
            "showbackground": true,
            "ticks": "",
            "zerolinecolor": "white"
           },
           "zaxis": {
            "backgroundcolor": "#E5ECF6",
            "gridcolor": "white",
            "gridwidth": 2,
            "linecolor": "white",
            "showbackground": true,
            "ticks": "",
            "zerolinecolor": "white"
           }
          },
          "shapedefaults": {
           "line": {
            "color": "#2a3f5f"
           }
          },
          "ternary": {
           "aaxis": {
            "gridcolor": "white",
            "linecolor": "white",
            "ticks": ""
           },
           "baxis": {
            "gridcolor": "white",
            "linecolor": "white",
            "ticks": ""
           },
           "bgcolor": "#E5ECF6",
           "caxis": {
            "gridcolor": "white",
            "linecolor": "white",
            "ticks": ""
           }
          },
          "title": {
           "x": 0.05
          },
          "xaxis": {
           "automargin": true,
           "gridcolor": "white",
           "linecolor": "white",
           "ticks": "",
           "title": {
            "standoff": 15
           },
           "zerolinecolor": "white",
           "zerolinewidth": 2
          },
          "yaxis": {
           "automargin": true,
           "gridcolor": "white",
           "linecolor": "white",
           "ticks": "",
           "title": {
            "standoff": 15
           },
           "zerolinecolor": "white",
           "zerolinewidth": 2
          }
         }
        },
        "title": {
         "text": "Scatter Plot"
        },
        "xaxis": {
         "anchor": "y",
         "domain": [
          0,
          1
         ],
         "title": {
          "text": "index"
         }
        },
        "yaxis": {
         "anchor": "x",
         "domain": [
          0,
          1
         ],
         "title": {
          "text": "value"
         }
        }
       }
      }
     },
     "metadata": {},
     "output_type": "display_data"
    },
    {
     "data": {
      "application/vnd.plotly.v1+json": {
       "config": {
        "plotlyServerURL": "https://plot.ly"
       },
       "data": [
        {
         "hovertemplate": "DISTRICT=Dallas ISD<br>index=%{x}<br>value=%{y}<extra></extra>",
         "legendgroup": "Dallas ISD",
         "marker": {
          "color": "#636efa",
          "symbol": "circle"
         },
         "mode": "markers",
         "name": "Dallas ISD",
         "orientation": "v",
         "showlegend": true,
         "type": "scatter",
         "x": [
          "DDA00AR01218R",
          "DDA00AR01219R",
          "DDA00AR01221R",
          "DDA00AR01222R"
         ],
         "xaxis": "x",
         "y": [
          38,
          41,
          37,
          43
         ],
         "yaxis": "y"
        },
        {
         "hovertemplate": "DISTRICT=Fort Worth ISD<br>index=%{x}<br>value=%{y}<extra></extra>",
         "legendgroup": "Fort Worth ISD",
         "marker": {
          "color": "#EF553B",
          "symbol": "circle"
         },
         "mode": "markers",
         "name": "Fort Worth ISD",
         "orientation": "v",
         "showlegend": true,
         "type": "scatter",
         "x": [
          "DDA00AR01218R",
          "DDA00AR01219R",
          "DDA00AR01221R",
          "DDA00AR01222R"
         ],
         "xaxis": "x",
         "y": [
          35,
          35,
          30,
          38
         ],
         "yaxis": "y"
        },
        {
         "line": {
          "color": "black",
          "width": 4
         },
         "mode": "markers",
         "name": "Select average",
         "type": "scatter",
         "x": [
          "DDA00AR01218R",
          "DDA00AR01219R",
          "DDA00AR01221R",
          "DDA00AR01222R"
         ],
         "y": [
          36.5,
          38,
          33.5,
          40.5
         ]
        },
        {
         "line": {
          "color": "grey",
          "width": 4
         },
         "mode": "markers",
         "name": "Overall average",
         "type": "scatter",
         "x": [
          "DDA00AR01218R",
          "DDA00AR01219R",
          "DDA00AR01221R",
          "DDA00AR01222R"
         ],
         "y": [
          36.5,
          38,
          33.5,
          40.5
         ]
        },
        {
         "name": "Dallas ISD",
         "type": "scatter",
         "x": [
          "DDA00AR01218R",
          "DDA00AR01219R",
          "DDA00AR01221R",
          "DDA00AR01222R"
         ],
         "y": [
          38,
          41,
          37,
          43
         ]
        },
        {
         "name": "Fort Worth ISD",
         "type": "scatter",
         "x": [
          "DDA00AR01218R",
          "DDA00AR01219R",
          "DDA00AR01221R",
          "DDA00AR01222R"
         ],
         "y": [
          35,
          35,
          30,
          38
         ]
        },
        {
         "line": {
          "color": "black",
          "width": 3
         },
         "name": "Select average",
         "type": "scatter",
         "x": [
          "DDA00AR01218R",
          "DDA00AR01219R",
          "DDA00AR01221R",
          "DDA00AR01222R"
         ],
         "y": [
          36.5,
          38,
          33.5,
          40.5
         ]
        },
        {
         "line": {
          "color": "grey",
          "width": 3
         },
         "name": "Overall average",
         "type": "scatter",
         "x": [
          "DDA00AR01218R",
          "DDA00AR01219R",
          "DDA00AR01221R",
          "DDA00AR01222R"
         ],
         "y": [
          36.5,
          38,
          33.5,
          40.5
         ]
        }
       ],
       "layout": {
        "legend": {
         "title": {
          "text": "DISTRICT"
         },
         "tracegroupgap": 0
        },
        "template": {
         "data": {
          "bar": [
           {
            "error_x": {
             "color": "#2a3f5f"
            },
            "error_y": {
             "color": "#2a3f5f"
            },
            "marker": {
             "line": {
              "color": "#E5ECF6",
              "width": 0.5
             },
             "pattern": {
              "fillmode": "overlay",
              "size": 10,
              "solidity": 0.2
             }
            },
            "type": "bar"
           }
          ],
          "barpolar": [
           {
            "marker": {
             "line": {
              "color": "#E5ECF6",
              "width": 0.5
             },
             "pattern": {
              "fillmode": "overlay",
              "size": 10,
              "solidity": 0.2
             }
            },
            "type": "barpolar"
           }
          ],
          "carpet": [
           {
            "aaxis": {
             "endlinecolor": "#2a3f5f",
             "gridcolor": "white",
             "linecolor": "white",
             "minorgridcolor": "white",
             "startlinecolor": "#2a3f5f"
            },
            "baxis": {
             "endlinecolor": "#2a3f5f",
             "gridcolor": "white",
             "linecolor": "white",
             "minorgridcolor": "white",
             "startlinecolor": "#2a3f5f"
            },
            "type": "carpet"
           }
          ],
          "choropleth": [
           {
            "colorbar": {
             "outlinewidth": 0,
             "ticks": ""
            },
            "type": "choropleth"
           }
          ],
          "contour": [
           {
            "colorbar": {
             "outlinewidth": 0,
             "ticks": ""
            },
            "colorscale": [
             [
              0,
              "#0d0887"
             ],
             [
              0.1111111111111111,
              "#46039f"
             ],
             [
              0.2222222222222222,
              "#7201a8"
             ],
             [
              0.3333333333333333,
              "#9c179e"
             ],
             [
              0.4444444444444444,
              "#bd3786"
             ],
             [
              0.5555555555555556,
              "#d8576b"
             ],
             [
              0.6666666666666666,
              "#ed7953"
             ],
             [
              0.7777777777777778,
              "#fb9f3a"
             ],
             [
              0.8888888888888888,
              "#fdca26"
             ],
             [
              1,
              "#f0f921"
             ]
            ],
            "type": "contour"
           }
          ],
          "contourcarpet": [
           {
            "colorbar": {
             "outlinewidth": 0,
             "ticks": ""
            },
            "type": "contourcarpet"
           }
          ],
          "heatmap": [
           {
            "colorbar": {
             "outlinewidth": 0,
             "ticks": ""
            },
            "colorscale": [
             [
              0,
              "#0d0887"
             ],
             [
              0.1111111111111111,
              "#46039f"
             ],
             [
              0.2222222222222222,
              "#7201a8"
             ],
             [
              0.3333333333333333,
              "#9c179e"
             ],
             [
              0.4444444444444444,
              "#bd3786"
             ],
             [
              0.5555555555555556,
              "#d8576b"
             ],
             [
              0.6666666666666666,
              "#ed7953"
             ],
             [
              0.7777777777777778,
              "#fb9f3a"
             ],
             [
              0.8888888888888888,
              "#fdca26"
             ],
             [
              1,
              "#f0f921"
             ]
            ],
            "type": "heatmap"
           }
          ],
          "heatmapgl": [
           {
            "colorbar": {
             "outlinewidth": 0,
             "ticks": ""
            },
            "colorscale": [
             [
              0,
              "#0d0887"
             ],
             [
              0.1111111111111111,
              "#46039f"
             ],
             [
              0.2222222222222222,
              "#7201a8"
             ],
             [
              0.3333333333333333,
              "#9c179e"
             ],
             [
              0.4444444444444444,
              "#bd3786"
             ],
             [
              0.5555555555555556,
              "#d8576b"
             ],
             [
              0.6666666666666666,
              "#ed7953"
             ],
             [
              0.7777777777777778,
              "#fb9f3a"
             ],
             [
              0.8888888888888888,
              "#fdca26"
             ],
             [
              1,
              "#f0f921"
             ]
            ],
            "type": "heatmapgl"
           }
          ],
          "histogram": [
           {
            "marker": {
             "pattern": {
              "fillmode": "overlay",
              "size": 10,
              "solidity": 0.2
             }
            },
            "type": "histogram"
           }
          ],
          "histogram2d": [
           {
            "colorbar": {
             "outlinewidth": 0,
             "ticks": ""
            },
            "colorscale": [
             [
              0,
              "#0d0887"
             ],
             [
              0.1111111111111111,
              "#46039f"
             ],
             [
              0.2222222222222222,
              "#7201a8"
             ],
             [
              0.3333333333333333,
              "#9c179e"
             ],
             [
              0.4444444444444444,
              "#bd3786"
             ],
             [
              0.5555555555555556,
              "#d8576b"
             ],
             [
              0.6666666666666666,
              "#ed7953"
             ],
             [
              0.7777777777777778,
              "#fb9f3a"
             ],
             [
              0.8888888888888888,
              "#fdca26"
             ],
             [
              1,
              "#f0f921"
             ]
            ],
            "type": "histogram2d"
           }
          ],
          "histogram2dcontour": [
           {
            "colorbar": {
             "outlinewidth": 0,
             "ticks": ""
            },
            "colorscale": [
             [
              0,
              "#0d0887"
             ],
             [
              0.1111111111111111,
              "#46039f"
             ],
             [
              0.2222222222222222,
              "#7201a8"
             ],
             [
              0.3333333333333333,
              "#9c179e"
             ],
             [
              0.4444444444444444,
              "#bd3786"
             ],
             [
              0.5555555555555556,
              "#d8576b"
             ],
             [
              0.6666666666666666,
              "#ed7953"
             ],
             [
              0.7777777777777778,
              "#fb9f3a"
             ],
             [
              0.8888888888888888,
              "#fdca26"
             ],
             [
              1,
              "#f0f921"
             ]
            ],
            "type": "histogram2dcontour"
           }
          ],
          "mesh3d": [
           {
            "colorbar": {
             "outlinewidth": 0,
             "ticks": ""
            },
            "type": "mesh3d"
           }
          ],
          "parcoords": [
           {
            "line": {
             "colorbar": {
              "outlinewidth": 0,
              "ticks": ""
             }
            },
            "type": "parcoords"
           }
          ],
          "pie": [
           {
            "automargin": true,
            "type": "pie"
           }
          ],
          "scatter": [
           {
            "marker": {
             "colorbar": {
              "outlinewidth": 0,
              "ticks": ""
             }
            },
            "type": "scatter"
           }
          ],
          "scatter3d": [
           {
            "line": {
             "colorbar": {
              "outlinewidth": 0,
              "ticks": ""
             }
            },
            "marker": {
             "colorbar": {
              "outlinewidth": 0,
              "ticks": ""
             }
            },
            "type": "scatter3d"
           }
          ],
          "scattercarpet": [
           {
            "marker": {
             "colorbar": {
              "outlinewidth": 0,
              "ticks": ""
             }
            },
            "type": "scattercarpet"
           }
          ],
          "scattergeo": [
           {
            "marker": {
             "colorbar": {
              "outlinewidth": 0,
              "ticks": ""
             }
            },
            "type": "scattergeo"
           }
          ],
          "scattergl": [
           {
            "marker": {
             "colorbar": {
              "outlinewidth": 0,
              "ticks": ""
             }
            },
            "type": "scattergl"
           }
          ],
          "scattermapbox": [
           {
            "marker": {
             "colorbar": {
              "outlinewidth": 0,
              "ticks": ""
             }
            },
            "type": "scattermapbox"
           }
          ],
          "scatterpolar": [
           {
            "marker": {
             "colorbar": {
              "outlinewidth": 0,
              "ticks": ""
             }
            },
            "type": "scatterpolar"
           }
          ],
          "scatterpolargl": [
           {
            "marker": {
             "colorbar": {
              "outlinewidth": 0,
              "ticks": ""
             }
            },
            "type": "scatterpolargl"
           }
          ],
          "scatterternary": [
           {
            "marker": {
             "colorbar": {
              "outlinewidth": 0,
              "ticks": ""
             }
            },
            "type": "scatterternary"
           }
          ],
          "surface": [
           {
            "colorbar": {
             "outlinewidth": 0,
             "ticks": ""
            },
            "colorscale": [
             [
              0,
              "#0d0887"
             ],
             [
              0.1111111111111111,
              "#46039f"
             ],
             [
              0.2222222222222222,
              "#7201a8"
             ],
             [
              0.3333333333333333,
              "#9c179e"
             ],
             [
              0.4444444444444444,
              "#bd3786"
             ],
             [
              0.5555555555555556,
              "#d8576b"
             ],
             [
              0.6666666666666666,
              "#ed7953"
             ],
             [
              0.7777777777777778,
              "#fb9f3a"
             ],
             [
              0.8888888888888888,
              "#fdca26"
             ],
             [
              1,
              "#f0f921"
             ]
            ],
            "type": "surface"
           }
          ],
          "table": [
           {
            "cells": {
             "fill": {
              "color": "#EBF0F8"
             },
             "line": {
              "color": "white"
             }
            },
            "header": {
             "fill": {
              "color": "#C8D4E3"
             },
             "line": {
              "color": "white"
             }
            },
            "type": "table"
           }
          ]
         },
         "layout": {
          "annotationdefaults": {
           "arrowcolor": "#2a3f5f",
           "arrowhead": 0,
           "arrowwidth": 1
          },
          "autotypenumbers": "strict",
          "coloraxis": {
           "colorbar": {
            "outlinewidth": 0,
            "ticks": ""
           }
          },
          "colorscale": {
           "diverging": [
            [
             0,
             "#8e0152"
            ],
            [
             0.1,
             "#c51b7d"
            ],
            [
             0.2,
             "#de77ae"
            ],
            [
             0.3,
             "#f1b6da"
            ],
            [
             0.4,
             "#fde0ef"
            ],
            [
             0.5,
             "#f7f7f7"
            ],
            [
             0.6,
             "#e6f5d0"
            ],
            [
             0.7,
             "#b8e186"
            ],
            [
             0.8,
             "#7fbc41"
            ],
            [
             0.9,
             "#4d9221"
            ],
            [
             1,
             "#276419"
            ]
           ],
           "sequential": [
            [
             0,
             "#0d0887"
            ],
            [
             0.1111111111111111,
             "#46039f"
            ],
            [
             0.2222222222222222,
             "#7201a8"
            ],
            [
             0.3333333333333333,
             "#9c179e"
            ],
            [
             0.4444444444444444,
             "#bd3786"
            ],
            [
             0.5555555555555556,
             "#d8576b"
            ],
            [
             0.6666666666666666,
             "#ed7953"
            ],
            [
             0.7777777777777778,
             "#fb9f3a"
            ],
            [
             0.8888888888888888,
             "#fdca26"
            ],
            [
             1,
             "#f0f921"
            ]
           ],
           "sequentialminus": [
            [
             0,
             "#0d0887"
            ],
            [
             0.1111111111111111,
             "#46039f"
            ],
            [
             0.2222222222222222,
             "#7201a8"
            ],
            [
             0.3333333333333333,
             "#9c179e"
            ],
            [
             0.4444444444444444,
             "#bd3786"
            ],
            [
             0.5555555555555556,
             "#d8576b"
            ],
            [
             0.6666666666666666,
             "#ed7953"
            ],
            [
             0.7777777777777778,
             "#fb9f3a"
            ],
            [
             0.8888888888888888,
             "#fdca26"
            ],
            [
             1,
             "#f0f921"
            ]
           ]
          },
          "colorway": [
           "#636efa",
           "#EF553B",
           "#00cc96",
           "#ab63fa",
           "#FFA15A",
           "#19d3f3",
           "#FF6692",
           "#B6E880",
           "#FF97FF",
           "#FECB52"
          ],
          "font": {
           "color": "#2a3f5f"
          },
          "geo": {
           "bgcolor": "white",
           "lakecolor": "white",
           "landcolor": "#E5ECF6",
           "showlakes": true,
           "showland": true,
           "subunitcolor": "white"
          },
          "hoverlabel": {
           "align": "left"
          },
          "hovermode": "closest",
          "mapbox": {
           "style": "light"
          },
          "paper_bgcolor": "white",
          "plot_bgcolor": "#E5ECF6",
          "polar": {
           "angularaxis": {
            "gridcolor": "white",
            "linecolor": "white",
            "ticks": ""
           },
           "bgcolor": "#E5ECF6",
           "radialaxis": {
            "gridcolor": "white",
            "linecolor": "white",
            "ticks": ""
           }
          },
          "scene": {
           "xaxis": {
            "backgroundcolor": "#E5ECF6",
            "gridcolor": "white",
            "gridwidth": 2,
            "linecolor": "white",
            "showbackground": true,
            "ticks": "",
            "zerolinecolor": "white"
           },
           "yaxis": {
            "backgroundcolor": "#E5ECF6",
            "gridcolor": "white",
            "gridwidth": 2,
            "linecolor": "white",
            "showbackground": true,
            "ticks": "",
            "zerolinecolor": "white"
           },
           "zaxis": {
            "backgroundcolor": "#E5ECF6",
            "gridcolor": "white",
            "gridwidth": 2,
            "linecolor": "white",
            "showbackground": true,
            "ticks": "",
            "zerolinecolor": "white"
           }
          },
          "shapedefaults": {
           "line": {
            "color": "#2a3f5f"
           }
          },
          "ternary": {
           "aaxis": {
            "gridcolor": "white",
            "linecolor": "white",
            "ticks": ""
           },
           "baxis": {
            "gridcolor": "white",
            "linecolor": "white",
            "ticks": ""
           },
           "bgcolor": "#E5ECF6",
           "caxis": {
            "gridcolor": "white",
            "linecolor": "white",
            "ticks": ""
           }
          },
          "title": {
           "x": 0.05
          },
          "xaxis": {
           "automargin": true,
           "gridcolor": "white",
           "linecolor": "white",
           "ticks": "",
           "title": {
            "standoff": 15
           },
           "zerolinecolor": "white",
           "zerolinewidth": 2
          },
          "yaxis": {
           "automargin": true,
           "gridcolor": "white",
           "linecolor": "white",
           "ticks": "",
           "title": {
            "standoff": 15
           },
           "zerolinecolor": "white",
           "zerolinewidth": 2
          }
         }
        },
        "title": {
         "text": "Line Plot"
        },
        "xaxis": {
         "anchor": "y",
         "domain": [
          0,
          1
         ],
         "title": {
          "text": "X Axis"
         }
        },
        "yaxis": {
         "anchor": "x",
         "domain": [
          0,
          1
         ],
         "title": {
          "text": "Y Axis"
         }
        }
       }
      }
     },
     "metadata": {},
     "output_type": "display_data"
    },
    {
     "data": {
      "application/vnd.plotly.v1+json": {
       "config": {
        "plotlyServerURL": "https://plot.ly"
       },
       "data": [
        {
         "alignmentgroup": "True",
         "hovertemplate": "DISTRICT=%{x}<br>value=%{y}<extra></extra>",
         "legendgroup": "",
         "marker": {
          "color": "#636efa"
         },
         "name": "",
         "notched": false,
         "offsetgroup": "",
         "orientation": "v",
         "showlegend": false,
         "type": "box",
         "x": [
          "Dallas ISD",
          "Dallas ISD",
          "Dallas ISD",
          "Dallas ISD",
          "Fort Worth ISD",
          "Fort Worth ISD",
          "Fort Worth ISD",
          "Fort Worth ISD"
         ],
         "x0": " ",
         "xaxis": "x",
         "y": [
          38,
          41,
          37,
          43,
          35,
          35,
          30,
          38
         ],
         "y0": " ",
         "yaxis": "y"
        },
        {
         "line": {
          "color": "black",
          "width": 3
         },
         "name": "Select average",
         "type": "box",
         "y": [
          36.5,
          38,
          33.5,
          40.5
         ]
        },
        {
         "line": {
          "color": "grey",
          "width": 3
         },
         "name": "Overall average",
         "type": "box",
         "y": [
          36.5,
          38,
          33.5,
          40.5
         ]
        }
       ],
       "layout": {
        "boxmode": "group",
        "legend": {
         "tracegroupgap": 0
        },
        "template": {
         "data": {
          "bar": [
           {
            "error_x": {
             "color": "#2a3f5f"
            },
            "error_y": {
             "color": "#2a3f5f"
            },
            "marker": {
             "line": {
              "color": "#E5ECF6",
              "width": 0.5
             },
             "pattern": {
              "fillmode": "overlay",
              "size": 10,
              "solidity": 0.2
             }
            },
            "type": "bar"
           }
          ],
          "barpolar": [
           {
            "marker": {
             "line": {
              "color": "#E5ECF6",
              "width": 0.5
             },
             "pattern": {
              "fillmode": "overlay",
              "size": 10,
              "solidity": 0.2
             }
            },
            "type": "barpolar"
           }
          ],
          "carpet": [
           {
            "aaxis": {
             "endlinecolor": "#2a3f5f",
             "gridcolor": "white",
             "linecolor": "white",
             "minorgridcolor": "white",
             "startlinecolor": "#2a3f5f"
            },
            "baxis": {
             "endlinecolor": "#2a3f5f",
             "gridcolor": "white",
             "linecolor": "white",
             "minorgridcolor": "white",
             "startlinecolor": "#2a3f5f"
            },
            "type": "carpet"
           }
          ],
          "choropleth": [
           {
            "colorbar": {
             "outlinewidth": 0,
             "ticks": ""
            },
            "type": "choropleth"
           }
          ],
          "contour": [
           {
            "colorbar": {
             "outlinewidth": 0,
             "ticks": ""
            },
            "colorscale": [
             [
              0,
              "#0d0887"
             ],
             [
              0.1111111111111111,
              "#46039f"
             ],
             [
              0.2222222222222222,
              "#7201a8"
             ],
             [
              0.3333333333333333,
              "#9c179e"
             ],
             [
              0.4444444444444444,
              "#bd3786"
             ],
             [
              0.5555555555555556,
              "#d8576b"
             ],
             [
              0.6666666666666666,
              "#ed7953"
             ],
             [
              0.7777777777777778,
              "#fb9f3a"
             ],
             [
              0.8888888888888888,
              "#fdca26"
             ],
             [
              1,
              "#f0f921"
             ]
            ],
            "type": "contour"
           }
          ],
          "contourcarpet": [
           {
            "colorbar": {
             "outlinewidth": 0,
             "ticks": ""
            },
            "type": "contourcarpet"
           }
          ],
          "heatmap": [
           {
            "colorbar": {
             "outlinewidth": 0,
             "ticks": ""
            },
            "colorscale": [
             [
              0,
              "#0d0887"
             ],
             [
              0.1111111111111111,
              "#46039f"
             ],
             [
              0.2222222222222222,
              "#7201a8"
             ],
             [
              0.3333333333333333,
              "#9c179e"
             ],
             [
              0.4444444444444444,
              "#bd3786"
             ],
             [
              0.5555555555555556,
              "#d8576b"
             ],
             [
              0.6666666666666666,
              "#ed7953"
             ],
             [
              0.7777777777777778,
              "#fb9f3a"
             ],
             [
              0.8888888888888888,
              "#fdca26"
             ],
             [
              1,
              "#f0f921"
             ]
            ],
            "type": "heatmap"
           }
          ],
          "heatmapgl": [
           {
            "colorbar": {
             "outlinewidth": 0,
             "ticks": ""
            },
            "colorscale": [
             [
              0,
              "#0d0887"
             ],
             [
              0.1111111111111111,
              "#46039f"
             ],
             [
              0.2222222222222222,
              "#7201a8"
             ],
             [
              0.3333333333333333,
              "#9c179e"
             ],
             [
              0.4444444444444444,
              "#bd3786"
             ],
             [
              0.5555555555555556,
              "#d8576b"
             ],
             [
              0.6666666666666666,
              "#ed7953"
             ],
             [
              0.7777777777777778,
              "#fb9f3a"
             ],
             [
              0.8888888888888888,
              "#fdca26"
             ],
             [
              1,
              "#f0f921"
             ]
            ],
            "type": "heatmapgl"
           }
          ],
          "histogram": [
           {
            "marker": {
             "pattern": {
              "fillmode": "overlay",
              "size": 10,
              "solidity": 0.2
             }
            },
            "type": "histogram"
           }
          ],
          "histogram2d": [
           {
            "colorbar": {
             "outlinewidth": 0,
             "ticks": ""
            },
            "colorscale": [
             [
              0,
              "#0d0887"
             ],
             [
              0.1111111111111111,
              "#46039f"
             ],
             [
              0.2222222222222222,
              "#7201a8"
             ],
             [
              0.3333333333333333,
              "#9c179e"
             ],
             [
              0.4444444444444444,
              "#bd3786"
             ],
             [
              0.5555555555555556,
              "#d8576b"
             ],
             [
              0.6666666666666666,
              "#ed7953"
             ],
             [
              0.7777777777777778,
              "#fb9f3a"
             ],
             [
              0.8888888888888888,
              "#fdca26"
             ],
             [
              1,
              "#f0f921"
             ]
            ],
            "type": "histogram2d"
           }
          ],
          "histogram2dcontour": [
           {
            "colorbar": {
             "outlinewidth": 0,
             "ticks": ""
            },
            "colorscale": [
             [
              0,
              "#0d0887"
             ],
             [
              0.1111111111111111,
              "#46039f"
             ],
             [
              0.2222222222222222,
              "#7201a8"
             ],
             [
              0.3333333333333333,
              "#9c179e"
             ],
             [
              0.4444444444444444,
              "#bd3786"
             ],
             [
              0.5555555555555556,
              "#d8576b"
             ],
             [
              0.6666666666666666,
              "#ed7953"
             ],
             [
              0.7777777777777778,
              "#fb9f3a"
             ],
             [
              0.8888888888888888,
              "#fdca26"
             ],
             [
              1,
              "#f0f921"
             ]
            ],
            "type": "histogram2dcontour"
           }
          ],
          "mesh3d": [
           {
            "colorbar": {
             "outlinewidth": 0,
             "ticks": ""
            },
            "type": "mesh3d"
           }
          ],
          "parcoords": [
           {
            "line": {
             "colorbar": {
              "outlinewidth": 0,
              "ticks": ""
             }
            },
            "type": "parcoords"
           }
          ],
          "pie": [
           {
            "automargin": true,
            "type": "pie"
           }
          ],
          "scatter": [
           {
            "marker": {
             "colorbar": {
              "outlinewidth": 0,
              "ticks": ""
             }
            },
            "type": "scatter"
           }
          ],
          "scatter3d": [
           {
            "line": {
             "colorbar": {
              "outlinewidth": 0,
              "ticks": ""
             }
            },
            "marker": {
             "colorbar": {
              "outlinewidth": 0,
              "ticks": ""
             }
            },
            "type": "scatter3d"
           }
          ],
          "scattercarpet": [
           {
            "marker": {
             "colorbar": {
              "outlinewidth": 0,
              "ticks": ""
             }
            },
            "type": "scattercarpet"
           }
          ],
          "scattergeo": [
           {
            "marker": {
             "colorbar": {
              "outlinewidth": 0,
              "ticks": ""
             }
            },
            "type": "scattergeo"
           }
          ],
          "scattergl": [
           {
            "marker": {
             "colorbar": {
              "outlinewidth": 0,
              "ticks": ""
             }
            },
            "type": "scattergl"
           }
          ],
          "scattermapbox": [
           {
            "marker": {
             "colorbar": {
              "outlinewidth": 0,
              "ticks": ""
             }
            },
            "type": "scattermapbox"
           }
          ],
          "scatterpolar": [
           {
            "marker": {
             "colorbar": {
              "outlinewidth": 0,
              "ticks": ""
             }
            },
            "type": "scatterpolar"
           }
          ],
          "scatterpolargl": [
           {
            "marker": {
             "colorbar": {
              "outlinewidth": 0,
              "ticks": ""
             }
            },
            "type": "scatterpolargl"
           }
          ],
          "scatterternary": [
           {
            "marker": {
             "colorbar": {
              "outlinewidth": 0,
              "ticks": ""
             }
            },
            "type": "scatterternary"
           }
          ],
          "surface": [
           {
            "colorbar": {
             "outlinewidth": 0,
             "ticks": ""
            },
            "colorscale": [
             [
              0,
              "#0d0887"
             ],
             [
              0.1111111111111111,
              "#46039f"
             ],
             [
              0.2222222222222222,
              "#7201a8"
             ],
             [
              0.3333333333333333,
              "#9c179e"
             ],
             [
              0.4444444444444444,
              "#bd3786"
             ],
             [
              0.5555555555555556,
              "#d8576b"
             ],
             [
              0.6666666666666666,
              "#ed7953"
             ],
             [
              0.7777777777777778,
              "#fb9f3a"
             ],
             [
              0.8888888888888888,
              "#fdca26"
             ],
             [
              1,
              "#f0f921"
             ]
            ],
            "type": "surface"
           }
          ],
          "table": [
           {
            "cells": {
             "fill": {
              "color": "#EBF0F8"
             },
             "line": {
              "color": "white"
             }
            },
            "header": {
             "fill": {
              "color": "#C8D4E3"
             },
             "line": {
              "color": "white"
             }
            },
            "type": "table"
           }
          ]
         },
         "layout": {
          "annotationdefaults": {
           "arrowcolor": "#2a3f5f",
           "arrowhead": 0,
           "arrowwidth": 1
          },
          "autotypenumbers": "strict",
          "coloraxis": {
           "colorbar": {
            "outlinewidth": 0,
            "ticks": ""
           }
          },
          "colorscale": {
           "diverging": [
            [
             0,
             "#8e0152"
            ],
            [
             0.1,
             "#c51b7d"
            ],
            [
             0.2,
             "#de77ae"
            ],
            [
             0.3,
             "#f1b6da"
            ],
            [
             0.4,
             "#fde0ef"
            ],
            [
             0.5,
             "#f7f7f7"
            ],
            [
             0.6,
             "#e6f5d0"
            ],
            [
             0.7,
             "#b8e186"
            ],
            [
             0.8,
             "#7fbc41"
            ],
            [
             0.9,
             "#4d9221"
            ],
            [
             1,
             "#276419"
            ]
           ],
           "sequential": [
            [
             0,
             "#0d0887"
            ],
            [
             0.1111111111111111,
             "#46039f"
            ],
            [
             0.2222222222222222,
             "#7201a8"
            ],
            [
             0.3333333333333333,
             "#9c179e"
            ],
            [
             0.4444444444444444,
             "#bd3786"
            ],
            [
             0.5555555555555556,
             "#d8576b"
            ],
            [
             0.6666666666666666,
             "#ed7953"
            ],
            [
             0.7777777777777778,
             "#fb9f3a"
            ],
            [
             0.8888888888888888,
             "#fdca26"
            ],
            [
             1,
             "#f0f921"
            ]
           ],
           "sequentialminus": [
            [
             0,
             "#0d0887"
            ],
            [
             0.1111111111111111,
             "#46039f"
            ],
            [
             0.2222222222222222,
             "#7201a8"
            ],
            [
             0.3333333333333333,
             "#9c179e"
            ],
            [
             0.4444444444444444,
             "#bd3786"
            ],
            [
             0.5555555555555556,
             "#d8576b"
            ],
            [
             0.6666666666666666,
             "#ed7953"
            ],
            [
             0.7777777777777778,
             "#fb9f3a"
            ],
            [
             0.8888888888888888,
             "#fdca26"
            ],
            [
             1,
             "#f0f921"
            ]
           ]
          },
          "colorway": [
           "#636efa",
           "#EF553B",
           "#00cc96",
           "#ab63fa",
           "#FFA15A",
           "#19d3f3",
           "#FF6692",
           "#B6E880",
           "#FF97FF",
           "#FECB52"
          ],
          "font": {
           "color": "#2a3f5f"
          },
          "geo": {
           "bgcolor": "white",
           "lakecolor": "white",
           "landcolor": "#E5ECF6",
           "showlakes": true,
           "showland": true,
           "subunitcolor": "white"
          },
          "hoverlabel": {
           "align": "left"
          },
          "hovermode": "closest",
          "mapbox": {
           "style": "light"
          },
          "paper_bgcolor": "white",
          "plot_bgcolor": "#E5ECF6",
          "polar": {
           "angularaxis": {
            "gridcolor": "white",
            "linecolor": "white",
            "ticks": ""
           },
           "bgcolor": "#E5ECF6",
           "radialaxis": {
            "gridcolor": "white",
            "linecolor": "white",
            "ticks": ""
           }
          },
          "scene": {
           "xaxis": {
            "backgroundcolor": "#E5ECF6",
            "gridcolor": "white",
            "gridwidth": 2,
            "linecolor": "white",
            "showbackground": true,
            "ticks": "",
            "zerolinecolor": "white"
           },
           "yaxis": {
            "backgroundcolor": "#E5ECF6",
            "gridcolor": "white",
            "gridwidth": 2,
            "linecolor": "white",
            "showbackground": true,
            "ticks": "",
            "zerolinecolor": "white"
           },
           "zaxis": {
            "backgroundcolor": "#E5ECF6",
            "gridcolor": "white",
            "gridwidth": 2,
            "linecolor": "white",
            "showbackground": true,
            "ticks": "",
            "zerolinecolor": "white"
           }
          },
          "shapedefaults": {
           "line": {
            "color": "#2a3f5f"
           }
          },
          "ternary": {
           "aaxis": {
            "gridcolor": "white",
            "linecolor": "white",
            "ticks": ""
           },
           "baxis": {
            "gridcolor": "white",
            "linecolor": "white",
            "ticks": ""
           },
           "bgcolor": "#E5ECF6",
           "caxis": {
            "gridcolor": "white",
            "linecolor": "white",
            "ticks": ""
           }
          },
          "title": {
           "x": 0.05
          },
          "xaxis": {
           "automargin": true,
           "gridcolor": "white",
           "linecolor": "white",
           "ticks": "",
           "title": {
            "standoff": 15
           },
           "zerolinecolor": "white",
           "zerolinewidth": 2
          },
          "yaxis": {
           "automargin": true,
           "gridcolor": "white",
           "linecolor": "white",
           "ticks": "",
           "title": {
            "standoff": 15
           },
           "zerolinecolor": "white",
           "zerolinewidth": 2
          }
         }
        },
        "title": {
         "text": "Box Plot"
        },
        "xaxis": {
         "anchor": "y",
         "domain": [
          0,
          1
         ],
         "title": {
          "text": "DISTRICT"
         }
        },
        "yaxis": {
         "anchor": "x",
         "domain": [
          0,
          1
         ],
         "title": {
          "text": "value"
         }
        }
       }
      }
     },
     "metadata": {},
     "output_type": "display_data"
    },
    {
     "data": {
      "application/vnd.plotly.v1+json": {
       "config": {
        "plotlyServerURL": "https://plot.ly"
       },
       "data": [
        {
         "hovertemplate": "column=%{x}<br>pct_change=%{y}<extra></extra>",
         "legendgroup": "",
         "line": {
          "color": "#636efa",
          "dash": "solid"
         },
         "marker": {
          "symbol": "circle"
         },
         "mode": "lines",
         "name": "",
         "orientation": "v",
         "showlegend": false,
         "type": "scatter",
         "x": [
          "Dallas ISD",
          "Dallas ISD",
          "Dallas ISD",
          "Dallas ISD",
          "Fort Worth ISD",
          "Fort Worth ISD",
          "Fort Worth ISD",
          "Fort Worth ISD"
         ],
         "xaxis": "x",
         "y": [
          null,
          0.07894736842105265,
          -0.09756097560975607,
          0.16216216216216206,
          null,
          0,
          -0.1428571428571429,
          0.2666666666666666
         ],
         "yaxis": "y"
        }
       ],
       "layout": {
        "legend": {
         "tracegroupgap": 0
        },
        "template": {
         "data": {
          "bar": [
           {
            "error_x": {
             "color": "#2a3f5f"
            },
            "error_y": {
             "color": "#2a3f5f"
            },
            "marker": {
             "line": {
              "color": "#E5ECF6",
              "width": 0.5
             },
             "pattern": {
              "fillmode": "overlay",
              "size": 10,
              "solidity": 0.2
             }
            },
            "type": "bar"
           }
          ],
          "barpolar": [
           {
            "marker": {
             "line": {
              "color": "#E5ECF6",
              "width": 0.5
             },
             "pattern": {
              "fillmode": "overlay",
              "size": 10,
              "solidity": 0.2
             }
            },
            "type": "barpolar"
           }
          ],
          "carpet": [
           {
            "aaxis": {
             "endlinecolor": "#2a3f5f",
             "gridcolor": "white",
             "linecolor": "white",
             "minorgridcolor": "white",
             "startlinecolor": "#2a3f5f"
            },
            "baxis": {
             "endlinecolor": "#2a3f5f",
             "gridcolor": "white",
             "linecolor": "white",
             "minorgridcolor": "white",
             "startlinecolor": "#2a3f5f"
            },
            "type": "carpet"
           }
          ],
          "choropleth": [
           {
            "colorbar": {
             "outlinewidth": 0,
             "ticks": ""
            },
            "type": "choropleth"
           }
          ],
          "contour": [
           {
            "colorbar": {
             "outlinewidth": 0,
             "ticks": ""
            },
            "colorscale": [
             [
              0,
              "#0d0887"
             ],
             [
              0.1111111111111111,
              "#46039f"
             ],
             [
              0.2222222222222222,
              "#7201a8"
             ],
             [
              0.3333333333333333,
              "#9c179e"
             ],
             [
              0.4444444444444444,
              "#bd3786"
             ],
             [
              0.5555555555555556,
              "#d8576b"
             ],
             [
              0.6666666666666666,
              "#ed7953"
             ],
             [
              0.7777777777777778,
              "#fb9f3a"
             ],
             [
              0.8888888888888888,
              "#fdca26"
             ],
             [
              1,
              "#f0f921"
             ]
            ],
            "type": "contour"
           }
          ],
          "contourcarpet": [
           {
            "colorbar": {
             "outlinewidth": 0,
             "ticks": ""
            },
            "type": "contourcarpet"
           }
          ],
          "heatmap": [
           {
            "colorbar": {
             "outlinewidth": 0,
             "ticks": ""
            },
            "colorscale": [
             [
              0,
              "#0d0887"
             ],
             [
              0.1111111111111111,
              "#46039f"
             ],
             [
              0.2222222222222222,
              "#7201a8"
             ],
             [
              0.3333333333333333,
              "#9c179e"
             ],
             [
              0.4444444444444444,
              "#bd3786"
             ],
             [
              0.5555555555555556,
              "#d8576b"
             ],
             [
              0.6666666666666666,
              "#ed7953"
             ],
             [
              0.7777777777777778,
              "#fb9f3a"
             ],
             [
              0.8888888888888888,
              "#fdca26"
             ],
             [
              1,
              "#f0f921"
             ]
            ],
            "type": "heatmap"
           }
          ],
          "heatmapgl": [
           {
            "colorbar": {
             "outlinewidth": 0,
             "ticks": ""
            },
            "colorscale": [
             [
              0,
              "#0d0887"
             ],
             [
              0.1111111111111111,
              "#46039f"
             ],
             [
              0.2222222222222222,
              "#7201a8"
             ],
             [
              0.3333333333333333,
              "#9c179e"
             ],
             [
              0.4444444444444444,
              "#bd3786"
             ],
             [
              0.5555555555555556,
              "#d8576b"
             ],
             [
              0.6666666666666666,
              "#ed7953"
             ],
             [
              0.7777777777777778,
              "#fb9f3a"
             ],
             [
              0.8888888888888888,
              "#fdca26"
             ],
             [
              1,
              "#f0f921"
             ]
            ],
            "type": "heatmapgl"
           }
          ],
          "histogram": [
           {
            "marker": {
             "pattern": {
              "fillmode": "overlay",
              "size": 10,
              "solidity": 0.2
             }
            },
            "type": "histogram"
           }
          ],
          "histogram2d": [
           {
            "colorbar": {
             "outlinewidth": 0,
             "ticks": ""
            },
            "colorscale": [
             [
              0,
              "#0d0887"
             ],
             [
              0.1111111111111111,
              "#46039f"
             ],
             [
              0.2222222222222222,
              "#7201a8"
             ],
             [
              0.3333333333333333,
              "#9c179e"
             ],
             [
              0.4444444444444444,
              "#bd3786"
             ],
             [
              0.5555555555555556,
              "#d8576b"
             ],
             [
              0.6666666666666666,
              "#ed7953"
             ],
             [
              0.7777777777777778,
              "#fb9f3a"
             ],
             [
              0.8888888888888888,
              "#fdca26"
             ],
             [
              1,
              "#f0f921"
             ]
            ],
            "type": "histogram2d"
           }
          ],
          "histogram2dcontour": [
           {
            "colorbar": {
             "outlinewidth": 0,
             "ticks": ""
            },
            "colorscale": [
             [
              0,
              "#0d0887"
             ],
             [
              0.1111111111111111,
              "#46039f"
             ],
             [
              0.2222222222222222,
              "#7201a8"
             ],
             [
              0.3333333333333333,
              "#9c179e"
             ],
             [
              0.4444444444444444,
              "#bd3786"
             ],
             [
              0.5555555555555556,
              "#d8576b"
             ],
             [
              0.6666666666666666,
              "#ed7953"
             ],
             [
              0.7777777777777778,
              "#fb9f3a"
             ],
             [
              0.8888888888888888,
              "#fdca26"
             ],
             [
              1,
              "#f0f921"
             ]
            ],
            "type": "histogram2dcontour"
           }
          ],
          "mesh3d": [
           {
            "colorbar": {
             "outlinewidth": 0,
             "ticks": ""
            },
            "type": "mesh3d"
           }
          ],
          "parcoords": [
           {
            "line": {
             "colorbar": {
              "outlinewidth": 0,
              "ticks": ""
             }
            },
            "type": "parcoords"
           }
          ],
          "pie": [
           {
            "automargin": true,
            "type": "pie"
           }
          ],
          "scatter": [
           {
            "marker": {
             "colorbar": {
              "outlinewidth": 0,
              "ticks": ""
             }
            },
            "type": "scatter"
           }
          ],
          "scatter3d": [
           {
            "line": {
             "colorbar": {
              "outlinewidth": 0,
              "ticks": ""
             }
            },
            "marker": {
             "colorbar": {
              "outlinewidth": 0,
              "ticks": ""
             }
            },
            "type": "scatter3d"
           }
          ],
          "scattercarpet": [
           {
            "marker": {
             "colorbar": {
              "outlinewidth": 0,
              "ticks": ""
             }
            },
            "type": "scattercarpet"
           }
          ],
          "scattergeo": [
           {
            "marker": {
             "colorbar": {
              "outlinewidth": 0,
              "ticks": ""
             }
            },
            "type": "scattergeo"
           }
          ],
          "scattergl": [
           {
            "marker": {
             "colorbar": {
              "outlinewidth": 0,
              "ticks": ""
             }
            },
            "type": "scattergl"
           }
          ],
          "scattermapbox": [
           {
            "marker": {
             "colorbar": {
              "outlinewidth": 0,
              "ticks": ""
             }
            },
            "type": "scattermapbox"
           }
          ],
          "scatterpolar": [
           {
            "marker": {
             "colorbar": {
              "outlinewidth": 0,
              "ticks": ""
             }
            },
            "type": "scatterpolar"
           }
          ],
          "scatterpolargl": [
           {
            "marker": {
             "colorbar": {
              "outlinewidth": 0,
              "ticks": ""
             }
            },
            "type": "scatterpolargl"
           }
          ],
          "scatterternary": [
           {
            "marker": {
             "colorbar": {
              "outlinewidth": 0,
              "ticks": ""
             }
            },
            "type": "scatterternary"
           }
          ],
          "surface": [
           {
            "colorbar": {
             "outlinewidth": 0,
             "ticks": ""
            },
            "colorscale": [
             [
              0,
              "#0d0887"
             ],
             [
              0.1111111111111111,
              "#46039f"
             ],
             [
              0.2222222222222222,
              "#7201a8"
             ],
             [
              0.3333333333333333,
              "#9c179e"
             ],
             [
              0.4444444444444444,
              "#bd3786"
             ],
             [
              0.5555555555555556,
              "#d8576b"
             ],
             [
              0.6666666666666666,
              "#ed7953"
             ],
             [
              0.7777777777777778,
              "#fb9f3a"
             ],
             [
              0.8888888888888888,
              "#fdca26"
             ],
             [
              1,
              "#f0f921"
             ]
            ],
            "type": "surface"
           }
          ],
          "table": [
           {
            "cells": {
             "fill": {
              "color": "#EBF0F8"
             },
             "line": {
              "color": "white"
             }
            },
            "header": {
             "fill": {
              "color": "#C8D4E3"
             },
             "line": {
              "color": "white"
             }
            },
            "type": "table"
           }
          ]
         },
         "layout": {
          "annotationdefaults": {
           "arrowcolor": "#2a3f5f",
           "arrowhead": 0,
           "arrowwidth": 1
          },
          "autotypenumbers": "strict",
          "coloraxis": {
           "colorbar": {
            "outlinewidth": 0,
            "ticks": ""
           }
          },
          "colorscale": {
           "diverging": [
            [
             0,
             "#8e0152"
            ],
            [
             0.1,
             "#c51b7d"
            ],
            [
             0.2,
             "#de77ae"
            ],
            [
             0.3,
             "#f1b6da"
            ],
            [
             0.4,
             "#fde0ef"
            ],
            [
             0.5,
             "#f7f7f7"
            ],
            [
             0.6,
             "#e6f5d0"
            ],
            [
             0.7,
             "#b8e186"
            ],
            [
             0.8,
             "#7fbc41"
            ],
            [
             0.9,
             "#4d9221"
            ],
            [
             1,
             "#276419"
            ]
           ],
           "sequential": [
            [
             0,
             "#0d0887"
            ],
            [
             0.1111111111111111,
             "#46039f"
            ],
            [
             0.2222222222222222,
             "#7201a8"
            ],
            [
             0.3333333333333333,
             "#9c179e"
            ],
            [
             0.4444444444444444,
             "#bd3786"
            ],
            [
             0.5555555555555556,
             "#d8576b"
            ],
            [
             0.6666666666666666,
             "#ed7953"
            ],
            [
             0.7777777777777778,
             "#fb9f3a"
            ],
            [
             0.8888888888888888,
             "#fdca26"
            ],
            [
             1,
             "#f0f921"
            ]
           ],
           "sequentialminus": [
            [
             0,
             "#0d0887"
            ],
            [
             0.1111111111111111,
             "#46039f"
            ],
            [
             0.2222222222222222,
             "#7201a8"
            ],
            [
             0.3333333333333333,
             "#9c179e"
            ],
            [
             0.4444444444444444,
             "#bd3786"
            ],
            [
             0.5555555555555556,
             "#d8576b"
            ],
            [
             0.6666666666666666,
             "#ed7953"
            ],
            [
             0.7777777777777778,
             "#fb9f3a"
            ],
            [
             0.8888888888888888,
             "#fdca26"
            ],
            [
             1,
             "#f0f921"
            ]
           ]
          },
          "colorway": [
           "#636efa",
           "#EF553B",
           "#00cc96",
           "#ab63fa",
           "#FFA15A",
           "#19d3f3",
           "#FF6692",
           "#B6E880",
           "#FF97FF",
           "#FECB52"
          ],
          "font": {
           "color": "#2a3f5f"
          },
          "geo": {
           "bgcolor": "white",
           "lakecolor": "white",
           "landcolor": "#E5ECF6",
           "showlakes": true,
           "showland": true,
           "subunitcolor": "white"
          },
          "hoverlabel": {
           "align": "left"
          },
          "hovermode": "closest",
          "mapbox": {
           "style": "light"
          },
          "paper_bgcolor": "white",
          "plot_bgcolor": "#E5ECF6",
          "polar": {
           "angularaxis": {
            "gridcolor": "white",
            "linecolor": "white",
            "ticks": ""
           },
           "bgcolor": "#E5ECF6",
           "radialaxis": {
            "gridcolor": "white",
            "linecolor": "white",
            "ticks": ""
           }
          },
          "scene": {
           "xaxis": {
            "backgroundcolor": "#E5ECF6",
            "gridcolor": "white",
            "gridwidth": 2,
            "linecolor": "white",
            "showbackground": true,
            "ticks": "",
            "zerolinecolor": "white"
           },
           "yaxis": {
            "backgroundcolor": "#E5ECF6",
            "gridcolor": "white",
            "gridwidth": 2,
            "linecolor": "white",
            "showbackground": true,
            "ticks": "",
            "zerolinecolor": "white"
           },
           "zaxis": {
            "backgroundcolor": "#E5ECF6",
            "gridcolor": "white",
            "gridwidth": 2,
            "linecolor": "white",
            "showbackground": true,
            "ticks": "",
            "zerolinecolor": "white"
           }
          },
          "shapedefaults": {
           "line": {
            "color": "#2a3f5f"
           }
          },
          "ternary": {
           "aaxis": {
            "gridcolor": "white",
            "linecolor": "white",
            "ticks": ""
           },
           "baxis": {
            "gridcolor": "white",
            "linecolor": "white",
            "ticks": ""
           },
           "bgcolor": "#E5ECF6",
           "caxis": {
            "gridcolor": "white",
            "linecolor": "white",
            "ticks": ""
           }
          },
          "title": {
           "x": 0.05
          },
          "xaxis": {
           "automargin": true,
           "gridcolor": "white",
           "linecolor": "white",
           "ticks": "",
           "title": {
            "standoff": 15
           },
           "zerolinecolor": "white",
           "zerolinewidth": 2
          },
          "yaxis": {
           "automargin": true,
           "gridcolor": "white",
           "linecolor": "white",
           "ticks": "",
           "title": {
            "standoff": 15
           },
           "zerolinecolor": "white",
           "zerolinewidth": 2
          }
         }
        },
        "title": {
         "text": "Pct Change Trend Analysis"
        },
        "xaxis": {
         "anchor": "y",
         "domain": [
          0,
          1
         ],
         "title": {
          "text": "column"
         }
        },
        "yaxis": {
         "anchor": "x",
         "domain": [
          0,
          1
         ],
         "title": {
          "text": "pct_change"
         }
        }
       }
      }
     },
     "metadata": {},
     "output_type": "display_data"
    }
   ],
   "source": [
    "df=dt.T.copy()\n",
    "\n",
    "info_dict = {}\n",
    "for element in df.index:\n",
    "    info_dict.update(factor_name(element))\n",
    "\n",
    "for key, value in info_dict.items():\n",
    "    print(f\"{key}: {value}\")\n",
    "    \n",
    "analysis(df,top=30)"
   ]
  },
  {
   "attachments": {},
   "cell_type": "markdown",
   "metadata": {},
   "source": [
    "# Feature engineering for house data\n",
    "see another notebook"
   ]
  },
  {
   "cell_type": "code",
   "execution_count": null,
   "metadata": {},
   "outputs": [],
   "source": []
  },
  {
   "cell_type": "code",
   "execution_count": null,
   "metadata": {},
   "outputs": [],
   "source": []
  },
  {
   "attachments": {},
   "cell_type": "markdown",
   "metadata": {},
   "source": [
    "# Pipeline"
   ]
  },
  {
   "cell_type": "code",
   "execution_count": null,
   "metadata": {},
   "outputs": [],
   "source": []
  },
  {
   "cell_type": "code",
   "execution_count": null,
   "metadata": {},
   "outputs": [],
   "source": [
    "mapping5_list(['DF0GZ21B']) # why error\n",
    "\n",
    "#dh[dh.isna().any(axis=1)] # there is NaN value.\n",
    "#dh=dh.loc[:,['period_begin', 'period_end','region','median_ppsf', 'median_sale_price','median_list_ppsf','median_list_price','property_type','property_type_id','parent_metro_region', 'parent_metro_region_metro_code']]"
   ]
  },
  {
   "cell_type": "code",
   "execution_count": 101,
   "metadata": {},
   "outputs": [
    {
     "ename": "KeyError",
     "evalue": "None",
     "output_type": "error",
     "traceback": [
      "\u001b[0;31m---------------------------------------------------------------------------\u001b[0m",
      "\u001b[0;31mKeyError\u001b[0m                                  Traceback (most recent call last)",
      "File \u001b[0;32m~/opt/anaconda3/lib/python3.9/site-packages/pandas/core/indexes/base.py:3629\u001b[0m, in \u001b[0;36mIndex.get_loc\u001b[0;34m(self, key, method, tolerance)\u001b[0m\n\u001b[1;32m   3628\u001b[0m \u001b[39mtry\u001b[39;00m:\n\u001b[0;32m-> 3629\u001b[0m     \u001b[39mreturn\u001b[39;00m \u001b[39mself\u001b[39;49m\u001b[39m.\u001b[39;49m_engine\u001b[39m.\u001b[39;49mget_loc(casted_key)\n\u001b[1;32m   3630\u001b[0m \u001b[39mexcept\u001b[39;00m \u001b[39mKeyError\u001b[39;00m \u001b[39mas\u001b[39;00m err:\n",
      "File \u001b[0;32m~/opt/anaconda3/lib/python3.9/site-packages/pandas/_libs/index.pyx:136\u001b[0m, in \u001b[0;36mpandas._libs.index.IndexEngine.get_loc\u001b[0;34m()\u001b[0m\n",
      "File \u001b[0;32m~/opt/anaconda3/lib/python3.9/site-packages/pandas/_libs/index.pyx:163\u001b[0m, in \u001b[0;36mpandas._libs.index.IndexEngine.get_loc\u001b[0;34m()\u001b[0m\n",
      "File \u001b[0;32mpandas/_libs/hashtable_class_helper.pxi:5198\u001b[0m, in \u001b[0;36mpandas._libs.hashtable.PyObjectHashTable.get_item\u001b[0;34m()\u001b[0m\n",
      "File \u001b[0;32mpandas/_libs/hashtable_class_helper.pxi:5206\u001b[0m, in \u001b[0;36mpandas._libs.hashtable.PyObjectHashTable.get_item\u001b[0;34m()\u001b[0m\n",
      "\u001b[0;31mKeyError\u001b[0m: None",
      "\nThe above exception was the direct cause of the following exception:\n",
      "\u001b[0;31mKeyError\u001b[0m                                  Traceback (most recent call last)",
      "\u001b[1;32m/Users/dai/Desktop/Capstone-AllianceBernstein/TX_data_preprocessing.ipynb 单元格 36\u001b[0m in \u001b[0;36m<cell line: 1>\u001b[0;34m()\u001b[0m\n\u001b[0;32m----> <a href='vscode-notebook-cell:/Users/dai/Desktop/Capstone-AllianceBernstein/TX_data_preprocessing.ipynb#Y114sZmlsZQ%3D%3D?line=0'>1</a>\u001b[0m find_element(Data_field\u001b[39m=\u001b[39;49m\u001b[39m'\u001b[39;49m\u001b[39mGraduates and TxCHSE\u001b[39;49m\u001b[39m'\u001b[39;49m, Data_Level\u001b[39m=\u001b[39;49m\u001b[39mNone\u001b[39;49;00m,Subcategory\u001b[39m=\u001b[39;49m\u001b[39mNone\u001b[39;49;00m, year\u001b[39m=\u001b[39;49m\u001b[39mNone\u001b[39;49;00m,detail\u001b[39m=\u001b[39;49m\u001b[39m'\u001b[39;49m\u001b[39mY\u001b[39;49m\u001b[39m'\u001b[39;49m)\n",
      "\u001b[1;32m/Users/dai/Desktop/Capstone-AllianceBernstein/TX_data_preprocessing.ipynb 单元格 36\u001b[0m in \u001b[0;36mfind_element\u001b[0;34m(Data_field, Data_Level, Subcategory, year, detail)\u001b[0m\n\u001b[1;32m     <a href='vscode-notebook-cell:/Users/dai/Desktop/Capstone-AllianceBernstein/TX_data_preprocessing.ipynb#Y114sZmlsZQ%3D%3D?line=18'>19</a>\u001b[0m \u001b[39mif\u001b[39;00m year \u001b[39mis\u001b[39;00m \u001b[39mnot\u001b[39;00m \u001b[39mNone\u001b[39;00m:\n\u001b[1;32m     <a href='vscode-notebook-cell:/Users/dai/Desktop/Capstone-AllianceBernstein/TX_data_preprocessing.ipynb#Y114sZmlsZQ%3D%3D?line=19'>20</a>\u001b[0m     output\u001b[39m=\u001b[39moutput\u001b[39m.\u001b[39mloc[ output\u001b[39m.\u001b[39miloc[:,\u001b[39m2\u001b[39m]\u001b[39m==\u001b[39m\u001b[39mstr\u001b[39m(year),: ]\n\u001b[0;32m---> <a href='vscode-notebook-cell:/Users/dai/Desktop/Capstone-AllianceBernstein/TX_data_preprocessing.ipynb#Y114sZmlsZQ%3D%3D?line=21'>22</a>\u001b[0m element \u001b[39m=\u001b[39m output\u001b[39m.\u001b[39;49mloc[:, Data_Level]\n\u001b[1;32m     <a href='vscode-notebook-cell:/Users/dai/Desktop/Capstone-AllianceBernstein/TX_data_preprocessing.ipynb#Y114sZmlsZQ%3D%3D?line=22'>23</a>\u001b[0m \u001b[39mif\u001b[39;00m \u001b[39mnot\u001b[39;00m element\u001b[39m.\u001b[39mempty:\n\u001b[1;32m     <a href='vscode-notebook-cell:/Users/dai/Desktop/Capstone-AllianceBernstein/TX_data_preprocessing.ipynb#Y114sZmlsZQ%3D%3D?line=23'>24</a>\u001b[0m     elements\u001b[39m.\u001b[39mappend(element\u001b[39m.\u001b[39mvalues[\u001b[39m0\u001b[39m])\n",
      "File \u001b[0;32m~/opt/anaconda3/lib/python3.9/site-packages/pandas/core/indexing.py:961\u001b[0m, in \u001b[0;36m_LocationIndexer.__getitem__\u001b[0;34m(self, key)\u001b[0m\n\u001b[1;32m    959\u001b[0m     \u001b[39mif\u001b[39;00m \u001b[39mself\u001b[39m\u001b[39m.\u001b[39m_is_scalar_access(key):\n\u001b[1;32m    960\u001b[0m         \u001b[39mreturn\u001b[39;00m \u001b[39mself\u001b[39m\u001b[39m.\u001b[39mobj\u001b[39m.\u001b[39m_get_value(\u001b[39m*\u001b[39mkey, takeable\u001b[39m=\u001b[39m\u001b[39mself\u001b[39m\u001b[39m.\u001b[39m_takeable)\n\u001b[0;32m--> 961\u001b[0m     \u001b[39mreturn\u001b[39;00m \u001b[39mself\u001b[39;49m\u001b[39m.\u001b[39;49m_getitem_tuple(key)\n\u001b[1;32m    962\u001b[0m \u001b[39melse\u001b[39;00m:\n\u001b[1;32m    963\u001b[0m     \u001b[39m# we by definition only have the 0th axis\u001b[39;00m\n\u001b[1;32m    964\u001b[0m     axis \u001b[39m=\u001b[39m \u001b[39mself\u001b[39m\u001b[39m.\u001b[39maxis \u001b[39mor\u001b[39;00m \u001b[39m0\u001b[39m\n",
      "File \u001b[0;32m~/opt/anaconda3/lib/python3.9/site-packages/pandas/core/indexing.py:1140\u001b[0m, in \u001b[0;36m_LocIndexer._getitem_tuple\u001b[0;34m(self, tup)\u001b[0m\n\u001b[1;32m   1138\u001b[0m \u001b[39mwith\u001b[39;00m suppress(IndexingError):\n\u001b[1;32m   1139\u001b[0m     tup \u001b[39m=\u001b[39m \u001b[39mself\u001b[39m\u001b[39m.\u001b[39m_expand_ellipsis(tup)\n\u001b[0;32m-> 1140\u001b[0m     \u001b[39mreturn\u001b[39;00m \u001b[39mself\u001b[39;49m\u001b[39m.\u001b[39;49m_getitem_lowerdim(tup)\n\u001b[1;32m   1142\u001b[0m \u001b[39m# no multi-index, so validate all of the indexers\u001b[39;00m\n\u001b[1;32m   1143\u001b[0m tup \u001b[39m=\u001b[39m \u001b[39mself\u001b[39m\u001b[39m.\u001b[39m_validate_tuple_indexer(tup)\n",
      "File \u001b[0;32m~/opt/anaconda3/lib/python3.9/site-packages/pandas/core/indexing.py:867\u001b[0m, in \u001b[0;36m_LocationIndexer._getitem_lowerdim\u001b[0;34m(self, tup)\u001b[0m\n\u001b[1;32m    863\u001b[0m \u001b[39mfor\u001b[39;00m i, key \u001b[39min\u001b[39;00m \u001b[39menumerate\u001b[39m(tup):\n\u001b[1;32m    864\u001b[0m     \u001b[39mif\u001b[39;00m is_label_like(key):\n\u001b[1;32m    865\u001b[0m         \u001b[39m# We don't need to check for tuples here because those are\u001b[39;00m\n\u001b[1;32m    866\u001b[0m         \u001b[39m#  caught by the _is_nested_tuple_indexer check above.\u001b[39;00m\n\u001b[0;32m--> 867\u001b[0m         section \u001b[39m=\u001b[39m \u001b[39mself\u001b[39;49m\u001b[39m.\u001b[39;49m_getitem_axis(key, axis\u001b[39m=\u001b[39;49mi)\n\u001b[1;32m    869\u001b[0m         \u001b[39m# We should never have a scalar section here, because\u001b[39;00m\n\u001b[1;32m    870\u001b[0m         \u001b[39m#  _getitem_lowerdim is only called after a check for\u001b[39;00m\n\u001b[1;32m    871\u001b[0m         \u001b[39m#  is_scalar_access, which that would be.\u001b[39;00m\n\u001b[1;32m    872\u001b[0m         \u001b[39mif\u001b[39;00m section\u001b[39m.\u001b[39mndim \u001b[39m==\u001b[39m \u001b[39mself\u001b[39m\u001b[39m.\u001b[39mndim:\n\u001b[1;32m    873\u001b[0m             \u001b[39m# we're in the middle of slicing through a MultiIndex\u001b[39;00m\n\u001b[1;32m    874\u001b[0m             \u001b[39m# revise the key wrt to `section` by inserting an _NS\u001b[39;00m\n",
      "File \u001b[0;32m~/opt/anaconda3/lib/python3.9/site-packages/pandas/core/indexing.py:1205\u001b[0m, in \u001b[0;36m_LocIndexer._getitem_axis\u001b[0;34m(self, key, axis)\u001b[0m\n\u001b[1;32m   1203\u001b[0m \u001b[39m# fall thru to straight lookup\u001b[39;00m\n\u001b[1;32m   1204\u001b[0m \u001b[39mself\u001b[39m\u001b[39m.\u001b[39m_validate_key(key, axis)\n\u001b[0;32m-> 1205\u001b[0m \u001b[39mreturn\u001b[39;00m \u001b[39mself\u001b[39;49m\u001b[39m.\u001b[39;49m_get_label(key, axis\u001b[39m=\u001b[39;49maxis)\n",
      "File \u001b[0;32m~/opt/anaconda3/lib/python3.9/site-packages/pandas/core/indexing.py:1153\u001b[0m, in \u001b[0;36m_LocIndexer._get_label\u001b[0;34m(self, label, axis)\u001b[0m\n\u001b[1;32m   1151\u001b[0m \u001b[39mdef\u001b[39;00m \u001b[39m_get_label\u001b[39m(\u001b[39mself\u001b[39m, label, axis: \u001b[39mint\u001b[39m):\n\u001b[1;32m   1152\u001b[0m     \u001b[39m# GH#5667 this will fail if the label is not present in the axis.\u001b[39;00m\n\u001b[0;32m-> 1153\u001b[0m     \u001b[39mreturn\u001b[39;00m \u001b[39mself\u001b[39;49m\u001b[39m.\u001b[39;49mobj\u001b[39m.\u001b[39;49mxs(label, axis\u001b[39m=\u001b[39;49maxis)\n",
      "File \u001b[0;32m~/opt/anaconda3/lib/python3.9/site-packages/pandas/core/generic.py:3849\u001b[0m, in \u001b[0;36mNDFrame.xs\u001b[0;34m(self, key, axis, level, drop_level)\u001b[0m\n\u001b[1;32m   3847\u001b[0m \u001b[39mif\u001b[39;00m axis \u001b[39m==\u001b[39m \u001b[39m1\u001b[39m:\n\u001b[1;32m   3848\u001b[0m     \u001b[39mif\u001b[39;00m drop_level:\n\u001b[0;32m-> 3849\u001b[0m         \u001b[39mreturn\u001b[39;00m \u001b[39mself\u001b[39;49m[key]\n\u001b[1;32m   3850\u001b[0m     index \u001b[39m=\u001b[39m \u001b[39mself\u001b[39m\u001b[39m.\u001b[39mcolumns\n\u001b[1;32m   3851\u001b[0m \u001b[39melse\u001b[39;00m:\n",
      "File \u001b[0;32m~/opt/anaconda3/lib/python3.9/site-packages/pandas/core/frame.py:3505\u001b[0m, in \u001b[0;36mDataFrame.__getitem__\u001b[0;34m(self, key)\u001b[0m\n\u001b[1;32m   3503\u001b[0m \u001b[39mif\u001b[39;00m \u001b[39mself\u001b[39m\u001b[39m.\u001b[39mcolumns\u001b[39m.\u001b[39mnlevels \u001b[39m>\u001b[39m \u001b[39m1\u001b[39m:\n\u001b[1;32m   3504\u001b[0m     \u001b[39mreturn\u001b[39;00m \u001b[39mself\u001b[39m\u001b[39m.\u001b[39m_getitem_multilevel(key)\n\u001b[0;32m-> 3505\u001b[0m indexer \u001b[39m=\u001b[39m \u001b[39mself\u001b[39;49m\u001b[39m.\u001b[39;49mcolumns\u001b[39m.\u001b[39;49mget_loc(key)\n\u001b[1;32m   3506\u001b[0m \u001b[39mif\u001b[39;00m is_integer(indexer):\n\u001b[1;32m   3507\u001b[0m     indexer \u001b[39m=\u001b[39m [indexer]\n",
      "File \u001b[0;32m~/opt/anaconda3/lib/python3.9/site-packages/pandas/core/indexes/base.py:3631\u001b[0m, in \u001b[0;36mIndex.get_loc\u001b[0;34m(self, key, method, tolerance)\u001b[0m\n\u001b[1;32m   3629\u001b[0m     \u001b[39mreturn\u001b[39;00m \u001b[39mself\u001b[39m\u001b[39m.\u001b[39m_engine\u001b[39m.\u001b[39mget_loc(casted_key)\n\u001b[1;32m   3630\u001b[0m \u001b[39mexcept\u001b[39;00m \u001b[39mKeyError\u001b[39;00m \u001b[39mas\u001b[39;00m err:\n\u001b[0;32m-> 3631\u001b[0m     \u001b[39mraise\u001b[39;00m \u001b[39mKeyError\u001b[39;00m(key) \u001b[39mfrom\u001b[39;00m \u001b[39merr\u001b[39;00m\n\u001b[1;32m   3632\u001b[0m \u001b[39mexcept\u001b[39;00m \u001b[39mTypeError\u001b[39;00m:\n\u001b[1;32m   3633\u001b[0m     \u001b[39m# If we have a listlike key, _check_indexing_error will raise\u001b[39;00m\n\u001b[1;32m   3634\u001b[0m     \u001b[39m#  InvalidIndexError. Otherwise we fall through and re-raise\u001b[39;00m\n\u001b[1;32m   3635\u001b[0m     \u001b[39m#  the TypeError.\u001b[39;00m\n\u001b[1;32m   3636\u001b[0m     \u001b[39mself\u001b[39m\u001b[39m.\u001b[39m_check_indexing_error(key)\n",
      "\u001b[0;31mKeyError\u001b[0m: None"
     ]
    }
   ],
   "source": [
    "find_element(Data_field='Graduates and TxCHSE', Data_Level=None,Subcategory=None, year=None,detail='Y')"
   ]
  },
  {
   "cell_type": "code",
   "execution_count": 110,
   "metadata": {},
   "outputs": [
    {
     "data": {
      "text/html": [
       "<div>\n",
       "<style scoped>\n",
       "    .dataframe tbody tr th:only-of-type {\n",
       "        vertical-align: middle;\n",
       "    }\n",
       "\n",
       "    .dataframe tbody tr th {\n",
       "        vertical-align: top;\n",
       "    }\n",
       "\n",
       "    .dataframe thead th {\n",
       "        text-align: right;\n",
       "    }\n",
       "</style>\n",
       "<table border=\"1\" class=\"dataframe\">\n",
       "  <thead>\n",
       "    <tr style=\"text-align: right;\">\n",
       "      <th></th>\n",
       "      <th>Data field</th>\n",
       "      <th>Subcategory</th>\n",
       "      <th>Unnamed: 1</th>\n",
       "      <th>State</th>\n",
       "      <th>Region ##</th>\n",
       "      <th>District</th>\n",
       "      <th>African American</th>\n",
       "      <th>Hispanic</th>\n",
       "      <th>White</th>\n",
       "      <th>American Indian</th>\n",
       "      <th>Asian</th>\n",
       "      <th>Pacific Islander</th>\n",
       "      <th>Two or More Races</th>\n",
       "      <th>Special Ed</th>\n",
       "      <th>Econ Disadv</th>\n",
       "      <th>EL</th>\n",
       "      <th>Unnamed: 15</th>\n",
       "    </tr>\n",
       "  </thead>\n",
       "  <tbody>\n",
       "    <tr>\n",
       "      <th>273</th>\n",
       "      <td>Class of 2017</td>\n",
       "      <td>Graduates and TxCHSE</td>\n",
       "      <td>SA3C417R</td>\n",
       "      <td>RA3C417R</td>\n",
       "      <td>DA3C4X17R</td>\n",
       "      <td>DB3C4X17R</td>\n",
       "      <td>DH3C4X17R</td>\n",
       "      <td>DW3C4X17R</td>\n",
       "      <td>DI3C4X17R</td>\n",
       "      <td>D33C4X17R</td>\n",
       "      <td>D43C4X17R</td>\n",
       "      <td>D23C4X17R</td>\n",
       "      <td>DS3C4X17R</td>\n",
       "      <td>DE3C4X17R</td>\n",
       "      <td>DL3C4X17R</td>\n",
       "      <td>NaN</td>\n",
       "      <td>NaN</td>\n",
       "    </tr>\n",
       "    <tr>\n",
       "      <th>280</th>\n",
       "      <td>Class of 2016</td>\n",
       "      <td>Graduates and TxCHSE</td>\n",
       "      <td>SA3C416R</td>\n",
       "      <td>RA3C416R</td>\n",
       "      <td>DA3C4X16R</td>\n",
       "      <td>DB3C4X16R</td>\n",
       "      <td>DH3C4X16R</td>\n",
       "      <td>DW3C4X16R</td>\n",
       "      <td>DI3C4X16R</td>\n",
       "      <td>D33C4X16R</td>\n",
       "      <td>D43C4X16R</td>\n",
       "      <td>D23C4X16R</td>\n",
       "      <td>DS3C4X16R</td>\n",
       "      <td>DE3C4X16R</td>\n",
       "      <td>DL3C4X16R</td>\n",
       "      <td>NaN</td>\n",
       "      <td>NaN</td>\n",
       "    </tr>\n",
       "    <tr>\n",
       "      <th>288</th>\n",
       "      <td>Class of 2016</td>\n",
       "      <td>Graduates and TxCHSE Grads, TxCHSE, &amp; Cont</td>\n",
       "      <td>SA3C516R SA2C516R</td>\n",
       "      <td>RA3C516R RA2C516R</td>\n",
       "      <td>DA3C5X16R DA2C5X16R</td>\n",
       "      <td>DB3C5X16R DB2C5X16R</td>\n",
       "      <td>DH3C5X16R DH2C5X16R</td>\n",
       "      <td>DW3C5X16R DW2C5X16R</td>\n",
       "      <td>DI3C5X16R DI2C5X16R</td>\n",
       "      <td>D33C5X16R D32C5X16R</td>\n",
       "      <td>D43C5X16R D42C5X16R</td>\n",
       "      <td>D23C5X16R D22C5X16R</td>\n",
       "      <td>DS3C5X16R DS2C5X16R</td>\n",
       "      <td>DE3C5X16R DE2C5X16R</td>\n",
       "      <td>DL3C5X16R DL2C5X16R</td>\n",
       "      <td>NaN</td>\n",
       "      <td>NaN</td>\n",
       "    </tr>\n",
       "    <tr>\n",
       "      <th>294</th>\n",
       "      <td>Class of 2015</td>\n",
       "      <td>Graduates and TxCHSE</td>\n",
       "      <td>SA3C515R</td>\n",
       "      <td>RA3C515R</td>\n",
       "      <td>DA3C5X15R</td>\n",
       "      <td>DB3C5X15R</td>\n",
       "      <td>DH3C5X15R</td>\n",
       "      <td>DW3C5X15R</td>\n",
       "      <td>DI3C5X15R</td>\n",
       "      <td>D33C5X15R</td>\n",
       "      <td>D43C5X15R</td>\n",
       "      <td>D23C5X15R</td>\n",
       "      <td>DS3C5X15R</td>\n",
       "      <td>DE3C5X15R</td>\n",
       "      <td>DL3C5X15R</td>\n",
       "      <td>NaN</td>\n",
       "      <td>NaN</td>\n",
       "    </tr>\n",
       "    <tr>\n",
       "      <th>304</th>\n",
       "      <td>Class of 2015</td>\n",
       "      <td>Graduates and TxCHSE Grads, TxCHSE, &amp; Cont</td>\n",
       "      <td>SA3C615R SA2C615R</td>\n",
       "      <td>RA3C615R RA2C615R</td>\n",
       "      <td>DA3C6X15R DA2C6X15R</td>\n",
       "      <td>DB3C6X15R DB2C6X15R</td>\n",
       "      <td>DH3C6X15R DH2C6X15R</td>\n",
       "      <td>DW3C6X15R DW2C6X15R</td>\n",
       "      <td>DI3C6X15R DI2C6X15R</td>\n",
       "      <td>D33C6X15R D32C6X15R</td>\n",
       "      <td>D43C6X15R D42C6X15R</td>\n",
       "      <td>D23C6X15R D22C6X15R</td>\n",
       "      <td>DS3C6X15R DS2C6X15R</td>\n",
       "      <td>DE3C6X15R DE2C6X15R</td>\n",
       "      <td>DL3C6X15R DL2C6X15R</td>\n",
       "      <td>NaN</td>\n",
       "      <td>NaN</td>\n",
       "    </tr>\n",
       "    <tr>\n",
       "      <th>310</th>\n",
       "      <td>Class of 2014</td>\n",
       "      <td>Graduates and TxCHSE</td>\n",
       "      <td>SA3C614R</td>\n",
       "      <td>RA3C614R</td>\n",
       "      <td>DA3C6X14R</td>\n",
       "      <td>DB3C6X14R</td>\n",
       "      <td>DH3C6X14R</td>\n",
       "      <td>DW3C6X14R</td>\n",
       "      <td>DI3C6X14R</td>\n",
       "      <td>D33C6X14R</td>\n",
       "      <td>D43C6X14R</td>\n",
       "      <td>D23C6X14R</td>\n",
       "      <td>DS3C6X14R</td>\n",
       "      <td>DE3C6X14R</td>\n",
       "      <td>DL3C6X14R</td>\n",
       "      <td>NaN</td>\n",
       "      <td>NaN</td>\n",
       "    </tr>\n",
       "    <tr>\n",
       "      <th>343</th>\n",
       "      <td>Graduates (2016-17 Annual Graduates)</td>\n",
       "      <td>Graduates (2016-17 Annual Graduates)</td>\n",
       "      <td>NaN</td>\n",
       "      <td>NaN</td>\n",
       "      <td>NaN</td>\n",
       "      <td>NaN</td>\n",
       "      <td>NaN</td>\n",
       "      <td>NaN</td>\n",
       "      <td>NaN</td>\n",
       "      <td>NaN</td>\n",
       "      <td>NaN</td>\n",
       "      <td>NaN</td>\n",
       "      <td>NaN</td>\n",
       "      <td>NaN</td>\n",
       "      <td>NaN</td>\n",
       "      <td>NaN</td>\n",
       "      <td>NaN</td>\n",
       "    </tr>\n",
       "    <tr>\n",
       "      <th>464</th>\n",
       "      <td>Graduates Enrolled in Texas Institution of Hig...</td>\n",
       "      <td>Graduates Enrolled in Texas Institution of Hig...</td>\n",
       "      <td>NaN</td>\n",
       "      <td>NaN</td>\n",
       "      <td>NaN</td>\n",
       "      <td>NaN</td>\n",
       "      <td>NaN</td>\n",
       "      <td>NaN</td>\n",
       "      <td>NaN</td>\n",
       "      <td>NaN</td>\n",
       "      <td>NaN</td>\n",
       "      <td>NaN</td>\n",
       "      <td>NaN</td>\n",
       "      <td>NaN</td>\n",
       "      <td>NaN</td>\n",
       "      <td>NaN</td>\n",
       "      <td>NaN</td>\n",
       "    </tr>\n",
       "    <tr>\n",
       "      <th>467</th>\n",
       "      <td>Graduates in TX IHE Completing One Year Withou...</td>\n",
       "      <td>Graduates in TX IHE Completing One Year Withou...</td>\n",
       "      <td>NaN</td>\n",
       "      <td>NaN</td>\n",
       "      <td>NaN</td>\n",
       "      <td>NaN</td>\n",
       "      <td>NaN</td>\n",
       "      <td>NaN</td>\n",
       "      <td>NaN</td>\n",
       "      <td>NaN</td>\n",
       "      <td>NaN</td>\n",
       "      <td>NaN</td>\n",
       "      <td>NaN</td>\n",
       "      <td>NaN</td>\n",
       "      <td>NaN</td>\n",
       "      <td>NaN</td>\n",
       "      <td>NaN</td>\n",
       "    </tr>\n",
       "  </tbody>\n",
       "</table>\n",
       "</div>"
      ],
      "text/plain": [
       "                                            Data field  \\\n",
       "273                                      Class of 2017   \n",
       "280                                      Class of 2016   \n",
       "288                                      Class of 2016   \n",
       "294                                      Class of 2015   \n",
       "304                                      Class of 2015   \n",
       "310                                      Class of 2014   \n",
       "343               Graduates (2016-17 Annual Graduates)   \n",
       "464  Graduates Enrolled in Texas Institution of Hig...   \n",
       "467  Graduates in TX IHE Completing One Year Withou...   \n",
       "\n",
       "                                           Subcategory         Unnamed: 1  \\\n",
       "273                               Graduates and TxCHSE           SA3C417R   \n",
       "280                               Graduates and TxCHSE           SA3C416R   \n",
       "288         Graduates and TxCHSE Grads, TxCHSE, & Cont  SA3C516R SA2C516R   \n",
       "294                               Graduates and TxCHSE           SA3C515R   \n",
       "304         Graduates and TxCHSE Grads, TxCHSE, & Cont  SA3C615R SA2C615R   \n",
       "310                               Graduates and TxCHSE           SA3C614R   \n",
       "343               Graduates (2016-17 Annual Graduates)                NaN   \n",
       "464  Graduates Enrolled in Texas Institution of Hig...                NaN   \n",
       "467  Graduates in TX IHE Completing One Year Withou...                NaN   \n",
       "\n",
       "                 State             Region ##             District  \\\n",
       "273           RA3C417R             DA3C4X17R            DB3C4X17R   \n",
       "280           RA3C416R             DA3C4X16R            DB3C4X16R   \n",
       "288  RA3C516R RA2C516R   DA3C5X16R DA2C5X16R  DB3C5X16R DB2C5X16R   \n",
       "294           RA3C515R             DA3C5X15R            DB3C5X15R   \n",
       "304  RA3C615R RA2C615R  DA3C6X15R DA2C6X15R   DB3C6X15R DB2C6X15R   \n",
       "310           RA3C614R             DA3C6X14R            DB3C6X14R   \n",
       "343                NaN                   NaN                  NaN   \n",
       "464                NaN                   NaN                  NaN   \n",
       "467                NaN                   NaN                  NaN   \n",
       "\n",
       "        African American             Hispanic                White  \\\n",
       "273            DH3C4X17R            DW3C4X17R            DI3C4X17R   \n",
       "280            DH3C4X16R            DW3C4X16R            DI3C4X16R   \n",
       "288  DH3C5X16R DH2C5X16R  DW3C5X16R DW2C5X16R  DI3C5X16R DI2C5X16R   \n",
       "294            DH3C5X15R            DW3C5X15R            DI3C5X15R   \n",
       "304  DH3C6X15R DH2C6X15R  DW3C6X15R DW2C6X15R  DI3C6X15R DI2C6X15R   \n",
       "310            DH3C6X14R            DW3C6X14R            DI3C6X14R   \n",
       "343                  NaN                  NaN                  NaN   \n",
       "464                  NaN                  NaN                  NaN   \n",
       "467                  NaN                  NaN                  NaN   \n",
       "\n",
       "         American Indian                Asian     Pacific Islander  \\\n",
       "273            D33C4X17R            D43C4X17R            D23C4X17R   \n",
       "280            D33C4X16R            D43C4X16R            D23C4X16R   \n",
       "288  D33C5X16R D32C5X16R  D43C5X16R D42C5X16R  D23C5X16R D22C5X16R   \n",
       "294            D33C5X15R            D43C5X15R            D23C5X15R   \n",
       "304  D33C6X15R D32C6X15R  D43C6X15R D42C6X15R  D23C6X15R D22C6X15R   \n",
       "310            D33C6X14R            D43C6X14R            D23C6X14R   \n",
       "343                  NaN                  NaN                  NaN   \n",
       "464                  NaN                  NaN                  NaN   \n",
       "467                  NaN                  NaN                  NaN   \n",
       "\n",
       "       Two or More Races           Special Ed          Econ Disadv   EL  \\\n",
       "273            DS3C4X17R            DE3C4X17R            DL3C4X17R  NaN   \n",
       "280            DS3C4X16R            DE3C4X16R            DL3C4X16R  NaN   \n",
       "288  DS3C5X16R DS2C5X16R  DE3C5X16R DE2C5X16R  DL3C5X16R DL2C5X16R  NaN   \n",
       "294            DS3C5X15R            DE3C5X15R            DL3C5X15R  NaN   \n",
       "304  DS3C6X15R DS2C6X15R  DE3C6X15R DE2C6X15R  DL3C6X15R DL2C6X15R  NaN   \n",
       "310            DS3C6X14R            DE3C6X14R            DL3C6X14R  NaN   \n",
       "343                  NaN                  NaN                  NaN  NaN   \n",
       "464                  NaN                  NaN                  NaN  NaN   \n",
       "467                  NaN                  NaN                  NaN  NaN   \n",
       "\n",
       "    Unnamed: 15  \n",
       "273         NaN  \n",
       "280         NaN  \n",
       "288         NaN  \n",
       "294         NaN  \n",
       "304         NaN  \n",
       "310         NaN  \n",
       "343         NaN  \n",
       "464         NaN  \n",
       "467         NaN  "
      ]
     },
     "execution_count": 110,
     "metadata": {},
     "output_type": "execute_result"
    }
   ],
   "source": [
    "Data_Level='District'\n",
    "year=None\n",
    "detail='Y'\n",
    "file_path = 'TX_data/datadict/district_processed/'\n",
    "csv_files = [os.path.join(file_path, f) for f in os.listdir(file_path) if f.endswith(\".csv\") and f.startswith('datadict')]\n",
    "elements=[]\n",
    "\n",
    "\n",
    "# 从这里开始改原来的函数\n",
    "\n",
    "Data_field=None\n",
    "#Data_field='4-Year Longitudinal Rate (Gr 9-12)'\n",
    "#Data_field='Graduates and TxCHSE'\n",
    "\n",
    "#Subcategory='Graduates and GED'\n",
    "Subcategory='Graduates'\n",
    "\n",
    "\n",
    "output = pd.read_csv(csv_files[1])\n",
    "if Data_field is not None:\n",
    "    output = output.loc[(output.iloc[:, 0].str.startswith(Data_field)) & (~output.iloc[:, 0].isna()), :]\n",
    "\n",
    "if Subcategory is not None:\n",
    "    #output=output.loc[ output.iloc[:,1]==Subcategory ,:]\n",
    "    output=output.loc[ output.iloc[:,1].str.startswith(Subcategory) ,:]\n",
    "\n",
    "output\n",
    "# 这个有问题。之前合并的时候存在一些。目前只有2017按我想要的方式运行了"
   ]
  }
 ],
 "metadata": {
  "kernelspec": {
   "display_name": "base",
   "language": "python",
   "name": "python3"
  },
  "language_info": {
   "codemirror_mode": {
    "name": "ipython",
    "version": 3
   },
   "file_extension": ".py",
   "mimetype": "text/x-python",
   "name": "python",
   "nbconvert_exporter": "python",
   "pygments_lexer": "ipython3",
   "version": "3.9.12"
  },
  "orig_nbformat": 4,
  "vscode": {
   "interpreter": {
    "hash": "ab8f8ae80fafc6ac129e7fe646a0be18ed2869456ff4c93941a37a28edfebd3f"
   }
  }
 },
 "nbformat": 4,
 "nbformat_minor": 2
}
