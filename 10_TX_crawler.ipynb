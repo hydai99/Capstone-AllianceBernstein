{
 "cells": [
  {
   "attachments": {},
   "cell_type": "markdown",
   "metadata": {},
   "source": [
    "# 1. web data\n",
    " we’d want at least a 5-year history which will involve pulling from 3 different sites from what I’ve seen.\n",
    "\n",
    " Eventually we’ll want every district’s data so we can compare to the entire state average. I made a ranking in column F if there is a need to prioritize, Dallas ISD is the second most important district. One thing I noticed is that my list uses the whole phrase “Independent School District”, but the website uses the abbreviation of “ISD” they’re the same thing.\n",
    "\n",
    " \n",
    "\n",
    "For the file format, we’re going to have all the data loaded into an internal database and my guess would be that it’d be easiest to do that if they were all in the same xlsx but I’m not an expert on the best way to structure that, so I’ll defer to Che’s experiences. For each district it would be helpful to have their district ID in the file, for example Dallas’s ID is 057905."
   ]
  },
  {
   "attachments": {},
   "cell_type": "markdown",
   "metadata": {},
   "source": [
    "## site 1. \n",
    "The first site has the 3 most recent school years and should be where we start, for our example of Dallas ISD you’ll need to select the below inputs and Search then View the Report. Once you view the report, you’ll have to use the “Prev Year” link to get the older data.\n",
    "\n",
    "School years: 2021-22, 2020-21, and 2018-19\n",
    " "
   ]
  },
  {
   "attachments": {},
   "cell_type": "markdown",
   "metadata": {},
   "source": [
    "#### 1. get district id:\n",
    "   \n",
    "https://schoolsdata2-93b5c-tea-texas.opendata.arcgis.com/datasets/districts2020to2021/explore?location=32.706217%2C-96.751111%2C10.31\n",
    "\n",
    "https://schoolsdata2-db440-tea-texas.opendata.arcgis.com/ \n",
    "\n",
    "match id with sample file -> check missing district id."
   ]
  },
  {
   "cell_type": "code",
   "execution_count": null,
   "metadata": {},
   "outputs": [
    {
     "name": "stdout",
     "output_type": "stream",
     "text": [
      "1210\n",
      "['big sandy isd', 'centerville isd', 'chapel hill isd', 'dawson isd', 'edgewood isd', 'highland park isd', 'hubbard isd', 'midway isd', 'northside isd', 'valley view isd', 'wylie isd']\n"
     ]
    },
    {
     "data": {
      "text/html": [
       "<div>\n",
       "<style scoped>\n",
       "    .dataframe tbody tr th:only-of-type {\n",
       "        vertical-align: middle;\n",
       "    }\n",
       "\n",
       "    .dataframe tbody tr th {\n",
       "        vertical-align: top;\n",
       "    }\n",
       "\n",
       "    .dataframe thead th {\n",
       "        text-align: right;\n",
       "    }\n",
       "</style>\n",
       "<table border=\"1\" class=\"dataframe\">\n",
       "  <thead>\n",
       "    <tr style=\"text-align: right;\">\n",
       "      <th></th>\n",
       "      <th>district_name</th>\n",
       "    </tr>\n",
       "  </thead>\n",
       "  <tbody>\n",
       "    <tr>\n",
       "      <th>0</th>\n",
       "      <td>hemphill isd</td>\n",
       "    </tr>\n",
       "    <tr>\n",
       "      <th>1</th>\n",
       "      <td>sabine isd</td>\n",
       "    </tr>\n",
       "    <tr>\n",
       "      <th>2</th>\n",
       "      <td>san marcos cisd</td>\n",
       "    </tr>\n",
       "    <tr>\n",
       "      <th>3</th>\n",
       "      <td>crawford isd</td>\n",
       "    </tr>\n",
       "    <tr>\n",
       "      <th>4</th>\n",
       "      <td>albany isd</td>\n",
       "    </tr>\n",
       "    <tr>\n",
       "      <th>...</th>\n",
       "      <td>...</td>\n",
       "    </tr>\n",
       "    <tr>\n",
       "      <th>1194</th>\n",
       "      <td>rocksprings isd</td>\n",
       "    </tr>\n",
       "    <tr>\n",
       "      <th>1195</th>\n",
       "      <td>guthrie csd</td>\n",
       "    </tr>\n",
       "    <tr>\n",
       "      <th>1196</th>\n",
       "      <td>onalaska isd</td>\n",
       "    </tr>\n",
       "    <tr>\n",
       "      <th>1197</th>\n",
       "      <td>clarksville isd</td>\n",
       "    </tr>\n",
       "    <tr>\n",
       "      <th>1198</th>\n",
       "      <td>city view isd</td>\n",
       "    </tr>\n",
       "  </tbody>\n",
       "</table>\n",
       "<p>1199 rows × 1 columns</p>\n",
       "</div>"
      ],
      "text/plain": [
       "        district_name\n",
       "0        hemphill isd\n",
       "1          sabine isd\n",
       "2     san marcos cisd\n",
       "3        crawford isd\n",
       "4          albany isd\n",
       "...               ...\n",
       "1194  rocksprings isd\n",
       "1195      guthrie csd\n",
       "1196     onalaska isd\n",
       "1197  clarksville isd\n",
       "1198    city view isd\n",
       "\n",
       "[1199 rows x 1 columns]"
      ]
     },
     "metadata": {},
     "output_type": "display_data"
    }
   ],
   "source": [
    "\n",
    "\n",
    "k12=pd.read_csv('Capstone Project_ Impact Primary_Secondary Education/K_12_HIPinvestor.csv')\n",
    "k12_tx=k12[k12['State Abbreviation']=='TX']\n",
    "Ktx_dname=list(k12_tx['Impact Entity Name'].str.replace(', TX','').str.lower())\n",
    "print(len(Ktx_dname))\n",
    "#print(len(k12_tx['Impact Entity Name'].str.replace(', TX','').str.lower())) # 1210\n",
    "\n",
    "# Check duplicate district name\n",
    "from collections import Counter\n",
    "d_dup1=[k for k, v in Counter(Ktx_dname).items() if v > 1]\n",
    "print(d_dup1)\n",
    "\n",
    "Ktx_dname=set(Ktx_dname)\n",
    "Ktx=pd.DataFrame(Ktx_dname,columns=['district_name'])\n",
    "Ktx"
   ]
  },
  {
   "cell_type": "code",
   "execution_count": null,
   "metadata": {},
   "outputs": [
    {
     "data": {
      "text/html": [
       "<div>\n",
       "<style scoped>\n",
       "    .dataframe tbody tr th:only-of-type {\n",
       "        vertical-align: middle;\n",
       "    }\n",
       "\n",
       "    .dataframe tbody tr th {\n",
       "        vertical-align: top;\n",
       "    }\n",
       "\n",
       "    .dataframe thead th {\n",
       "        text-align: right;\n",
       "    }\n",
       "</style>\n",
       "<table border=\"1\" class=\"dataframe\">\n",
       "  <thead>\n",
       "    <tr style=\"text-align: right;\">\n",
       "      <th></th>\n",
       "      <th>district_name</th>\n",
       "      <th>district_id</th>\n",
       "    </tr>\n",
       "  </thead>\n",
       "  <tbody>\n",
       "    <tr>\n",
       "      <th>0</th>\n",
       "      <td>weslaco isd</td>\n",
       "      <td>108913</td>\n",
       "    </tr>\n",
       "    <tr>\n",
       "      <th>1</th>\n",
       "      <td>donna isd</td>\n",
       "      <td>108902</td>\n",
       "    </tr>\n",
       "    <tr>\n",
       "      <th>2</th>\n",
       "      <td>wylie isd</td>\n",
       "      <td>043914</td>\n",
       "    </tr>\n",
       "    <tr>\n",
       "      <th>3</th>\n",
       "      <td>round rock isd</td>\n",
       "      <td>246909</td>\n",
       "    </tr>\n",
       "    <tr>\n",
       "      <th>4</th>\n",
       "      <td>college station isd</td>\n",
       "      <td>021901</td>\n",
       "    </tr>\n",
       "    <tr>\n",
       "      <th>...</th>\n",
       "      <td>...</td>\n",
       "      <td>...</td>\n",
       "    </tr>\n",
       "    <tr>\n",
       "      <th>9460</th>\n",
       "      <td>yantis isd</td>\n",
       "      <td>250905</td>\n",
       "    </tr>\n",
       "    <tr>\n",
       "      <th>9465</th>\n",
       "      <td>yellowstone college preparatory</td>\n",
       "      <td>101873</td>\n",
       "    </tr>\n",
       "    <tr>\n",
       "      <th>9482</th>\n",
       "      <td>yoakum isd</td>\n",
       "      <td>062903</td>\n",
       "    </tr>\n",
       "    <tr>\n",
       "      <th>9488</th>\n",
       "      <td>yorktown isd</td>\n",
       "      <td>062904</td>\n",
       "    </tr>\n",
       "    <tr>\n",
       "      <th>9538</th>\n",
       "      <td>zephyr isd</td>\n",
       "      <td>025906</td>\n",
       "    </tr>\n",
       "  </tbody>\n",
       "</table>\n",
       "<p>1215 rows × 2 columns</p>\n",
       "</div>"
      ],
      "text/plain": [
       "                        district_name district_id\n",
       "0                         weslaco isd      108913\n",
       "1                           donna isd      108902\n",
       "2                           wylie isd      043914\n",
       "3                      round rock isd      246909\n",
       "4                 college station isd      021901\n",
       "...                               ...         ...\n",
       "9460                       yantis isd      250905\n",
       "9465  yellowstone college preparatory      101873\n",
       "9482                       yoakum isd      062903\n",
       "9488                     yorktown isd      062904\n",
       "9538                       zephyr isd      025906\n",
       "\n",
       "[1215 rows x 2 columns]"
      ]
     },
     "metadata": {},
     "output_type": "display_data"
    }
   ],
   "source": [
    "# Reference: https://schoolsdata2-93b5c-tea-texas.opendata.arcgis.com/datasets/school2020to2021/explore?location=31.071573%2C-100.146608%2C6.75\n",
    "district=pd.read_csv('TXdistrict/School2020to2021.csv')[['District_N','District_1']].rename(columns={'District_1':'district_id','District_N':'district_name'})\n",
    "district['district_name']=district['district_name'].str.lower()\n",
    "district['district_id']=district['district_id'].apply(lambda x: str(x).zfill(6))\n",
    "district=district.drop_duplicates()\n",
    "district"
   ]
  },
  {
   "cell_type": "code",
   "execution_count": null,
   "metadata": {},
   "outputs": [
    {
     "data": {
      "text/html": [
       "<div>\n",
       "<style scoped>\n",
       "    .dataframe tbody tr th:only-of-type {\n",
       "        vertical-align: middle;\n",
       "    }\n",
       "\n",
       "    .dataframe tbody tr th {\n",
       "        vertical-align: top;\n",
       "    }\n",
       "\n",
       "    .dataframe thead th {\n",
       "        text-align: right;\n",
       "    }\n",
       "</style>\n",
       "<table border=\"1\" class=\"dataframe\">\n",
       "  <thead>\n",
       "    <tr style=\"text-align: right;\">\n",
       "      <th></th>\n",
       "      <th>district_name</th>\n",
       "      <th>district_id</th>\n",
       "    </tr>\n",
       "  </thead>\n",
       "  <tbody>\n",
       "    <tr>\n",
       "      <th>0</th>\n",
       "      <td>hemphill isd</td>\n",
       "      <td>202903</td>\n",
       "    </tr>\n",
       "    <tr>\n",
       "      <th>1</th>\n",
       "      <td>sabine isd</td>\n",
       "      <td>092906</td>\n",
       "    </tr>\n",
       "    <tr>\n",
       "      <th>2</th>\n",
       "      <td>san marcos cisd</td>\n",
       "      <td>105902</td>\n",
       "    </tr>\n",
       "    <tr>\n",
       "      <th>3</th>\n",
       "      <td>crawford isd</td>\n",
       "      <td>161901</td>\n",
       "    </tr>\n",
       "    <tr>\n",
       "      <th>4</th>\n",
       "      <td>albany isd</td>\n",
       "      <td>209901</td>\n",
       "    </tr>\n",
       "    <tr>\n",
       "      <th>...</th>\n",
       "      <td>...</td>\n",
       "      <td>...</td>\n",
       "    </tr>\n",
       "    <tr>\n",
       "      <th>1205</th>\n",
       "      <td>rocksprings isd</td>\n",
       "      <td>069901</td>\n",
       "    </tr>\n",
       "    <tr>\n",
       "      <th>1206</th>\n",
       "      <td>guthrie csd</td>\n",
       "      <td>135001</td>\n",
       "    </tr>\n",
       "    <tr>\n",
       "      <th>1207</th>\n",
       "      <td>onalaska isd</td>\n",
       "      <td>187910</td>\n",
       "    </tr>\n",
       "    <tr>\n",
       "      <th>1208</th>\n",
       "      <td>clarksville isd</td>\n",
       "      <td>194904</td>\n",
       "    </tr>\n",
       "    <tr>\n",
       "      <th>1209</th>\n",
       "      <td>city view isd</td>\n",
       "      <td>243906</td>\n",
       "    </tr>\n",
       "  </tbody>\n",
       "</table>\n",
       "<p>1210 rows × 2 columns</p>\n",
       "</div>"
      ],
      "text/plain": [
       "        district_name district_id\n",
       "0        hemphill isd      202903\n",
       "1          sabine isd      092906\n",
       "2     san marcos cisd      105902\n",
       "3        crawford isd      161901\n",
       "4          albany isd      209901\n",
       "...               ...         ...\n",
       "1205  rocksprings isd      069901\n",
       "1206      guthrie csd      135001\n",
       "1207     onalaska isd      187910\n",
       "1208  clarksville isd      194904\n",
       "1209    city view isd      243906\n",
       "\n",
       "[1210 rows x 2 columns]"
      ]
     },
     "metadata": {},
     "output_type": "display_data"
    }
   ],
   "source": [
    "Ktx=pd.merge(Ktx,district,how='left',on='district_name')  # The number match\n",
    "Ktx "
   ]
  },
  {
   "cell_type": "code",
   "execution_count": null,
   "metadata": {},
   "outputs": [
    {
     "name": "stdout",
     "output_type": "stream",
     "text": [
      "['wylie isd', 'northside isd', 'edgewood isd', 'highland park isd', 'big sandy isd', 'midway isd', 'centerville isd', 'chapel hill isd', 'dawson isd', 'hubbard isd', 'valley view isd']\n"
     ]
    }
   ],
   "source": [
    "# Check duplicate district name\n",
    "from collections import Counter\n",
    "d_dup2=[k for k, v in Counter(district['district_name']).items() if v > 1]\n",
    "print(d_dup2)"
   ]
  },
  {
   "cell_type": "code",
   "execution_count": null,
   "metadata": {},
   "outputs": [
    {
     "data": {
      "text/plain": [
       "True"
      ]
     },
     "metadata": {},
     "output_type": "display_data"
    }
   ],
   "source": [
    "set(d_dup1)==set(d_dup2)"
   ]
  },
  {
   "attachments": {},
   "cell_type": "markdown",
   "metadata": {},
   "source": [
    "**Conclusion: All school distribute numbers in Texas have been found.**\n",
    "\n",
    "Save in dataframe Ktx"
   ]
  },
  {
   "attachments": {},
   "cell_type": "markdown",
   "metadata": {},
   "source": [
    "#### 2.1 web scraping for 3 year: 2021-22, 2020-21, and 2018-19 -> get excel report directly\n",
    "\n",
    "\n",
    "**Reference Link**\n",
    "\n",
    "base='https://rptsvr1.tea.texas.gov/perfreport/tprs/tprs_srch.html'\n",
    "\n",
    "https://rptsvr1.tea.texas.gov/cgi/sas/broker?_service=marykay&_program=perfrept.perfmast.sas&_debug=0&lev=D&id=057905&prgopt=reports%2Ftapr%2Fperformance.sas\n",
    "\n",
    "https://rptsvr1.tea.texas.gov/cgi/sas/broker?_service=marykay&_program=perfrept.perfmast.sas&_debug=0&lev=D&id=061912&prgopt=reports%2Ftapr%2Fperformance.sas\n",
    "\n",
    "Example:  id='057905', year='2021' \n",
    "\n",
    "ureport='https://rptsvr1.tea.texas.gov/cgi/sas/broker?_service=marykay&_program=perfrept.perfmast.sas&_debug=0&lev=D&id='+id+'&prgopt=reports%2Ftapr%2Fperformance.sas'\n",
    "\n",
    "this link will download a excel directly\n",
    "'https://rptsvr1.tea.texas.gov//cgi/sas/broker?_service=marykay&_program=perfrept.perfmast.sas&_debug=0&lev=D&id=057905&prgopt=reports%2Ftapr%2Fperformance.sas&dest=E'\n",
    "uexcel='https://rptsvr1.tea.texas.gov//cgi/sas/broker?_service=marykay&_program=perfrept.perfmast.sas&_debug=0&lev=D&id='+id+'&prgopt=reports%2Ftapr%2Fperformance.sas&dest=E'\n",
    "\n",
    "21-22:\n",
    "https://rptsvr1.tea.texas.gov/cgi/sas/broker?_service=marykay&_program=perfrept.perfmast.sas&_debug=0&lev=D&id=057905&prgopt=reports/tapr/performance.sas&ccyy_value=2022\n",
    "\n",
    "20-21:\n",
    "https://rptsvr1.tea.texas.gov/cgi/sas/broker?_service=marykay&_program=perfrept.perfmast.sas&_debug=0&lev=D&id=057905&prgopt=reports/tapr/performance.sas&ccyy_value=2021\n",
    "\n",
    "18-19:\n",
    "https://rptsvr1.tea.texas.gov/cgi/sas/broker?_service=marykay&_program=perfrept.perfmast.sas&_debug=0&lev=D&id=057905&prgopt=reports/tapr/performance.sas&ccyy_value=2019\n",
    "\n"
   ]
  },
  {
   "cell_type": "code",
   "execution_count": null,
   "metadata": {},
   "outputs": [],
   "source": [
    "import os\n",
    "\n",
    "\n",
    "years=['2019','2021','2022']\n",
    "for name,id in zip(Ktx['district_name'],Ktx['district_id']):\n",
    "    for year in years:\n",
    "        uexcel='https://rptsvr1.tea.texas.gov/cgi/sas/broker?_service=marykay&_program=perfrept.perfmast.sas&_debug=0&lev=D&id={}&prgopt=reports/tapr/performance.sas&ccyy_value={}&dest=E'.format(id,year)\n",
    "        response = requests.get(uexcel)\n",
    "        \n",
    "        folder_name = name\n",
    "        folder = os.path.join('excel report', folder_name)\n",
    "        file_name = id+'_'+year+'.xlsx'\n",
    "        file = os.path.join(folder, file_name)\n",
    "        os.makedirs(folder,exist_ok=True)\n",
    "        with open(file, 'wb') as f:\n",
    "            f.write(response.content) \n",
    "            \n",
    "            "
   ]
  }
 ],
 "metadata": {
  "kernelspec": {
   "display_name": "base",
   "language": "python",
   "name": "python3"
  },
  "language_info": {
   "name": "python",
   "version": "3.9.12"
  },
  "orig_nbformat": 4,
  "vscode": {
   "interpreter": {
    "hash": "ab8f8ae80fafc6ac129e7fe646a0be18ed2869456ff4c93941a37a28edfebd3f"
   }
  }
 },
 "nbformat": 4,
 "nbformat_minor": 2
}
